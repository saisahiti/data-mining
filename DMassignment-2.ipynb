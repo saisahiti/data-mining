{
 "cells": [
  {
   "cell_type": "markdown",
   "id": "7d64e27e",
   "metadata": {},
   "source": [
    "## Assignment-2\n",
    "\n",
    "### 1. In this exercise, we will predict the number of applications received using the other variables in the College data set in the ISLR2 package.\n",
    "\n",
    "#### a. Split the data set into a training set and a test set. Fit a linear model using least squares on the training set, and report the test error obtained."
   ]
  },
  {
   "cell_type": "code",
   "execution_count": 2,
   "id": "bad719ac",
   "metadata": {},
   "outputs": [
    {
     "name": "stderr",
     "output_type": "stream",
     "text": [
      "Installing package into 'C:/Users/Sahiti/AppData/Local/R/win-library/4.2'\n",
      "(as 'lib' is unspecified)\n",
      "\n"
     ]
    },
    {
     "name": "stdout",
     "output_type": "stream",
     "text": [
      "package 'ISLR2' successfully unpacked and MD5 sums checked\n",
      "\n",
      "The downloaded binary packages are in\n",
      "\tC:\\Users\\Sahiti\\AppData\\Local\\Temp\\RtmpSMXLaT\\downloaded_packages\n"
     ]
    }
   ],
   "source": [
    "install.packages(\"ISLR2\")\n",
    "library(\"ISLR2\")"
   ]
  },
  {
   "cell_type": "code",
   "execution_count": 3,
   "id": "ebaa9cfe",
   "metadata": {},
   "outputs": [],
   "source": [
    "collegeDf<-data.frame(College)"
   ]
  },
  {
   "cell_type": "code",
   "execution_count": 4,
   "id": "f8766d38",
   "metadata": {},
   "outputs": [
    {
     "data": {
      "text/html": [
       "<table class=\"dataframe\">\n",
       "<caption>A data.frame: 6 × 18</caption>\n",
       "<thead>\n",
       "\t<tr><th></th><th scope=col>Private</th><th scope=col>Apps</th><th scope=col>Accept</th><th scope=col>Enroll</th><th scope=col>Top10perc</th><th scope=col>Top25perc</th><th scope=col>F.Undergrad</th><th scope=col>P.Undergrad</th><th scope=col>Outstate</th><th scope=col>Room.Board</th><th scope=col>Books</th><th scope=col>Personal</th><th scope=col>PhD</th><th scope=col>Terminal</th><th scope=col>S.F.Ratio</th><th scope=col>perc.alumni</th><th scope=col>Expend</th><th scope=col>Grad.Rate</th></tr>\n",
       "\t<tr><th></th><th scope=col>&lt;fct&gt;</th><th scope=col>&lt;dbl&gt;</th><th scope=col>&lt;dbl&gt;</th><th scope=col>&lt;dbl&gt;</th><th scope=col>&lt;dbl&gt;</th><th scope=col>&lt;dbl&gt;</th><th scope=col>&lt;dbl&gt;</th><th scope=col>&lt;dbl&gt;</th><th scope=col>&lt;dbl&gt;</th><th scope=col>&lt;dbl&gt;</th><th scope=col>&lt;dbl&gt;</th><th scope=col>&lt;dbl&gt;</th><th scope=col>&lt;dbl&gt;</th><th scope=col>&lt;dbl&gt;</th><th scope=col>&lt;dbl&gt;</th><th scope=col>&lt;dbl&gt;</th><th scope=col>&lt;dbl&gt;</th><th scope=col>&lt;dbl&gt;</th></tr>\n",
       "</thead>\n",
       "<tbody>\n",
       "\t<tr><th scope=row>Abilene Christian University</th><td>Yes</td><td>1660</td><td>1232</td><td>721</td><td>23</td><td>52</td><td>2885</td><td> 537</td><td> 7440</td><td>3300</td><td>450</td><td>2200</td><td>70</td><td>78</td><td>18.1</td><td>12</td><td> 7041</td><td>60</td></tr>\n",
       "\t<tr><th scope=row>Adelphi University</th><td>Yes</td><td>2186</td><td>1924</td><td>512</td><td>16</td><td>29</td><td>2683</td><td>1227</td><td>12280</td><td>6450</td><td>750</td><td>1500</td><td>29</td><td>30</td><td>12.2</td><td>16</td><td>10527</td><td>56</td></tr>\n",
       "\t<tr><th scope=row>Adrian College</th><td>Yes</td><td>1428</td><td>1097</td><td>336</td><td>22</td><td>50</td><td>1036</td><td>  99</td><td>11250</td><td>3750</td><td>400</td><td>1165</td><td>53</td><td>66</td><td>12.9</td><td>30</td><td> 8735</td><td>54</td></tr>\n",
       "\t<tr><th scope=row>Agnes Scott College</th><td>Yes</td><td> 417</td><td> 349</td><td>137</td><td>60</td><td>89</td><td> 510</td><td>  63</td><td>12960</td><td>5450</td><td>450</td><td> 875</td><td>92</td><td>97</td><td> 7.7</td><td>37</td><td>19016</td><td>59</td></tr>\n",
       "\t<tr><th scope=row>Alaska Pacific University</th><td>Yes</td><td> 193</td><td> 146</td><td> 55</td><td>16</td><td>44</td><td> 249</td><td> 869</td><td> 7560</td><td>4120</td><td>800</td><td>1500</td><td>76</td><td>72</td><td>11.9</td><td> 2</td><td>10922</td><td>15</td></tr>\n",
       "\t<tr><th scope=row>Albertson College</th><td>Yes</td><td> 587</td><td> 479</td><td>158</td><td>38</td><td>62</td><td> 678</td><td>  41</td><td>13500</td><td>3335</td><td>500</td><td> 675</td><td>67</td><td>73</td><td> 9.4</td><td>11</td><td> 9727</td><td>55</td></tr>\n",
       "</tbody>\n",
       "</table>\n"
      ],
      "text/latex": [
       "A data.frame: 6 × 18\n",
       "\\begin{tabular}{r|llllllllllllllllll}\n",
       "  & Private & Apps & Accept & Enroll & Top10perc & Top25perc & F.Undergrad & P.Undergrad & Outstate & Room.Board & Books & Personal & PhD & Terminal & S.F.Ratio & perc.alumni & Expend & Grad.Rate\\\\\n",
       "  & <fct> & <dbl> & <dbl> & <dbl> & <dbl> & <dbl> & <dbl> & <dbl> & <dbl> & <dbl> & <dbl> & <dbl> & <dbl> & <dbl> & <dbl> & <dbl> & <dbl> & <dbl>\\\\\n",
       "\\hline\n",
       "\tAbilene Christian University & Yes & 1660 & 1232 & 721 & 23 & 52 & 2885 &  537 &  7440 & 3300 & 450 & 2200 & 70 & 78 & 18.1 & 12 &  7041 & 60\\\\\n",
       "\tAdelphi University & Yes & 2186 & 1924 & 512 & 16 & 29 & 2683 & 1227 & 12280 & 6450 & 750 & 1500 & 29 & 30 & 12.2 & 16 & 10527 & 56\\\\\n",
       "\tAdrian College & Yes & 1428 & 1097 & 336 & 22 & 50 & 1036 &   99 & 11250 & 3750 & 400 & 1165 & 53 & 66 & 12.9 & 30 &  8735 & 54\\\\\n",
       "\tAgnes Scott College & Yes &  417 &  349 & 137 & 60 & 89 &  510 &   63 & 12960 & 5450 & 450 &  875 & 92 & 97 &  7.7 & 37 & 19016 & 59\\\\\n",
       "\tAlaska Pacific University & Yes &  193 &  146 &  55 & 16 & 44 &  249 &  869 &  7560 & 4120 & 800 & 1500 & 76 & 72 & 11.9 &  2 & 10922 & 15\\\\\n",
       "\tAlbertson College & Yes &  587 &  479 & 158 & 38 & 62 &  678 &   41 & 13500 & 3335 & 500 &  675 & 67 & 73 &  9.4 & 11 &  9727 & 55\\\\\n",
       "\\end{tabular}\n"
      ],
      "text/markdown": [
       "\n",
       "A data.frame: 6 × 18\n",
       "\n",
       "| <!--/--> | Private &lt;fct&gt; | Apps &lt;dbl&gt; | Accept &lt;dbl&gt; | Enroll &lt;dbl&gt; | Top10perc &lt;dbl&gt; | Top25perc &lt;dbl&gt; | F.Undergrad &lt;dbl&gt; | P.Undergrad &lt;dbl&gt; | Outstate &lt;dbl&gt; | Room.Board &lt;dbl&gt; | Books &lt;dbl&gt; | Personal &lt;dbl&gt; | PhD &lt;dbl&gt; | Terminal &lt;dbl&gt; | S.F.Ratio &lt;dbl&gt; | perc.alumni &lt;dbl&gt; | Expend &lt;dbl&gt; | Grad.Rate &lt;dbl&gt; |\n",
       "|---|---|---|---|---|---|---|---|---|---|---|---|---|---|---|---|---|---|---|\n",
       "| Abilene Christian University | Yes | 1660 | 1232 | 721 | 23 | 52 | 2885 |  537 |  7440 | 3300 | 450 | 2200 | 70 | 78 | 18.1 | 12 |  7041 | 60 |\n",
       "| Adelphi University | Yes | 2186 | 1924 | 512 | 16 | 29 | 2683 | 1227 | 12280 | 6450 | 750 | 1500 | 29 | 30 | 12.2 | 16 | 10527 | 56 |\n",
       "| Adrian College | Yes | 1428 | 1097 | 336 | 22 | 50 | 1036 |   99 | 11250 | 3750 | 400 | 1165 | 53 | 66 | 12.9 | 30 |  8735 | 54 |\n",
       "| Agnes Scott College | Yes |  417 |  349 | 137 | 60 | 89 |  510 |   63 | 12960 | 5450 | 450 |  875 | 92 | 97 |  7.7 | 37 | 19016 | 59 |\n",
       "| Alaska Pacific University | Yes |  193 |  146 |  55 | 16 | 44 |  249 |  869 |  7560 | 4120 | 800 | 1500 | 76 | 72 | 11.9 |  2 | 10922 | 15 |\n",
       "| Albertson College | Yes |  587 |  479 | 158 | 38 | 62 |  678 |   41 | 13500 | 3335 | 500 |  675 | 67 | 73 |  9.4 | 11 |  9727 | 55 |\n",
       "\n"
      ],
      "text/plain": [
       "                             Private Apps Accept Enroll Top10perc Top25perc\n",
       "Abilene Christian University Yes     1660 1232   721    23        52       \n",
       "Adelphi University           Yes     2186 1924   512    16        29       \n",
       "Adrian College               Yes     1428 1097   336    22        50       \n",
       "Agnes Scott College          Yes      417  349   137    60        89       \n",
       "Alaska Pacific University    Yes      193  146    55    16        44       \n",
       "Albertson College            Yes      587  479   158    38        62       \n",
       "                             F.Undergrad P.Undergrad Outstate Room.Board Books\n",
       "Abilene Christian University 2885         537         7440    3300       450  \n",
       "Adelphi University           2683        1227        12280    6450       750  \n",
       "Adrian College               1036          99        11250    3750       400  \n",
       "Agnes Scott College           510          63        12960    5450       450  \n",
       "Alaska Pacific University     249         869         7560    4120       800  \n",
       "Albertson College             678          41        13500    3335       500  \n",
       "                             Personal PhD Terminal S.F.Ratio perc.alumni Expend\n",
       "Abilene Christian University 2200     70  78       18.1      12           7041 \n",
       "Adelphi University           1500     29  30       12.2      16          10527 \n",
       "Adrian College               1165     53  66       12.9      30           8735 \n",
       "Agnes Scott College           875     92  97        7.7      37          19016 \n",
       "Alaska Pacific University    1500     76  72       11.9       2          10922 \n",
       "Albertson College             675     67  73        9.4      11           9727 \n",
       "                             Grad.Rate\n",
       "Abilene Christian University 60       \n",
       "Adelphi University           56       \n",
       "Adrian College               54       \n",
       "Agnes Scott College          59       \n",
       "Alaska Pacific University    15       \n",
       "Albertson College            55       "
      ]
     },
     "metadata": {},
     "output_type": "display_data"
    }
   ],
   "source": [
    "head(collegeDf)"
   ]
  },
  {
   "cell_type": "markdown",
   "id": "8f9703ee",
   "metadata": {},
   "source": [
    "Loading the libraries required for evaluating test metrics and splitting the dataset."
   ]
  },
  {
   "cell_type": "code",
   "execution_count": 5,
   "id": "1f10a257",
   "metadata": {},
   "outputs": [
    {
     "name": "stderr",
     "output_type": "stream",
     "text": [
      "\n",
      "Attaching package: 'dplyr'\n",
      "\n",
      "\n",
      "The following objects are masked from 'package:plyr':\n",
      "\n",
      "    arrange, count, desc, failwith, id, mutate, rename, summarise,\n",
      "    summarize\n",
      "\n",
      "\n",
      "The following objects are masked from 'package:stats':\n",
      "\n",
      "    filter, lag\n",
      "\n",
      "\n",
      "The following objects are masked from 'package:base':\n",
      "\n",
      "    intersect, setdiff, setequal, union\n",
      "\n",
      "\n",
      "Loading required package: ggplot2\n",
      "\n",
      "Loading required package: lattice\n",
      "\n"
     ]
    }
   ],
   "source": [
    "library(plyr)\n",
    "library(readr)\n",
    "library(dplyr)\n",
    "library(caret)\n",
    "library(ggplot2)\n",
    "library(repr)"
   ]
  },
  {
   "cell_type": "markdown",
   "id": "eba6644f",
   "metadata": {},
   "source": [
    "Setting the seed value to reproduce accurate results."
   ]
  },
  {
   "cell_type": "code",
   "execution_count": 6,
   "id": "a5673d4a",
   "metadata": {},
   "outputs": [],
   "source": [
    "set.seed(125)"
   ]
  },
  {
   "cell_type": "markdown",
   "id": "23370cc3",
   "metadata": {},
   "source": [
    "Splitting the dataset into training and test"
   ]
  },
  {
   "cell_type": "code",
   "execution_count": 7,
   "id": "8dc64aff",
   "metadata": {},
   "outputs": [],
   "source": [
    "library(caTools)"
   ]
  },
  {
   "cell_type": "code",
   "execution_count": 8,
   "id": "caf0ed90",
   "metadata": {},
   "outputs": [],
   "source": [
    "splitDf <- sample.split(collegeDf$Apps, SplitRatio = 0.7)"
   ]
  },
  {
   "cell_type": "code",
   "execution_count": 9,
   "id": "c37f300e",
   "metadata": {},
   "outputs": [
    {
     "name": "stdout",
     "output_type": "stream",
     "text": [
      " logi [1:777] FALSE TRUE TRUE TRUE FALSE FALSE ...\n"
     ]
    }
   ],
   "source": [
    "glimpse(splitDf)"
   ]
  },
  {
   "cell_type": "code",
   "execution_count": 10,
   "id": "b4530a6d",
   "metadata": {},
   "outputs": [],
   "source": [
    "trainingData = subset(collegeDf, splitDf= True)"
   ]
  },
  {
   "cell_type": "code",
   "execution_count": 11,
   "id": "e4a86958",
   "metadata": {},
   "outputs": [],
   "source": [
    "testData = subset(collegeDf, splitDf = False)"
   ]
  },
  {
   "cell_type": "markdown",
   "id": "a7ffa168",
   "metadata": {},
   "source": [
    "-------------------------------------------------------------------------------------------------------------------------------\n",
    "Scaling the numeric features"
   ]
  },
  {
   "cell_type": "code",
   "execution_count": 12,
   "id": "f887e60d",
   "metadata": {},
   "outputs": [],
   "source": [
    "preProcessObj <- preProcess(trainingData, method = c('center', 'scale'))\n",
    "#After preprocessing, let us predict\n",
    "trainingData <- predict(preProcessObj, trainingData)\n",
    "testData <- predict(preProcessObj, testData)"
   ]
  },
  {
   "cell_type": "code",
   "execution_count": 13,
   "id": "00da20fc",
   "metadata": {},
   "outputs": [
    {
     "data": {
      "text/plain": [
       " Private        Apps             Accept            Enroll       \n",
       " No :212   Min.   :-0.7546   Min.   :-0.7943   Min.   :-0.8018  \n",
       " Yes:565   1st Qu.:-0.5751   1st Qu.:-0.5772   1st Qu.:-0.5790  \n",
       "           Median :-0.3730   Median :-0.3708   Median :-0.3723  \n",
       "           Mean   : 0.0000   Mean   : 0.0000   Mean   : 0.0000  \n",
       "           3rd Qu.: 0.1608   3rd Qu.: 0.1653   3rd Qu.: 0.1313  \n",
       "           Max.   :11.6512   Max.   : 9.9184   Max.   : 6.0398  \n",
       "   Top10perc         Top25perc         F.Undergrad       P.Undergrad      \n",
       " Min.   :-1.5056   Min.   :-2.36290   Min.   :-0.7341   Min.   :-0.56114  \n",
       " 1st Qu.:-0.7119   1st Qu.:-0.74713   1st Qu.:-0.5583   1st Qu.:-0.49940  \n",
       " Median :-0.2584   Median :-0.09072   Median :-0.4109   Median :-0.32993  \n",
       " Mean   : 0.0000   Mean   : 0.00000   Mean   : 0.0000   Mean   : 0.00000  \n",
       " 3rd Qu.: 0.4218   3rd Qu.: 0.66667   3rd Qu.: 0.0629   3rd Qu.: 0.07337  \n",
       " Max.   : 3.8798   Max.   : 2.23195   Max.   : 5.7610   Max.   :13.78104  \n",
       "    Outstate         Room.Board          Books            Personal      \n",
       " Min.   :-2.0136   Min.   :-2.3503   Min.   :-2.7460   Min.   :-1.6108  \n",
       " 1st Qu.:-0.7757   1st Qu.:-0.6935   1st Qu.:-0.4808   1st Qu.:-0.7247  \n",
       " Median :-0.1120   Median :-0.1436   Median :-0.2991   Median :-0.2077  \n",
       " Mean   : 0.0000   Mean   : 0.0000   Mean   : 0.0000   Mean   : 0.0000  \n",
       " 3rd Qu.: 0.6175   3rd Qu.: 0.6314   3rd Qu.: 0.3066   3rd Qu.: 0.5308  \n",
       " Max.   : 2.7987   Max.   : 3.4344   Max.   :10.8453   Max.   : 8.0632  \n",
       "      PhD             Terminal         S.F.Ratio        perc.alumni     \n",
       " Min.   :-3.9600   Min.   :-3.7835   Min.   :-2.9279   Min.   :-1.8354  \n",
       " 1st Qu.:-0.6529   1st Qu.:-0.5911   1st Qu.:-0.6542   1st Qu.:-0.7863  \n",
       " Median : 0.1433   Median : 0.1560   Median :-0.1237   Median :-0.1407  \n",
       " Mean   : 0.0000   Mean   : 0.0000   Mean   : 0.0000   Mean   : 0.0000  \n",
       " 3rd Qu.: 0.7557   3rd Qu.: 0.8353   3rd Qu.: 0.6089   3rd Qu.: 0.6663  \n",
       " Max.   : 1.8581   Max.   : 1.3787   Max.   : 6.4952   Max.   : 3.3293  \n",
       "     Expend          Grad.Rate       \n",
       " Min.   :-1.2398   Min.   :-3.22880  \n",
       " 1st Qu.:-0.5571   1st Qu.:-0.72555  \n",
       " Median :-0.2457   Median :-0.02697  \n",
       " Mean   : 0.0000   Mean   : 0.00000  \n",
       " 3rd Qu.: 0.2240   3rd Qu.: 0.72982  \n",
       " Max.   : 8.9190   Max.   : 3.05842  "
      ]
     },
     "metadata": {},
     "output_type": "display_data"
    }
   ],
   "source": [
    "summary(trainingData)"
   ]
  },
  {
   "cell_type": "markdown",
   "id": "61623081",
   "metadata": {},
   "source": [
    "Performing linear regression model on the dataset"
   ]
  },
  {
   "cell_type": "code",
   "execution_count": 14,
   "id": "59743619",
   "metadata": {},
   "outputs": [
    {
     "data": {
      "text/plain": [
       "\n",
       "Call:\n",
       "lm(formula = Apps ~ ., data = trainingData)\n",
       "\n",
       "Residuals:\n",
       "     Min       1Q   Median       3Q      Max \n",
       "-1.26836 -0.11116 -0.00762  0.08328  2.02896 \n",
       "\n",
       "Coefficients:\n",
       "              Estimate Std. Error t value Pr(>|t|)    \n",
       "(Intercept)  0.0928436  0.0276336   3.360 0.000819 ***\n",
       "PrivateYes  -0.1276804  0.0356085  -3.586 0.000358 ***\n",
       "Accept       1.0043390  0.0258023  38.924  < 2e-16 ***\n",
       "Enroll      -0.2114403  0.0446464  -4.736 2.60e-06 ***\n",
       "Top10perc    0.2275638  0.0254256   8.950  < 2e-16 ***\n",
       "Top25perc   -0.0728413  0.0229209  -3.178 0.001543 ** \n",
       "F.Undergrad  0.0719256  0.0410000   1.754 0.079785 .  \n",
       "P.Undergrad  0.0174841  0.0126434   1.383 0.167114    \n",
       "Outstate    -0.0892606  0.0198081  -4.506 7.64e-06 ***\n",
       "Room.Board   0.0427964  0.0136848   3.127 0.001832 ** \n",
       "Books        0.0008915  0.0101706   0.088 0.930175    \n",
       "Personal     0.0054416  0.0110348   0.493 0.622060    \n",
       "PhD         -0.0366141  0.0195681  -1.871 0.061714 .  \n",
       "Terminal    -0.0126699  0.0193813  -0.654 0.513492    \n",
       "S.F.Ratio    0.0157401  0.0133025   1.183 0.237081    \n",
       "perc.alumni  0.0005721  0.0131350   0.044 0.965273    \n",
       "Expend       0.1051009  0.0166611   6.308 4.79e-10 ***\n",
       "Grad.Rate    0.0384709  0.0130887   2.939 0.003390 ** \n",
       "---\n",
       "Signif. codes:  0 '***' 0.001 '**' 0.01 '*' 0.05 '.' 0.1 ' ' 1\n",
       "\n",
       "Residual standard error: 0.2691 on 759 degrees of freedom\n",
       "Multiple R-squared:  0.9292,\tAdjusted R-squared:  0.9276 \n",
       "F-statistic: 585.9 on 17 and 759 DF,  p-value: < 2.2e-16\n"
      ]
     },
     "metadata": {},
     "output_type": "display_data"
    }
   ],
   "source": [
    "lr = lm(Apps ~., data = trainingData)\n",
    "summary(lr)"
   ]
  },
  {
   "cell_type": "markdown",
   "id": "35f476e1",
   "metadata": {},
   "source": [
    "From the above statistics, we got to know that R-squared error is equal to 0.929 which means that the explanatory variables can perfectly explain the variance in the response variable. Also the adjusted R-squared value is 0.9276 which means that it is a very good value to show the accuracy of the data model."
   ]
  },
  {
   "cell_type": "code",
   "execution_count": 15,
   "id": "c58d48d5",
   "metadata": {},
   "outputs": [
    {
     "data": {
      "text/html": [
       "<table class=\"dataframe\">\n",
       "<caption>A data.frame: 1 × 2</caption>\n",
       "<thead>\n",
       "\t<tr><th scope=col>RMSE</th><th scope=col>adj_r2</th></tr>\n",
       "\t<tr><th scope=col>&lt;chr&gt;</th><th scope=col>&lt;chr&gt;</th></tr>\n",
       "</thead>\n",
       "<tbody>\n",
       "\t<tr><td>0.27</td><td>0.93</td></tr>\n",
       "</tbody>\n",
       "</table>\n"
      ],
      "text/latex": [
       "A data.frame: 1 × 2\n",
       "\\begin{tabular}{ll}\n",
       " RMSE & adj\\_r2\\\\\n",
       " <chr> & <chr>\\\\\n",
       "\\hline\n",
       "\t 0.27 & 0.93\\\\\n",
       "\\end{tabular}\n"
      ],
      "text/markdown": [
       "\n",
       "A data.frame: 1 × 2\n",
       "\n",
       "| RMSE &lt;chr&gt; | adj_r2 &lt;chr&gt; |\n",
       "|---|---|\n",
       "| 0.27 | 0.93 |\n",
       "\n"
      ],
      "text/plain": [
       "  RMSE adj_r2\n",
       "1 0.27 0.93  "
      ]
     },
     "metadata": {},
     "output_type": "display_data"
    },
    {
     "data": {
      "text/html": [
       "<table class=\"dataframe\">\n",
       "<caption>A data.frame: 1 × 2</caption>\n",
       "<thead>\n",
       "\t<tr><th scope=col>RMSE</th><th scope=col>adj_r2</th></tr>\n",
       "\t<tr><th scope=col>&lt;chr&gt;</th><th scope=col>&lt;chr&gt;</th></tr>\n",
       "</thead>\n",
       "<tbody>\n",
       "\t<tr><td>0.27</td><td>0.93</td></tr>\n",
       "</tbody>\n",
       "</table>\n"
      ],
      "text/latex": [
       "A data.frame: 1 × 2\n",
       "\\begin{tabular}{ll}\n",
       " RMSE & adj\\_r2\\\\\n",
       " <chr> & <chr>\\\\\n",
       "\\hline\n",
       "\t 0.27 & 0.93\\\\\n",
       "\\end{tabular}\n"
      ],
      "text/markdown": [
       "\n",
       "A data.frame: 1 × 2\n",
       "\n",
       "| RMSE &lt;chr&gt; | adj_r2 &lt;chr&gt; |\n",
       "|---|---|\n",
       "| 0.27 | 0.93 |\n",
       "\n"
      ],
      "text/plain": [
       "  RMSE adj_r2\n",
       "1 0.27 0.93  "
      ]
     },
     "metadata": {},
     "output_type": "display_data"
    }
   ],
   "source": [
    "#Difference between training data and predictions\n",
    "eval_metrics = function(model, dataframe, predictions, target){\n",
    "    resids = dataframe[,target] - predictions\n",
    "    residSquare = resids**2\n",
    "    N = length(predictions)\n",
    "    r2 = as.character(round(summary(model)$r.squared, 2))\n",
    "    adj_r2 = as.character(round(summary(model)$adj.r.squared, 2))\n",
    "    RMSE = as.character(round(sqrt(sum(residSquare)/N),2))\n",
    "    data.frame(\n",
    "        RMSE = RMSE,\n",
    "        adj_r2 = adj_r2\n",
    "    )\n",
    "}\n",
    "\n",
    "#Predicting and evaluating the model on training data\n",
    "predictionsTrain = predict(lr, newdata = trainingData)\n",
    "eval_metrics(lr, trainingData, predictionsTrain, target = 'Apps')\n",
    "\n",
    "#Predicting and evaluating the model on test data\n",
    "predictionsTest = predict(lr, newdata = testData)\n",
    "eval_metrics(lr, testData, predictionsTest, target = 'Apps')"
   ]
  },
  {
   "cell_type": "markdown",
   "id": "9b342c2f",
   "metadata": {},
   "source": [
    "We got RMSE = '0.27' and adj_r2 = '0.93', a good model must have low RMSE and high adjusted r2 which proves we have a good model."
   ]
  },
  {
   "cell_type": "code",
   "execution_count": 16,
   "id": "e51e3c14",
   "metadata": {},
   "outputs": [
    {
     "data": {
      "text/html": [
       "<style>\n",
       ".dl-inline {width: auto; margin:0; padding: 0}\n",
       ".dl-inline>dt, .dl-inline>dd {float: none; width: auto; display: inline-block}\n",
       ".dl-inline>dt::after {content: \":\\0020\"; padding-right: .5ex}\n",
       ".dl-inline>dt:not(:first-of-type) {padding-left: .5ex}\n",
       "</style><dl class=dl-inline><dt>RMSE</dt><dd>0.265932642877842</dd><dt>Rsquared</dt><dd>0.929188695211609</dd><dt>MAE</dt><dd>0.155988654791362</dd></dl>\n"
      ],
      "text/latex": [
       "\\begin{description*}\n",
       "\\item[RMSE] 0.265932642877842\n",
       "\\item[Rsquared] 0.929188695211609\n",
       "\\item[MAE] 0.155988654791362\n",
       "\\end{description*}\n"
      ],
      "text/markdown": [
       "RMSE\n",
       ":   0.265932642877842Rsquared\n",
       ":   0.929188695211609MAE\n",
       ":   0.155988654791362\n",
       "\n"
      ],
      "text/plain": [
       "     RMSE  Rsquared       MAE \n",
       "0.2659326 0.9291887 0.1559887 "
      ]
     },
     "metadata": {},
     "output_type": "display_data"
    }
   ],
   "source": [
    "#We can also calculate the error data using below method:\n",
    "(linearInfo <- postResample(predictionsTest, testData$Apps))"
   ]
  },
  {
   "cell_type": "markdown",
   "id": "d3a5fc3c",
   "metadata": {},
   "source": [
    "#### b. Fit a ridge regression model on the training set, with λ chosen by crossvalidation. Report the test error obtained."
   ]
  },
  {
   "cell_type": "code",
   "execution_count": 17,
   "id": "05f7b097",
   "metadata": {},
   "outputs": [],
   "source": [
    "#To proceed with ridge regression model, we have to create a numeric matrix with training data and vector of test variables\n",
    "encodedData <- dummyVars(Apps ~ ., data = trainingData)"
   ]
  },
  {
   "cell_type": "code",
   "execution_count": 18,
   "id": "4d94fd94",
   "metadata": {},
   "outputs": [],
   "source": [
    "dummyTrainData = predict(encodedData, newdata = trainingData)"
   ]
  },
  {
   "cell_type": "code",
   "execution_count": 19,
   "id": "a932d9e1",
   "metadata": {},
   "outputs": [],
   "source": [
    "dummyTestData = predict(encodedData, newdata = testData)"
   ]
  },
  {
   "cell_type": "code",
   "execution_count": 20,
   "id": "57c722cf",
   "metadata": {},
   "outputs": [
    {
     "name": "stderr",
     "output_type": "stream",
     "text": [
      "Loading required package: Matrix\n",
      "\n",
      "Loaded glmnet 4.1-4\n",
      "\n"
     ]
    }
   ],
   "source": [
    "library(glmnet)"
   ]
  },
  {
   "cell_type": "code",
   "execution_count": 21,
   "id": "466ad222",
   "metadata": {},
   "outputs": [],
   "source": [
    "x_train = as.matrix(dummyTrainData)"
   ]
  },
  {
   "cell_type": "code",
   "execution_count": 22,
   "id": "3c0a1e1e",
   "metadata": {},
   "outputs": [
    {
     "data": {
      "text/html": [
       "<table class=\"dataframe\">\n",
       "<caption>A matrix: 6 × 18 of type dbl</caption>\n",
       "<thead>\n",
       "\t<tr><th></th><th scope=col>Private.No</th><th scope=col>Private.Yes</th><th scope=col>Accept</th><th scope=col>Enroll</th><th scope=col>Top10perc</th><th scope=col>Top25perc</th><th scope=col>F.Undergrad</th><th scope=col>P.Undergrad</th><th scope=col>Outstate</th><th scope=col>Room.Board</th><th scope=col>Books</th><th scope=col>Personal</th><th scope=col>PhD</th><th scope=col>Terminal</th><th scope=col>S.F.Ratio</th><th scope=col>perc.alumni</th><th scope=col>Expend</th><th scope=col>Grad.Rate</th></tr>\n",
       "</thead>\n",
       "<tbody>\n",
       "\t<tr><th scope=row>Abilene Christian University</th><td>0</td><td>1</td><td>-0.32099869</td><td>-0.06346802</td><td>-0.2584163</td><td>-0.1917039</td><td>-0.1680076</td><td>-0.20907246</td><td>-0.7458755</td><td>-0.9642836</td><td>-0.6019244</td><td> 1.2692276</td><td>-0.1629230</td><td>-0.1156542</td><td> 1.0131234</td><td>-0.8670157</td><td>-0.50158700</td><td>-0.3180471</td></tr>\n",
       "\t<tr><th scope=row>Adelphi University</th><td>0</td><td>1</td><td>-0.03867808</td><td>-0.28839845</td><td>-0.6552335</td><td>-1.3530399</td><td>-0.2096534</td><td> 0.24414978</td><td> 0.4572019</td><td> 1.9079789</td><td> 1.2150971</td><td> 0.2353633</td><td>-2.6739232</td><td>-3.3760014</td><td>-0.4773970</td><td>-0.5442217</td><td> 0.16600292</td><td>-0.5509070</td></tr>\n",
       "\t<tr><th scope=row>Adrian College</th><td>0</td><td>1</td><td>-0.37607569</td><td>-0.47781355</td><td>-0.3151045</td><td>-0.2926897</td><td>-0.5492116</td><td>-0.49677006</td><td> 0.2011751</td><td>-0.5539604</td><td>-0.9047614</td><td>-0.2594146</td><td>-1.2040694</td><td>-0.9307410</td><td>-0.3005556</td><td> 0.5855576</td><td>-0.17717583</td><td>-0.6673369</td></tr>\n",
       "\t<tr><th scope=row>Agnes Scott College</th><td>0</td><td>1</td><td>-0.68124306</td><td>-0.69198176</td><td> 1.8390460</td><td> 1.6765321</td><td>-0.6576558</td><td>-0.52041644</td><td> 0.6262293</td><td> 0.9961495</td><td>-0.6019244</td><td>-0.6877298</td><td> 1.1844430</td><td> 1.1748999</td><td>-1.6142346</td><td> 1.1504472</td><td> 1.79169738</td><td>-0.3762621</td></tr>\n",
       "\t<tr><th scope=row>Alaska Pacific University</th><td>0</td><td>1</td><td>-0.76406254</td><td>-0.78023197</td><td>-0.6552335</td><td>-0.5956469</td><td>-0.7114656</td><td> 0.00899969</td><td>-0.7160471</td><td>-0.2165835</td><td> 1.5179340</td><td> 0.2353633</td><td> 0.2045405</td><td>-0.5231976</td><td>-0.5531862</td><td>-1.6740009</td><td> 0.24164779</td><td>-2.9377211</td></tr>\n",
       "\t<tr><th scope=row>Albertson College</th><td>0</td><td>1</td><td>-0.62820595</td><td>-0.66938109</td><td> 0.5919062</td><td> 0.3132247</td><td>-0.6230197</td><td>-0.53486701</td><td> 0.7604569</td><td>-0.9323696</td><td>-0.2990875</td><td>-0.9831196</td><td>-0.3466547</td><td>-0.4552737</td><td>-1.1847626</td><td>-0.9477142</td><td> 0.01279812</td><td>-0.6091220</td></tr>\n",
       "</tbody>\n",
       "</table>\n"
      ],
      "text/latex": [
       "A matrix: 6 × 18 of type dbl\n",
       "\\begin{tabular}{r|llllllllllllllllll}\n",
       "  & Private.No & Private.Yes & Accept & Enroll & Top10perc & Top25perc & F.Undergrad & P.Undergrad & Outstate & Room.Board & Books & Personal & PhD & Terminal & S.F.Ratio & perc.alumni & Expend & Grad.Rate\\\\\n",
       "\\hline\n",
       "\tAbilene Christian University & 0 & 1 & -0.32099869 & -0.06346802 & -0.2584163 & -0.1917039 & -0.1680076 & -0.20907246 & -0.7458755 & -0.9642836 & -0.6019244 &  1.2692276 & -0.1629230 & -0.1156542 &  1.0131234 & -0.8670157 & -0.50158700 & -0.3180471\\\\\n",
       "\tAdelphi University & 0 & 1 & -0.03867808 & -0.28839845 & -0.6552335 & -1.3530399 & -0.2096534 &  0.24414978 &  0.4572019 &  1.9079789 &  1.2150971 &  0.2353633 & -2.6739232 & -3.3760014 & -0.4773970 & -0.5442217 &  0.16600292 & -0.5509070\\\\\n",
       "\tAdrian College & 0 & 1 & -0.37607569 & -0.47781355 & -0.3151045 & -0.2926897 & -0.5492116 & -0.49677006 &  0.2011751 & -0.5539604 & -0.9047614 & -0.2594146 & -1.2040694 & -0.9307410 & -0.3005556 &  0.5855576 & -0.17717583 & -0.6673369\\\\\n",
       "\tAgnes Scott College & 0 & 1 & -0.68124306 & -0.69198176 &  1.8390460 &  1.6765321 & -0.6576558 & -0.52041644 &  0.6262293 &  0.9961495 & -0.6019244 & -0.6877298 &  1.1844430 &  1.1748999 & -1.6142346 &  1.1504472 &  1.79169738 & -0.3762621\\\\\n",
       "\tAlaska Pacific University & 0 & 1 & -0.76406254 & -0.78023197 & -0.6552335 & -0.5956469 & -0.7114656 &  0.00899969 & -0.7160471 & -0.2165835 &  1.5179340 &  0.2353633 &  0.2045405 & -0.5231976 & -0.5531862 & -1.6740009 &  0.24164779 & -2.9377211\\\\\n",
       "\tAlbertson College & 0 & 1 & -0.62820595 & -0.66938109 &  0.5919062 &  0.3132247 & -0.6230197 & -0.53486701 &  0.7604569 & -0.9323696 & -0.2990875 & -0.9831196 & -0.3466547 & -0.4552737 & -1.1847626 & -0.9477142 &  0.01279812 & -0.6091220\\\\\n",
       "\\end{tabular}\n"
      ],
      "text/markdown": [
       "\n",
       "A matrix: 6 × 18 of type dbl\n",
       "\n",
       "| <!--/--> | Private.No | Private.Yes | Accept | Enroll | Top10perc | Top25perc | F.Undergrad | P.Undergrad | Outstate | Room.Board | Books | Personal | PhD | Terminal | S.F.Ratio | perc.alumni | Expend | Grad.Rate |\n",
       "|---|---|---|---|---|---|---|---|---|---|---|---|---|---|---|---|---|---|---|\n",
       "| Abilene Christian University | 0 | 1 | -0.32099869 | -0.06346802 | -0.2584163 | -0.1917039 | -0.1680076 | -0.20907246 | -0.7458755 | -0.9642836 | -0.6019244 |  1.2692276 | -0.1629230 | -0.1156542 |  1.0131234 | -0.8670157 | -0.50158700 | -0.3180471 |\n",
       "| Adelphi University | 0 | 1 | -0.03867808 | -0.28839845 | -0.6552335 | -1.3530399 | -0.2096534 |  0.24414978 |  0.4572019 |  1.9079789 |  1.2150971 |  0.2353633 | -2.6739232 | -3.3760014 | -0.4773970 | -0.5442217 |  0.16600292 | -0.5509070 |\n",
       "| Adrian College | 0 | 1 | -0.37607569 | -0.47781355 | -0.3151045 | -0.2926897 | -0.5492116 | -0.49677006 |  0.2011751 | -0.5539604 | -0.9047614 | -0.2594146 | -1.2040694 | -0.9307410 | -0.3005556 |  0.5855576 | -0.17717583 | -0.6673369 |\n",
       "| Agnes Scott College | 0 | 1 | -0.68124306 | -0.69198176 |  1.8390460 |  1.6765321 | -0.6576558 | -0.52041644 |  0.6262293 |  0.9961495 | -0.6019244 | -0.6877298 |  1.1844430 |  1.1748999 | -1.6142346 |  1.1504472 |  1.79169738 | -0.3762621 |\n",
       "| Alaska Pacific University | 0 | 1 | -0.76406254 | -0.78023197 | -0.6552335 | -0.5956469 | -0.7114656 |  0.00899969 | -0.7160471 | -0.2165835 |  1.5179340 |  0.2353633 |  0.2045405 | -0.5231976 | -0.5531862 | -1.6740009 |  0.24164779 | -2.9377211 |\n",
       "| Albertson College | 0 | 1 | -0.62820595 | -0.66938109 |  0.5919062 |  0.3132247 | -0.6230197 | -0.53486701 |  0.7604569 | -0.9323696 | -0.2990875 | -0.9831196 | -0.3466547 | -0.4552737 | -1.1847626 | -0.9477142 |  0.01279812 | -0.6091220 |\n",
       "\n"
      ],
      "text/plain": [
       "                             Private.No Private.Yes Accept      Enroll     \n",
       "Abilene Christian University 0          1           -0.32099869 -0.06346802\n",
       "Adelphi University           0          1           -0.03867808 -0.28839845\n",
       "Adrian College               0          1           -0.37607569 -0.47781355\n",
       "Agnes Scott College          0          1           -0.68124306 -0.69198176\n",
       "Alaska Pacific University    0          1           -0.76406254 -0.78023197\n",
       "Albertson College            0          1           -0.62820595 -0.66938109\n",
       "                             Top10perc  Top25perc  F.Undergrad P.Undergrad\n",
       "Abilene Christian University -0.2584163 -0.1917039 -0.1680076  -0.20907246\n",
       "Adelphi University           -0.6552335 -1.3530399 -0.2096534   0.24414978\n",
       "Adrian College               -0.3151045 -0.2926897 -0.5492116  -0.49677006\n",
       "Agnes Scott College           1.8390460  1.6765321 -0.6576558  -0.52041644\n",
       "Alaska Pacific University    -0.6552335 -0.5956469 -0.7114656   0.00899969\n",
       "Albertson College             0.5919062  0.3132247 -0.6230197  -0.53486701\n",
       "                             Outstate   Room.Board Books      Personal  \n",
       "Abilene Christian University -0.7458755 -0.9642836 -0.6019244  1.2692276\n",
       "Adelphi University            0.4572019  1.9079789  1.2150971  0.2353633\n",
       "Adrian College                0.2011751 -0.5539604 -0.9047614 -0.2594146\n",
       "Agnes Scott College           0.6262293  0.9961495 -0.6019244 -0.6877298\n",
       "Alaska Pacific University    -0.7160471 -0.2165835  1.5179340  0.2353633\n",
       "Albertson College             0.7604569 -0.9323696 -0.2990875 -0.9831196\n",
       "                             PhD        Terminal   S.F.Ratio  perc.alumni\n",
       "Abilene Christian University -0.1629230 -0.1156542  1.0131234 -0.8670157 \n",
       "Adelphi University           -2.6739232 -3.3760014 -0.4773970 -0.5442217 \n",
       "Adrian College               -1.2040694 -0.9307410 -0.3005556  0.5855576 \n",
       "Agnes Scott College           1.1844430  1.1748999 -1.6142346  1.1504472 \n",
       "Alaska Pacific University     0.2045405 -0.5231976 -0.5531862 -1.6740009 \n",
       "Albertson College            -0.3466547 -0.4552737 -1.1847626 -0.9477142 \n",
       "                             Expend      Grad.Rate \n",
       "Abilene Christian University -0.50158700 -0.3180471\n",
       "Adelphi University            0.16600292 -0.5509070\n",
       "Adrian College               -0.17717583 -0.6673369\n",
       "Agnes Scott College           1.79169738 -0.3762621\n",
       "Alaska Pacific University     0.24164779 -2.9377211\n",
       "Albertson College             0.01279812 -0.6091220"
      ]
     },
     "metadata": {},
     "output_type": "display_data"
    }
   ],
   "source": [
    "head(x_train)"
   ]
  },
  {
   "cell_type": "code",
   "execution_count": 23,
   "id": "c4d5645f",
   "metadata": {},
   "outputs": [],
   "source": [
    "y_train = trainingData$Apps"
   ]
  },
  {
   "cell_type": "code",
   "execution_count": 24,
   "id": "418ae193",
   "metadata": {},
   "outputs": [
    {
     "data": {
      "text/html": [
       "<style>\n",
       ".list-inline {list-style: none; margin:0; padding: 0}\n",
       ".list-inline>li {display: inline-block}\n",
       ".list-inline>li:not(:last-child)::after {content: \"\\00b7\"; padding: 0 .5ex}\n",
       "</style>\n",
       "<ol class=list-inline><li>-0.346658528770141</li><li>-0.210748292025257</li><li>-0.406603728246972</li><li>-0.667830438036092</li><li>-0.725708561668894</li><li>-0.623905076350483</li></ol>\n"
      ],
      "text/latex": [
       "\\begin{enumerate*}\n",
       "\\item -0.346658528770141\n",
       "\\item -0.210748292025257\n",
       "\\item -0.406603728246972\n",
       "\\item -0.667830438036092\n",
       "\\item -0.725708561668894\n",
       "\\item -0.623905076350483\n",
       "\\end{enumerate*}\n"
      ],
      "text/markdown": [
       "1. -0.346658528770141\n",
       "2. -0.210748292025257\n",
       "3. -0.406603728246972\n",
       "4. -0.667830438036092\n",
       "5. -0.725708561668894\n",
       "6. -0.623905076350483\n",
       "\n",
       "\n"
      ],
      "text/plain": [
       "[1] -0.3466585 -0.2107483 -0.4066037 -0.6678304 -0.7257086 -0.6239051"
      ]
     },
     "metadata": {},
     "output_type": "display_data"
    }
   ],
   "source": [
    "head(y_train)"
   ]
  },
  {
   "cell_type": "code",
   "execution_count": 25,
   "id": "5deac848",
   "metadata": {},
   "outputs": [],
   "source": [
    "x_test = as.matrix(dummyTestData)"
   ]
  },
  {
   "cell_type": "code",
   "execution_count": 26,
   "id": "34108c8a",
   "metadata": {},
   "outputs": [
    {
     "data": {
      "text/html": [
       "<table class=\"dataframe\">\n",
       "<caption>A matrix: 6 × 18 of type dbl</caption>\n",
       "<thead>\n",
       "\t<tr><th></th><th scope=col>Private.No</th><th scope=col>Private.Yes</th><th scope=col>Accept</th><th scope=col>Enroll</th><th scope=col>Top10perc</th><th scope=col>Top25perc</th><th scope=col>F.Undergrad</th><th scope=col>P.Undergrad</th><th scope=col>Outstate</th><th scope=col>Room.Board</th><th scope=col>Books</th><th scope=col>Personal</th><th scope=col>PhD</th><th scope=col>Terminal</th><th scope=col>S.F.Ratio</th><th scope=col>perc.alumni</th><th scope=col>Expend</th><th scope=col>Grad.Rate</th></tr>\n",
       "</thead>\n",
       "<tbody>\n",
       "\t<tr><th scope=row>Abilene Christian University</th><td>0</td><td>1</td><td>-0.32099869</td><td>-0.06346802</td><td>-0.2584163</td><td>-0.1917039</td><td>-0.1680076</td><td>-0.20907246</td><td>-0.7458755</td><td>-0.9642836</td><td>-0.6019244</td><td> 1.2692276</td><td>-0.1629230</td><td>-0.1156542</td><td> 1.0131234</td><td>-0.8670157</td><td>-0.50158700</td><td>-0.3180471</td></tr>\n",
       "\t<tr><th scope=row>Adelphi University</th><td>0</td><td>1</td><td>-0.03867808</td><td>-0.28839845</td><td>-0.6552335</td><td>-1.3530399</td><td>-0.2096534</td><td> 0.24414978</td><td> 0.4572019</td><td> 1.9079789</td><td> 1.2150971</td><td> 0.2353633</td><td>-2.6739232</td><td>-3.3760014</td><td>-0.4773970</td><td>-0.5442217</td><td> 0.16600292</td><td>-0.5509070</td></tr>\n",
       "\t<tr><th scope=row>Adrian College</th><td>0</td><td>1</td><td>-0.37607569</td><td>-0.47781355</td><td>-0.3151045</td><td>-0.2926897</td><td>-0.5492116</td><td>-0.49677006</td><td> 0.2011751</td><td>-0.5539604</td><td>-0.9047614</td><td>-0.2594146</td><td>-1.2040694</td><td>-0.9307410</td><td>-0.3005556</td><td> 0.5855576</td><td>-0.17717583</td><td>-0.6673369</td></tr>\n",
       "\t<tr><th scope=row>Agnes Scott College</th><td>0</td><td>1</td><td>-0.68124306</td><td>-0.69198176</td><td> 1.8390460</td><td> 1.6765321</td><td>-0.6576558</td><td>-0.52041644</td><td> 0.6262293</td><td> 0.9961495</td><td>-0.6019244</td><td>-0.6877298</td><td> 1.1844430</td><td> 1.1748999</td><td>-1.6142346</td><td> 1.1504472</td><td> 1.79169738</td><td>-0.3762621</td></tr>\n",
       "\t<tr><th scope=row>Alaska Pacific University</th><td>0</td><td>1</td><td>-0.76406254</td><td>-0.78023197</td><td>-0.6552335</td><td>-0.5956469</td><td>-0.7114656</td><td> 0.00899969</td><td>-0.7160471</td><td>-0.2165835</td><td> 1.5179340</td><td> 0.2353633</td><td> 0.2045405</td><td>-0.5231976</td><td>-0.5531862</td><td>-1.6740009</td><td> 0.24164779</td><td>-2.9377211</td></tr>\n",
       "\t<tr><th scope=row>Albertson College</th><td>0</td><td>1</td><td>-0.62820595</td><td>-0.66938109</td><td> 0.5919062</td><td> 0.3132247</td><td>-0.6230197</td><td>-0.53486701</td><td> 0.7604569</td><td>-0.9323696</td><td>-0.2990875</td><td>-0.9831196</td><td>-0.3466547</td><td>-0.4552737</td><td>-1.1847626</td><td>-0.9477142</td><td> 0.01279812</td><td>-0.6091220</td></tr>\n",
       "</tbody>\n",
       "</table>\n"
      ],
      "text/latex": [
       "A matrix: 6 × 18 of type dbl\n",
       "\\begin{tabular}{r|llllllllllllllllll}\n",
       "  & Private.No & Private.Yes & Accept & Enroll & Top10perc & Top25perc & F.Undergrad & P.Undergrad & Outstate & Room.Board & Books & Personal & PhD & Terminal & S.F.Ratio & perc.alumni & Expend & Grad.Rate\\\\\n",
       "\\hline\n",
       "\tAbilene Christian University & 0 & 1 & -0.32099869 & -0.06346802 & -0.2584163 & -0.1917039 & -0.1680076 & -0.20907246 & -0.7458755 & -0.9642836 & -0.6019244 &  1.2692276 & -0.1629230 & -0.1156542 &  1.0131234 & -0.8670157 & -0.50158700 & -0.3180471\\\\\n",
       "\tAdelphi University & 0 & 1 & -0.03867808 & -0.28839845 & -0.6552335 & -1.3530399 & -0.2096534 &  0.24414978 &  0.4572019 &  1.9079789 &  1.2150971 &  0.2353633 & -2.6739232 & -3.3760014 & -0.4773970 & -0.5442217 &  0.16600292 & -0.5509070\\\\\n",
       "\tAdrian College & 0 & 1 & -0.37607569 & -0.47781355 & -0.3151045 & -0.2926897 & -0.5492116 & -0.49677006 &  0.2011751 & -0.5539604 & -0.9047614 & -0.2594146 & -1.2040694 & -0.9307410 & -0.3005556 &  0.5855576 & -0.17717583 & -0.6673369\\\\\n",
       "\tAgnes Scott College & 0 & 1 & -0.68124306 & -0.69198176 &  1.8390460 &  1.6765321 & -0.6576558 & -0.52041644 &  0.6262293 &  0.9961495 & -0.6019244 & -0.6877298 &  1.1844430 &  1.1748999 & -1.6142346 &  1.1504472 &  1.79169738 & -0.3762621\\\\\n",
       "\tAlaska Pacific University & 0 & 1 & -0.76406254 & -0.78023197 & -0.6552335 & -0.5956469 & -0.7114656 &  0.00899969 & -0.7160471 & -0.2165835 &  1.5179340 &  0.2353633 &  0.2045405 & -0.5231976 & -0.5531862 & -1.6740009 &  0.24164779 & -2.9377211\\\\\n",
       "\tAlbertson College & 0 & 1 & -0.62820595 & -0.66938109 &  0.5919062 &  0.3132247 & -0.6230197 & -0.53486701 &  0.7604569 & -0.9323696 & -0.2990875 & -0.9831196 & -0.3466547 & -0.4552737 & -1.1847626 & -0.9477142 &  0.01279812 & -0.6091220\\\\\n",
       "\\end{tabular}\n"
      ],
      "text/markdown": [
       "\n",
       "A matrix: 6 × 18 of type dbl\n",
       "\n",
       "| <!--/--> | Private.No | Private.Yes | Accept | Enroll | Top10perc | Top25perc | F.Undergrad | P.Undergrad | Outstate | Room.Board | Books | Personal | PhD | Terminal | S.F.Ratio | perc.alumni | Expend | Grad.Rate |\n",
       "|---|---|---|---|---|---|---|---|---|---|---|---|---|---|---|---|---|---|---|\n",
       "| Abilene Christian University | 0 | 1 | -0.32099869 | -0.06346802 | -0.2584163 | -0.1917039 | -0.1680076 | -0.20907246 | -0.7458755 | -0.9642836 | -0.6019244 |  1.2692276 | -0.1629230 | -0.1156542 |  1.0131234 | -0.8670157 | -0.50158700 | -0.3180471 |\n",
       "| Adelphi University | 0 | 1 | -0.03867808 | -0.28839845 | -0.6552335 | -1.3530399 | -0.2096534 |  0.24414978 |  0.4572019 |  1.9079789 |  1.2150971 |  0.2353633 | -2.6739232 | -3.3760014 | -0.4773970 | -0.5442217 |  0.16600292 | -0.5509070 |\n",
       "| Adrian College | 0 | 1 | -0.37607569 | -0.47781355 | -0.3151045 | -0.2926897 | -0.5492116 | -0.49677006 |  0.2011751 | -0.5539604 | -0.9047614 | -0.2594146 | -1.2040694 | -0.9307410 | -0.3005556 |  0.5855576 | -0.17717583 | -0.6673369 |\n",
       "| Agnes Scott College | 0 | 1 | -0.68124306 | -0.69198176 |  1.8390460 |  1.6765321 | -0.6576558 | -0.52041644 |  0.6262293 |  0.9961495 | -0.6019244 | -0.6877298 |  1.1844430 |  1.1748999 | -1.6142346 |  1.1504472 |  1.79169738 | -0.3762621 |\n",
       "| Alaska Pacific University | 0 | 1 | -0.76406254 | -0.78023197 | -0.6552335 | -0.5956469 | -0.7114656 |  0.00899969 | -0.7160471 | -0.2165835 |  1.5179340 |  0.2353633 |  0.2045405 | -0.5231976 | -0.5531862 | -1.6740009 |  0.24164779 | -2.9377211 |\n",
       "| Albertson College | 0 | 1 | -0.62820595 | -0.66938109 |  0.5919062 |  0.3132247 | -0.6230197 | -0.53486701 |  0.7604569 | -0.9323696 | -0.2990875 | -0.9831196 | -0.3466547 | -0.4552737 | -1.1847626 | -0.9477142 |  0.01279812 | -0.6091220 |\n",
       "\n"
      ],
      "text/plain": [
       "                             Private.No Private.Yes Accept      Enroll     \n",
       "Abilene Christian University 0          1           -0.32099869 -0.06346802\n",
       "Adelphi University           0          1           -0.03867808 -0.28839845\n",
       "Adrian College               0          1           -0.37607569 -0.47781355\n",
       "Agnes Scott College          0          1           -0.68124306 -0.69198176\n",
       "Alaska Pacific University    0          1           -0.76406254 -0.78023197\n",
       "Albertson College            0          1           -0.62820595 -0.66938109\n",
       "                             Top10perc  Top25perc  F.Undergrad P.Undergrad\n",
       "Abilene Christian University -0.2584163 -0.1917039 -0.1680076  -0.20907246\n",
       "Adelphi University           -0.6552335 -1.3530399 -0.2096534   0.24414978\n",
       "Adrian College               -0.3151045 -0.2926897 -0.5492116  -0.49677006\n",
       "Agnes Scott College           1.8390460  1.6765321 -0.6576558  -0.52041644\n",
       "Alaska Pacific University    -0.6552335 -0.5956469 -0.7114656   0.00899969\n",
       "Albertson College             0.5919062  0.3132247 -0.6230197  -0.53486701\n",
       "                             Outstate   Room.Board Books      Personal  \n",
       "Abilene Christian University -0.7458755 -0.9642836 -0.6019244  1.2692276\n",
       "Adelphi University            0.4572019  1.9079789  1.2150971  0.2353633\n",
       "Adrian College                0.2011751 -0.5539604 -0.9047614 -0.2594146\n",
       "Agnes Scott College           0.6262293  0.9961495 -0.6019244 -0.6877298\n",
       "Alaska Pacific University    -0.7160471 -0.2165835  1.5179340  0.2353633\n",
       "Albertson College             0.7604569 -0.9323696 -0.2990875 -0.9831196\n",
       "                             PhD        Terminal   S.F.Ratio  perc.alumni\n",
       "Abilene Christian University -0.1629230 -0.1156542  1.0131234 -0.8670157 \n",
       "Adelphi University           -2.6739232 -3.3760014 -0.4773970 -0.5442217 \n",
       "Adrian College               -1.2040694 -0.9307410 -0.3005556  0.5855576 \n",
       "Agnes Scott College           1.1844430  1.1748999 -1.6142346  1.1504472 \n",
       "Alaska Pacific University     0.2045405 -0.5231976 -0.5531862 -1.6740009 \n",
       "Albertson College            -0.3466547 -0.4552737 -1.1847626 -0.9477142 \n",
       "                             Expend      Grad.Rate \n",
       "Abilene Christian University -0.50158700 -0.3180471\n",
       "Adelphi University            0.16600292 -0.5509070\n",
       "Adrian College               -0.17717583 -0.6673369\n",
       "Agnes Scott College           1.79169738 -0.3762621\n",
       "Alaska Pacific University     0.24164779 -2.9377211\n",
       "Albertson College             0.01279812 -0.6091220"
      ]
     },
     "metadata": {},
     "output_type": "display_data"
    }
   ],
   "source": [
    "head(x_test)"
   ]
  },
  {
   "cell_type": "code",
   "execution_count": 27,
   "id": "2ef7f99b",
   "metadata": {},
   "outputs": [],
   "source": [
    "y_test = testData$Apps"
   ]
  },
  {
   "cell_type": "code",
   "execution_count": 28,
   "id": "9e75121c",
   "metadata": {},
   "outputs": [
    {
     "data": {
      "text/html": [
       "<style>\n",
       ".list-inline {list-style: none; margin:0; padding: 0}\n",
       ".list-inline>li {display: inline-block}\n",
       ".list-inline>li:not(:last-child)::after {content: \"\\00b7\"; padding: 0 .5ex}\n",
       "</style>\n",
       "<ol class=list-inline><li>-0.346658528770141</li><li>-0.210748292025257</li><li>-0.406603728246972</li><li>-0.667830438036092</li><li>-0.725708561668894</li><li>-0.623905076350483</li></ol>\n"
      ],
      "text/latex": [
       "\\begin{enumerate*}\n",
       "\\item -0.346658528770141\n",
       "\\item -0.210748292025257\n",
       "\\item -0.406603728246972\n",
       "\\item -0.667830438036092\n",
       "\\item -0.725708561668894\n",
       "\\item -0.623905076350483\n",
       "\\end{enumerate*}\n"
      ],
      "text/markdown": [
       "1. -0.346658528770141\n",
       "2. -0.210748292025257\n",
       "3. -0.406603728246972\n",
       "4. -0.667830438036092\n",
       "5. -0.725708561668894\n",
       "6. -0.623905076350483\n",
       "\n",
       "\n"
      ],
      "text/plain": [
       "[1] -0.3466585 -0.2107483 -0.4066037 -0.6678304 -0.7257086 -0.6239051"
      ]
     },
     "metadata": {},
     "output_type": "display_data"
    }
   ],
   "source": [
    "head(y_test)"
   ]
  },
  {
   "cell_type": "markdown",
   "id": "59b2c5d5",
   "metadata": {},
   "source": [
    "Here, we have created training and testing matrices, training and testing vectors\n",
    "Creating list of lambda values for the model to try"
   ]
  },
  {
   "cell_type": "code",
   "execution_count": 29,
   "id": "b2f352b8",
   "metadata": {},
   "outputs": [],
   "source": [
    "lambdas = lambdas <- 10^seq(2, -3, by = -.1)"
   ]
  },
  {
   "cell_type": "code",
   "execution_count": 30,
   "id": "59752b85",
   "metadata": {},
   "outputs": [
    {
     "data": {
      "text/html": [
       "<style>\n",
       ".list-inline {list-style: none; margin:0; padding: 0}\n",
       ".list-inline>li {display: inline-block}\n",
       ".list-inline>li:not(:last-child)::after {content: \"\\00b7\"; padding: 0 .5ex}\n",
       "</style>\n",
       "<ol class=list-inline><li>100</li><li>79.4328234724281</li><li>63.0957344480193</li><li>50.1187233627272</li><li>39.8107170553497</li><li>31.6227766016838</li><li>25.1188643150958</li><li>19.9526231496888</li><li>15.8489319246111</li><li>12.5892541179417</li><li>10</li><li>7.94328234724281</li><li>6.30957344480193</li><li>5.01187233627272</li><li>3.98107170553497</li><li>3.16227766016838</li><li>2.51188643150958</li><li>1.99526231496888</li><li>1.58489319246111</li><li>1.25892541179417</li><li>1</li><li>0.794328234724281</li><li>0.630957344480193</li><li>0.501187233627272</li><li>0.398107170553497</li><li>0.316227766016838</li><li>0.251188643150958</li><li>0.199526231496888</li><li>0.158489319246111</li><li>0.125892541179417</li><li>0.1</li><li>0.0794328234724281</li><li>0.0630957344480193</li><li>0.0501187233627272</li><li>0.0398107170553497</li><li>0.0316227766016838</li><li>0.0251188643150958</li><li>0.0199526231496888</li><li>0.0158489319246111</li><li>0.0125892541179417</li><li>0.01</li><li>0.00794328234724281</li><li>0.00630957344480193</li><li>0.00501187233627272</li><li>0.00398107170553497</li><li>0.00316227766016838</li><li>0.00251188643150958</li><li>0.00199526231496888</li><li>0.00158489319246111</li><li>0.00125892541179417</li><li>0.001</li></ol>\n"
      ],
      "text/latex": [
       "\\begin{enumerate*}\n",
       "\\item 100\n",
       "\\item 79.4328234724281\n",
       "\\item 63.0957344480193\n",
       "\\item 50.1187233627272\n",
       "\\item 39.8107170553497\n",
       "\\item 31.6227766016838\n",
       "\\item 25.1188643150958\n",
       "\\item 19.9526231496888\n",
       "\\item 15.8489319246111\n",
       "\\item 12.5892541179417\n",
       "\\item 10\n",
       "\\item 7.94328234724281\n",
       "\\item 6.30957344480193\n",
       "\\item 5.01187233627272\n",
       "\\item 3.98107170553497\n",
       "\\item 3.16227766016838\n",
       "\\item 2.51188643150958\n",
       "\\item 1.99526231496888\n",
       "\\item 1.58489319246111\n",
       "\\item 1.25892541179417\n",
       "\\item 1\n",
       "\\item 0.794328234724281\n",
       "\\item 0.630957344480193\n",
       "\\item 0.501187233627272\n",
       "\\item 0.398107170553497\n",
       "\\item 0.316227766016838\n",
       "\\item 0.251188643150958\n",
       "\\item 0.199526231496888\n",
       "\\item 0.158489319246111\n",
       "\\item 0.125892541179417\n",
       "\\item 0.1\n",
       "\\item 0.0794328234724281\n",
       "\\item 0.0630957344480193\n",
       "\\item 0.0501187233627272\n",
       "\\item 0.0398107170553497\n",
       "\\item 0.0316227766016838\n",
       "\\item 0.0251188643150958\n",
       "\\item 0.0199526231496888\n",
       "\\item 0.0158489319246111\n",
       "\\item 0.0125892541179417\n",
       "\\item 0.01\n",
       "\\item 0.00794328234724281\n",
       "\\item 0.00630957344480193\n",
       "\\item 0.00501187233627272\n",
       "\\item 0.00398107170553497\n",
       "\\item 0.00316227766016838\n",
       "\\item 0.00251188643150958\n",
       "\\item 0.00199526231496888\n",
       "\\item 0.00158489319246111\n",
       "\\item 0.00125892541179417\n",
       "\\item 0.001\n",
       "\\end{enumerate*}\n"
      ],
      "text/markdown": [
       "1. 100\n",
       "2. 79.4328234724281\n",
       "3. 63.0957344480193\n",
       "4. 50.1187233627272\n",
       "5. 39.8107170553497\n",
       "6. 31.6227766016838\n",
       "7. 25.1188643150958\n",
       "8. 19.9526231496888\n",
       "9. 15.8489319246111\n",
       "10. 12.5892541179417\n",
       "11. 10\n",
       "12. 7.94328234724281\n",
       "13. 6.30957344480193\n",
       "14. 5.01187233627272\n",
       "15. 3.98107170553497\n",
       "16. 3.16227766016838\n",
       "17. 2.51188643150958\n",
       "18. 1.99526231496888\n",
       "19. 1.58489319246111\n",
       "20. 1.25892541179417\n",
       "21. 1\n",
       "22. 0.794328234724281\n",
       "23. 0.630957344480193\n",
       "24. 0.501187233627272\n",
       "25. 0.398107170553497\n",
       "26. 0.316227766016838\n",
       "27. 0.251188643150958\n",
       "28. 0.199526231496888\n",
       "29. 0.158489319246111\n",
       "30. 0.125892541179417\n",
       "31. 0.1\n",
       "32. 0.0794328234724281\n",
       "33. 0.0630957344480193\n",
       "34. 0.0501187233627272\n",
       "35. 0.0398107170553497\n",
       "36. 0.0316227766016838\n",
       "37. 0.0251188643150958\n",
       "38. 0.0199526231496888\n",
       "39. 0.0158489319246111\n",
       "40. 0.0125892541179417\n",
       "41. 0.01\n",
       "42. 0.00794328234724281\n",
       "43. 0.00630957344480193\n",
       "44. 0.00501187233627272\n",
       "45. 0.00398107170553497\n",
       "46. 0.00316227766016838\n",
       "47. 0.00251188643150958\n",
       "48. 0.00199526231496888\n",
       "49. 0.00158489319246111\n",
       "50. 0.00125892541179417\n",
       "51. 0.001\n",
       "\n",
       "\n"
      ],
      "text/plain": [
       " [1] 1.000000e+02 7.943282e+01 6.309573e+01 5.011872e+01 3.981072e+01\n",
       " [6] 3.162278e+01 2.511886e+01 1.995262e+01 1.584893e+01 1.258925e+01\n",
       "[11] 1.000000e+01 7.943282e+00 6.309573e+00 5.011872e+00 3.981072e+00\n",
       "[16] 3.162278e+00 2.511886e+00 1.995262e+00 1.584893e+00 1.258925e+00\n",
       "[21] 1.000000e+00 7.943282e-01 6.309573e-01 5.011872e-01 3.981072e-01\n",
       "[26] 3.162278e-01 2.511886e-01 1.995262e-01 1.584893e-01 1.258925e-01\n",
       "[31] 1.000000e-01 7.943282e-02 6.309573e-02 5.011872e-02 3.981072e-02\n",
       "[36] 3.162278e-02 2.511886e-02 1.995262e-02 1.584893e-02 1.258925e-02\n",
       "[41] 1.000000e-02 7.943282e-03 6.309573e-03 5.011872e-03 3.981072e-03\n",
       "[46] 3.162278e-03 2.511886e-03 1.995262e-03 1.584893e-03 1.258925e-03\n",
       "[51] 1.000000e-03"
      ]
     },
     "metadata": {},
     "output_type": "display_data"
    }
   ],
   "source": [
    "lambdas"
   ]
  },
  {
   "cell_type": "code",
   "execution_count": 31,
   "id": "01dd8652",
   "metadata": {},
   "outputs": [],
   "source": [
    "#For ridge regression, alpha value is zero and family is 'Gaussian'\n",
    "ridgeReg<- glmnet(x_train, y_train, nlambda = 25, alpha = 0, family = 'gaussian', lambda = lambdas)"
   ]
  },
  {
   "cell_type": "code",
   "execution_count": 32,
   "id": "3f2a0af8",
   "metadata": {},
   "outputs": [
    {
     "data": {
      "text/plain": [
       "          Length Class     Mode   \n",
       "a0         51    -none-    numeric\n",
       "beta      918    dgCMatrix S4     \n",
       "df         51    -none-    numeric\n",
       "dim         2    -none-    numeric\n",
       "lambda     51    -none-    numeric\n",
       "dev.ratio  51    -none-    numeric\n",
       "nulldev     1    -none-    numeric\n",
       "npasses     1    -none-    numeric\n",
       "jerr        1    -none-    numeric\n",
       "offset      1    -none-    logical\n",
       "call        7    -none-    call   \n",
       "nobs        1    -none-    numeric"
      ]
     },
     "metadata": {},
     "output_type": "display_data"
    }
   ],
   "source": [
    "#Finding the summary of ridge regression model\n",
    "summary(ridgeReg)"
   ]
  },
  {
   "cell_type": "code",
   "execution_count": 33,
   "id": "e4f1e5fb",
   "metadata": {},
   "outputs": [
    {
     "data": {
      "text/html": [
       "0.001"
      ],
      "text/latex": [
       "0.001"
      ],
      "text/markdown": [
       "0.001"
      ],
      "text/plain": [
       "[1] 0.001"
      ]
     },
     "metadata": {},
     "output_type": "display_data"
    }
   ],
   "source": [
    "#Optimal lambda value can be found using cv.glmnet() function\n",
    "ridgeCv <- cv.glmnet(x_train, y_train, alpha = 0, lambda = lambdas)\n",
    "optimalLambda <- ridgeCv$lambda.min\n",
    "optimalLambda"
   ]
  },
  {
   "cell_type": "markdown",
   "id": "c6bed164",
   "metadata": {},
   "source": [
    "Computing RMSE and R-square values for train and test data:"
   ]
  },
  {
   "cell_type": "code",
   "execution_count": 34,
   "id": "315b1dd9",
   "metadata": {},
   "outputs": [
    {
     "data": {
      "text/html": [
       "<style>\n",
       ".dl-inline {width: auto; margin:0; padding: 0}\n",
       ".dl-inline>dt, .dl-inline>dd {float: none; width: auto; display: inline-block}\n",
       ".dl-inline>dt::after {content: \":\\0020\"; padding-right: .5ex}\n",
       ".dl-inline>dt:not(:first-of-type) {padding-left: .5ex}\n",
       "</style><dl class=dl-inline><dt>RMSE</dt><dd>0.283838727850313</dd><dt>Rsquared</dt><dd>0.920405192658205</dd><dt>MAE</dt><dd>0.156485427221627</dd></dl>\n"
      ],
      "text/latex": [
       "\\begin{description*}\n",
       "\\item[RMSE] 0.283838727850313\n",
       "\\item[Rsquared] 0.920405192658205\n",
       "\\item[MAE] 0.156485427221627\n",
       "\\end{description*}\n"
      ],
      "text/markdown": [
       "RMSE\n",
       ":   0.283838727850313Rsquared\n",
       ":   0.920405192658205MAE\n",
       ":   0.156485427221627\n",
       "\n"
      ],
      "text/plain": [
       "     RMSE  Rsquared       MAE \n",
       "0.2838387 0.9204052 0.1564854 "
      ]
     },
     "metadata": {},
     "output_type": "display_data"
    }
   ],
   "source": [
    "(ridgeInfo <- postResample(predict(ridgeCv, x_test), y_test))"
   ]
  },
  {
   "cell_type": "markdown",
   "id": "6e531925",
   "metadata": {},
   "source": [
    "The above output shows that the RMSE and R-squared values for the ridge regression model on the test data is 0.283 and 0.920 respectively which is almost same as linear regression model."
   ]
  },
  {
   "cell_type": "code",
   "execution_count": 35,
   "id": "f90d2287",
   "metadata": {},
   "outputs": [
    {
     "data": {
      "image/png": "[encoded data removed]",
      "text/plain": [
       "plot without title"
      ]
     },
     "metadata": {
      "image/png": {
       "height": 420,
       "width": 420
      }
     },
     "output_type": "display_data"
    }
   ],
   "source": [
    "plot(ridgeCv)"
   ]
  },
  {
   "cell_type": "markdown",
   "id": "0c4171b4",
   "metadata": {},
   "source": [
    "-------------------------------------------------------------------------------------------------------------------------------\n",
    "#### d. Fit a lasso model on the training set, with λ chosen by cross-validation. Report the test error obtained, along with the number of non-zero coefficient estimates."
   ]
  },
  {
   "cell_type": "code",
   "execution_count": 36,
   "id": "1acecfe4",
   "metadata": {},
   "outputs": [
    {
     "data": {
      "text/html": [
       "0.01"
      ],
      "text/latex": [
       "0.01"
      ],
      "text/markdown": [
       "0.01"
      ],
      "text/plain": [
       "[1] 0.01"
      ]
     },
     "metadata": {},
     "output_type": "display_data"
    }
   ],
   "source": [
    "#Lasso is also a modification of lienar regression, here we select alpha value to be equal to 1 and find out the optimal lambda.\n",
    "lambdas <- 10^seq(2, -3, by = -.1)\n",
    "\n",
    "lassoReg <- cv.glmnet(x_train, y_train, alpha = 1, lambda = lambdas, standardize = TRUE, nfolds = 5)\n",
    "\n",
    "optimalLambda <- lassoReg$lambda.min \n",
    "optimalLambda"
   ]
  },
  {
   "cell_type": "code",
   "execution_count": 37,
   "id": "4881b36c",
   "metadata": {},
   "outputs": [],
   "source": [
    "#Building the lasso model\n",
    "lassoModel <- glmnet(x_train, y_train, alpha = 1, lambda = optimalLambda, standardize = TRUE)"
   ]
  },
  {
   "cell_type": "code",
   "execution_count": 38,
   "id": "20d5e7c3",
   "metadata": {},
   "outputs": [
    {
     "data": {
      "text/plain": [
       "          Length Class     Mode   \n",
       "a0         1     -none-    numeric\n",
       "beta      18     dgCMatrix S4     \n",
       "df         1     -none-    numeric\n",
       "dim        2     -none-    numeric\n",
       "lambda     1     -none-    numeric\n",
       "dev.ratio  1     -none-    numeric\n",
       "nulldev    1     -none-    numeric\n",
       "npasses    1     -none-    numeric\n",
       "jerr       1     -none-    numeric\n",
       "offset     1     -none-    logical\n",
       "call       6     -none-    call   \n",
       "nobs       1     -none-    numeric"
      ]
     },
     "metadata": {},
     "output_type": "display_data"
    }
   ],
   "source": [
    "summary(lassoModel)"
   ]
  },
  {
   "cell_type": "code",
   "execution_count": 39,
   "id": "0f6cc7ca",
   "metadata": {},
   "outputs": [
    {
     "data": {
      "text/html": [
       "<style>\n",
       ".dl-inline {width: auto; margin:0; padding: 0}\n",
       ".dl-inline>dt, .dl-inline>dd {float: none; width: auto; display: inline-block}\n",
       ".dl-inline>dt::after {content: \":\\0020\"; padding-right: .5ex}\n",
       ".dl-inline>dt:not(:first-of-type) {padding-left: .5ex}\n",
       "</style><dl class=dl-inline><dt>RMSE</dt><dd>0.276679201706105</dd><dt>Rsquared</dt><dd>0.923519184737251</dd><dt>MAE</dt><dd>0.152879247151893</dd></dl>\n"
      ],
      "text/latex": [
       "\\begin{description*}\n",
       "\\item[RMSE] 0.276679201706105\n",
       "\\item[Rsquared] 0.923519184737251\n",
       "\\item[MAE] 0.152879247151893\n",
       "\\end{description*}\n"
      ],
      "text/markdown": [
       "RMSE\n",
       ":   0.276679201706105Rsquared\n",
       ":   0.923519184737251MAE\n",
       ":   0.152879247151893\n",
       "\n"
      ],
      "text/plain": [
       "     RMSE  Rsquared       MAE \n",
       "0.2766792 0.9235192 0.1528792 "
      ]
     },
     "metadata": {},
     "output_type": "display_data"
    }
   ],
   "source": [
    "(lassoInfo <- postResample(predict(lassoModel, x_test), y_test))"
   ]
  },
  {
   "cell_type": "code",
   "execution_count": 40,
   "id": "59b59ee1",
   "metadata": {},
   "outputs": [
    {
     "data": {
      "image/png": "[encoded data removed]",
      "text/plain": [
       "plot without title"
      ]
     },
     "metadata": {
      "image/png": {
       "height": 420,
       "width": 420
      }
     },
     "output_type": "display_data"
    }
   ],
   "source": [
    "plot(lassoReg)"
   ]
  },
  {
   "cell_type": "markdown",
   "id": "0357a02e",
   "metadata": {},
   "source": [
    "The RMSE and R-squared values for Lasso regression on test data are 0.26 and 0.927 respectively."
   ]
  },
  {
   "cell_type": "markdown",
   "id": "b7f4e2b4",
   "metadata": {},
   "source": [
    "#### e. Comment more generally on the results obtained. How accurately can we predict the number of college applications received? Is there much difference among the test errors resulting from these five approaches?"
   ]
  },
  {
   "cell_type": "markdown",
   "id": "3513e39a",
   "metadata": {},
   "source": [
    "To compare the models and determine the result, we will be using as_tibble method."
   ]
  },
  {
   "cell_type": "code",
   "execution_count": 41,
   "id": "06e5938c",
   "metadata": {},
   "outputs": [
    {
     "data": {
      "text/html": [
       "<table class=\"dataframe\">\n",
       "<caption>A tibble: 3 × 4</caption>\n",
       "<thead>\n",
       "\t<tr><th scope=col>RMSE</th><th scope=col>Rsquared</th><th scope=col>MAE</th><th scope=col>model</th></tr>\n",
       "\t<tr><th scope=col>&lt;dbl&gt;</th><th scope=col>&lt;dbl&gt;</th><th scope=col>&lt;dbl&gt;</th><th scope=col>&lt;chr&gt;</th></tr>\n",
       "</thead>\n",
       "<tbody>\n",
       "\t<tr><td>0.2659326</td><td>0.9291887</td><td>0.1559887</td><td>Linear</td></tr>\n",
       "\t<tr><td>0.2838387</td><td>0.9204052</td><td>0.1564854</td><td>Ridge </td></tr>\n",
       "\t<tr><td>0.2766792</td><td>0.9235192</td><td>0.1528792</td><td>Lasso </td></tr>\n",
       "</tbody>\n",
       "</table>\n"
      ],
      "text/latex": [
       "A tibble: 3 × 4\n",
       "\\begin{tabular}{llll}\n",
       " RMSE & Rsquared & MAE & model\\\\\n",
       " <dbl> & <dbl> & <dbl> & <chr>\\\\\n",
       "\\hline\n",
       "\t 0.2659326 & 0.9291887 & 0.1559887 & Linear\\\\\n",
       "\t 0.2838387 & 0.9204052 & 0.1564854 & Ridge \\\\\n",
       "\t 0.2766792 & 0.9235192 & 0.1528792 & Lasso \\\\\n",
       "\\end{tabular}\n"
      ],
      "text/markdown": [
       "\n",
       "A tibble: 3 × 4\n",
       "\n",
       "| RMSE &lt;dbl&gt; | Rsquared &lt;dbl&gt; | MAE &lt;dbl&gt; | model &lt;chr&gt; |\n",
       "|---|---|---|---|\n",
       "| 0.2659326 | 0.9291887 | 0.1559887 | Linear |\n",
       "| 0.2838387 | 0.9204052 | 0.1564854 | Ridge  |\n",
       "| 0.2766792 | 0.9235192 | 0.1528792 | Lasso  |\n",
       "\n"
      ],
      "text/plain": [
       "  RMSE      Rsquared  MAE       model \n",
       "1 0.2659326 0.9291887 0.1559887 Linear\n",
       "2 0.2838387 0.9204052 0.1564854 Ridge \n",
       "3 0.2766792 0.9235192 0.1528792 Lasso "
      ]
     },
     "metadata": {},
     "output_type": "display_data"
    }
   ],
   "source": [
    "as_tibble(rbind(linearInfo,\n",
    "      ridgeInfo,\n",
    "      lassoInfo)) %>% mutate(model = c('Linear', 'Ridge', 'Lasso'))"
   ]
  },
  {
   "cell_type": "markdown",
   "id": "3410ec8e",
   "metadata": {},
   "source": [
    "as_tibble gives us the table of values from the 3 models and allows us to compare the values so we can determine the result.\n",
    "To determine a model to be best among the three, the RMSE value should be least and R-squared value should be higher. We can observe Linear model is having least RMSE which is 0.2659326 and highest Rsquared value which is 0.9291887. There is not much difference among the test errors resulted from all these 3 approaches."
   ]
  },
  {
   "cell_type": "markdown",
   "id": "e5dbb699",
   "metadata": {},
   "source": [
    "We can calculate the standard deviation value to determine if we can predict the number of college applications accurately."
   ]
  },
  {
   "cell_type": "code",
   "execution_count": 42,
   "id": "ec07e591",
   "metadata": {},
   "outputs": [
    {
     "data": {
      "text/html": [
       "<table class=\"dataframe\">\n",
       "<caption>A data.frame: 1 × 1</caption>\n",
       "<thead>\n",
       "\t<tr><th scope=col>sd</th></tr>\n",
       "\t<tr><th scope=col>&lt;dbl&gt;</th></tr>\n",
       "</thead>\n",
       "<tbody>\n",
       "\t<tr><td>1</td></tr>\n",
       "</tbody>\n",
       "</table>\n"
      ],
      "text/latex": [
       "A data.frame: 1 × 1\n",
       "\\begin{tabular}{l}\n",
       " sd\\\\\n",
       " <dbl>\\\\\n",
       "\\hline\n",
       "\t 1\\\\\n",
       "\\end{tabular}\n"
      ],
      "text/markdown": [
       "\n",
       "A data.frame: 1 × 1\n",
       "\n",
       "| sd &lt;dbl&gt; |\n",
       "|---|\n",
       "| 1 |\n",
       "\n"
      ],
      "text/plain": [
       "  sd\n",
       "1 1 "
      ]
     },
     "metadata": {},
     "output_type": "display_data"
    }
   ],
   "source": [
    "testData %>% summarize(sd = sd(Apps))"
   ]
  },
  {
   "cell_type": "markdown",
   "id": "5e9f6d7d",
   "metadata": {},
   "source": [
    "A good standard deviation should always be between +2 and -2, here our sd value is 1 which means our model can predict number of college applciations accurately."
   ]
  },
  {
   "cell_type": "markdown",
   "id": "cba60ba3",
   "metadata": {},
   "source": [
    "### 2. The insurance company benchmark data set gives information on customers. Specifically, it contains 86 variables on product-usage data and socio-demographic data derived from zip area codes. There are 5,822 customers in the training set and another 4,000 in the test set. The data were collected to answer the following questions: Can you predict who will be interested in buying a caravan insurance policy and give an explanation why? Compute the OLS estimates and compare them with those obtained from the following variable-selection algorithms: Forwards Selection, Backwards Selection, Lasso regression, and Ridge regression. What methods performed the best in the prediction?  (The data can be downloaded from https://kdd.ics.uci.edu/databases/tic/tic.html. )"
   ]
  },
  {
   "cell_type": "code",
   "execution_count": 43,
   "id": "da52e460",
   "metadata": {},
   "outputs": [],
   "source": [
    "#Loading the dataset from the data link given in the question\n",
    "trainData <- read.delim(\"ticdata2000.txt\", header = FALSE, sep = \"\\t\", dec = \".\")\n",
    "x_testData <- read.delim(\"ticeval2000.txt\", header = FALSE, sep = \"\\t\", dec = \".\")\n",
    "y_testData <- read.delim(\"tictgts2000.txt\", header = FALSE, sep = \"\\t\", dec = \".\")"
   ]
  },
  {
   "cell_type": "code",
   "execution_count": 44,
   "id": "cb2cde97",
   "metadata": {},
   "outputs": [
    {
     "data": {
      "text/html": [
       "<table class=\"dataframe\">\n",
       "<caption>A data.frame: 6 × 86</caption>\n",
       "<thead>\n",
       "\t<tr><th></th><th scope=col>V1</th><th scope=col>V2</th><th scope=col>V3</th><th scope=col>V4</th><th scope=col>V5</th><th scope=col>V6</th><th scope=col>V7</th><th scope=col>V8</th><th scope=col>V9</th><th scope=col>V10</th><th scope=col>⋯</th><th scope=col>V77</th><th scope=col>V78</th><th scope=col>V79</th><th scope=col>V80</th><th scope=col>V81</th><th scope=col>V82</th><th scope=col>V83</th><th scope=col>V84</th><th scope=col>V85</th><th scope=col>V86</th></tr>\n",
       "\t<tr><th></th><th scope=col>&lt;int&gt;</th><th scope=col>&lt;int&gt;</th><th scope=col>&lt;int&gt;</th><th scope=col>&lt;int&gt;</th><th scope=col>&lt;int&gt;</th><th scope=col>&lt;int&gt;</th><th scope=col>&lt;int&gt;</th><th scope=col>&lt;int&gt;</th><th scope=col>&lt;int&gt;</th><th scope=col>&lt;int&gt;</th><th scope=col>⋯</th><th scope=col>&lt;int&gt;</th><th scope=col>&lt;int&gt;</th><th scope=col>&lt;int&gt;</th><th scope=col>&lt;int&gt;</th><th scope=col>&lt;int&gt;</th><th scope=col>&lt;int&gt;</th><th scope=col>&lt;int&gt;</th><th scope=col>&lt;int&gt;</th><th scope=col>&lt;int&gt;</th><th scope=col>&lt;int&gt;</th></tr>\n",
       "</thead>\n",
       "<tbody>\n",
       "\t<tr><th scope=row>1</th><td>33</td><td>1</td><td>3</td><td>2</td><td> 8</td><td>0</td><td>5</td><td>1</td><td>3</td><td>7</td><td>⋯</td><td>0</td><td>0</td><td>0</td><td>1</td><td>0</td><td>0</td><td>0</td><td>0</td><td>0</td><td>0</td></tr>\n",
       "\t<tr><th scope=row>2</th><td>37</td><td>1</td><td>2</td><td>2</td><td> 8</td><td>1</td><td>4</td><td>1</td><td>4</td><td>6</td><td>⋯</td><td>0</td><td>0</td><td>0</td><td>1</td><td>0</td><td>0</td><td>0</td><td>0</td><td>0</td><td>0</td></tr>\n",
       "\t<tr><th scope=row>3</th><td>37</td><td>1</td><td>2</td><td>2</td><td> 8</td><td>0</td><td>4</td><td>2</td><td>4</td><td>3</td><td>⋯</td><td>0</td><td>0</td><td>0</td><td>1</td><td>0</td><td>0</td><td>0</td><td>0</td><td>0</td><td>0</td></tr>\n",
       "\t<tr><th scope=row>4</th><td> 9</td><td>1</td><td>3</td><td>3</td><td> 3</td><td>2</td><td>3</td><td>2</td><td>4</td><td>5</td><td>⋯</td><td>0</td><td>0</td><td>0</td><td>1</td><td>0</td><td>0</td><td>0</td><td>0</td><td>0</td><td>0</td></tr>\n",
       "\t<tr><th scope=row>5</th><td>40</td><td>1</td><td>4</td><td>2</td><td>10</td><td>1</td><td>4</td><td>1</td><td>4</td><td>7</td><td>⋯</td><td>0</td><td>0</td><td>0</td><td>1</td><td>0</td><td>0</td><td>0</td><td>0</td><td>0</td><td>0</td></tr>\n",
       "\t<tr><th scope=row>6</th><td>23</td><td>1</td><td>2</td><td>1</td><td> 5</td><td>0</td><td>5</td><td>0</td><td>5</td><td>0</td><td>⋯</td><td>0</td><td>0</td><td>0</td><td>0</td><td>0</td><td>0</td><td>0</td><td>0</td><td>0</td><td>0</td></tr>\n",
       "</tbody>\n",
       "</table>\n"
      ],
      "text/latex": [
       "A data.frame: 6 × 86\n",
       "\\begin{tabular}{r|lllllllllllllllllllll}\n",
       "  & V1 & V2 & V3 & V4 & V5 & V6 & V7 & V8 & V9 & V10 & ⋯ & V77 & V78 & V79 & V80 & V81 & V82 & V83 & V84 & V85 & V86\\\\\n",
       "  & <int> & <int> & <int> & <int> & <int> & <int> & <int> & <int> & <int> & <int> & ⋯ & <int> & <int> & <int> & <int> & <int> & <int> & <int> & <int> & <int> & <int>\\\\\n",
       "\\hline\n",
       "\t1 & 33 & 1 & 3 & 2 &  8 & 0 & 5 & 1 & 3 & 7 & ⋯ & 0 & 0 & 0 & 1 & 0 & 0 & 0 & 0 & 0 & 0\\\\\n",
       "\t2 & 37 & 1 & 2 & 2 &  8 & 1 & 4 & 1 & 4 & 6 & ⋯ & 0 & 0 & 0 & 1 & 0 & 0 & 0 & 0 & 0 & 0\\\\\n",
       "\t3 & 37 & 1 & 2 & 2 &  8 & 0 & 4 & 2 & 4 & 3 & ⋯ & 0 & 0 & 0 & 1 & 0 & 0 & 0 & 0 & 0 & 0\\\\\n",
       "\t4 &  9 & 1 & 3 & 3 &  3 & 2 & 3 & 2 & 4 & 5 & ⋯ & 0 & 0 & 0 & 1 & 0 & 0 & 0 & 0 & 0 & 0\\\\\n",
       "\t5 & 40 & 1 & 4 & 2 & 10 & 1 & 4 & 1 & 4 & 7 & ⋯ & 0 & 0 & 0 & 1 & 0 & 0 & 0 & 0 & 0 & 0\\\\\n",
       "\t6 & 23 & 1 & 2 & 1 &  5 & 0 & 5 & 0 & 5 & 0 & ⋯ & 0 & 0 & 0 & 0 & 0 & 0 & 0 & 0 & 0 & 0\\\\\n",
       "\\end{tabular}\n"
      ],
      "text/markdown": [
       "\n",
       "A data.frame: 6 × 86\n",
       "\n",
       "| <!--/--> | V1 &lt;int&gt; | V2 &lt;int&gt; | V3 &lt;int&gt; | V4 &lt;int&gt; | V5 &lt;int&gt; | V6 &lt;int&gt; | V7 &lt;int&gt; | V8 &lt;int&gt; | V9 &lt;int&gt; | V10 &lt;int&gt; | ⋯ ⋯ | V77 &lt;int&gt; | V78 &lt;int&gt; | V79 &lt;int&gt; | V80 &lt;int&gt; | V81 &lt;int&gt; | V82 &lt;int&gt; | V83 &lt;int&gt; | V84 &lt;int&gt; | V85 &lt;int&gt; | V86 &lt;int&gt; |\n",
       "|---|---|---|---|---|---|---|---|---|---|---|---|---|---|---|---|---|---|---|---|---|---|\n",
       "| 1 | 33 | 1 | 3 | 2 |  8 | 0 | 5 | 1 | 3 | 7 | ⋯ | 0 | 0 | 0 | 1 | 0 | 0 | 0 | 0 | 0 | 0 |\n",
       "| 2 | 37 | 1 | 2 | 2 |  8 | 1 | 4 | 1 | 4 | 6 | ⋯ | 0 | 0 | 0 | 1 | 0 | 0 | 0 | 0 | 0 | 0 |\n",
       "| 3 | 37 | 1 | 2 | 2 |  8 | 0 | 4 | 2 | 4 | 3 | ⋯ | 0 | 0 | 0 | 1 | 0 | 0 | 0 | 0 | 0 | 0 |\n",
       "| 4 |  9 | 1 | 3 | 3 |  3 | 2 | 3 | 2 | 4 | 5 | ⋯ | 0 | 0 | 0 | 1 | 0 | 0 | 0 | 0 | 0 | 0 |\n",
       "| 5 | 40 | 1 | 4 | 2 | 10 | 1 | 4 | 1 | 4 | 7 | ⋯ | 0 | 0 | 0 | 1 | 0 | 0 | 0 | 0 | 0 | 0 |\n",
       "| 6 | 23 | 1 | 2 | 1 |  5 | 0 | 5 | 0 | 5 | 0 | ⋯ | 0 | 0 | 0 | 0 | 0 | 0 | 0 | 0 | 0 | 0 |\n",
       "\n"
      ],
      "text/plain": [
       "  V1 V2 V3 V4 V5 V6 V7 V8 V9 V10 ⋯ V77 V78 V79 V80 V81 V82 V83 V84 V85 V86\n",
       "1 33 1  3  2   8 0  5  1  3  7   ⋯ 0   0   0   1   0   0   0   0   0   0  \n",
       "2 37 1  2  2   8 1  4  1  4  6   ⋯ 0   0   0   1   0   0   0   0   0   0  \n",
       "3 37 1  2  2   8 0  4  2  4  3   ⋯ 0   0   0   1   0   0   0   0   0   0  \n",
       "4  9 1  3  3   3 2  3  2  4  5   ⋯ 0   0   0   1   0   0   0   0   0   0  \n",
       "5 40 1  4  2  10 1  4  1  4  7   ⋯ 0   0   0   1   0   0   0   0   0   0  \n",
       "6 23 1  2  1   5 0  5  0  5  0   ⋯ 0   0   0   0   0   0   0   0   0   0  "
      ]
     },
     "metadata": {},
     "output_type": "display_data"
    }
   ],
   "source": [
    "head(trainData)"
   ]
  },
  {
   "cell_type": "code",
   "execution_count": 45,
   "id": "afbd1c65",
   "metadata": {},
   "outputs": [
    {
     "data": {
      "text/html": [
       "<style>\n",
       ".list-inline {list-style: none; margin:0; padding: 0}\n",
       ".list-inline>li {display: inline-block}\n",
       ".list-inline>li:not(:last-child)::after {content: \"\\00b7\"; padding: 0 .5ex}\n",
       "</style>\n",
       "<ol class=list-inline><li>5822</li><li>86</li></ol>\n"
      ],
      "text/latex": [
       "\\begin{enumerate*}\n",
       "\\item 5822\n",
       "\\item 86\n",
       "\\end{enumerate*}\n"
      ],
      "text/markdown": [
       "1. 5822\n",
       "2. 86\n",
       "\n",
       "\n"
      ],
      "text/plain": [
       "[1] 5822   86"
      ]
     },
     "metadata": {},
     "output_type": "display_data"
    }
   ],
   "source": [
    "dim(trainData)"
   ]
  },
  {
   "cell_type": "code",
   "execution_count": 46,
   "id": "f80dc212",
   "metadata": {},
   "outputs": [
    {
     "data": {
      "text/html": [
       "<style>\n",
       ".list-inline {list-style: none; margin:0; padding: 0}\n",
       ".list-inline>li {display: inline-block}\n",
       ".list-inline>li:not(:last-child)::after {content: \"\\00b7\"; padding: 0 .5ex}\n",
       "</style>\n",
       "<ol class=list-inline><li>4000</li><li>85</li></ol>\n"
      ],
      "text/latex": [
       "\\begin{enumerate*}\n",
       "\\item 4000\n",
       "\\item 85\n",
       "\\end{enumerate*}\n"
      ],
      "text/markdown": [
       "1. 4000\n",
       "2. 85\n",
       "\n",
       "\n"
      ],
      "text/plain": [
       "[1] 4000   85"
      ]
     },
     "metadata": {},
     "output_type": "display_data"
    }
   ],
   "source": [
    "dim(x_testData)"
   ]
  },
  {
   "cell_type": "code",
   "execution_count": 47,
   "id": "67d2f40a",
   "metadata": {},
   "outputs": [
    {
     "data": {
      "text/html": [
       "<style>\n",
       ".list-inline {list-style: none; margin:0; padding: 0}\n",
       ".list-inline>li {display: inline-block}\n",
       ".list-inline>li:not(:last-child)::after {content: \"\\00b7\"; padding: 0 .5ex}\n",
       "</style>\n",
       "<ol class=list-inline><li>4000</li><li>1</li></ol>\n"
      ],
      "text/latex": [
       "\\begin{enumerate*}\n",
       "\\item 4000\n",
       "\\item 1\n",
       "\\end{enumerate*}\n"
      ],
      "text/markdown": [
       "1. 4000\n",
       "2. 1\n",
       "\n",
       "\n"
      ],
      "text/plain": [
       "[1] 4000    1"
      ]
     },
     "metadata": {},
     "output_type": "display_data"
    }
   ],
   "source": [
    "dim(y_testData)"
   ]
  },
  {
   "cell_type": "code",
   "execution_count": 48,
   "id": "78fc9b7b",
   "metadata": {},
   "outputs": [
    {
     "data": {
      "text/html": [
       "<table class=\"dataframe\">\n",
       "<caption>A data.frame: 6 × 1</caption>\n",
       "<thead>\n",
       "\t<tr><th></th><th scope=col>V1</th></tr>\n",
       "\t<tr><th></th><th scope=col>&lt;int&gt;</th></tr>\n",
       "</thead>\n",
       "<tbody>\n",
       "\t<tr><th scope=row>1</th><td>0</td></tr>\n",
       "\t<tr><th scope=row>2</th><td>1</td></tr>\n",
       "\t<tr><th scope=row>3</th><td>0</td></tr>\n",
       "\t<tr><th scope=row>4</th><td>0</td></tr>\n",
       "\t<tr><th scope=row>5</th><td>0</td></tr>\n",
       "\t<tr><th scope=row>6</th><td>0</td></tr>\n",
       "</tbody>\n",
       "</table>\n"
      ],
      "text/latex": [
       "A data.frame: 6 × 1\n",
       "\\begin{tabular}{r|l}\n",
       "  & V1\\\\\n",
       "  & <int>\\\\\n",
       "\\hline\n",
       "\t1 & 0\\\\\n",
       "\t2 & 1\\\\\n",
       "\t3 & 0\\\\\n",
       "\t4 & 0\\\\\n",
       "\t5 & 0\\\\\n",
       "\t6 & 0\\\\\n",
       "\\end{tabular}\n"
      ],
      "text/markdown": [
       "\n",
       "A data.frame: 6 × 1\n",
       "\n",
       "| <!--/--> | V1 &lt;int&gt; |\n",
       "|---|---|\n",
       "| 1 | 0 |\n",
       "| 2 | 1 |\n",
       "| 3 | 0 |\n",
       "| 4 | 0 |\n",
       "| 5 | 0 |\n",
       "| 6 | 0 |\n",
       "\n"
      ],
      "text/plain": [
       "  V1\n",
       "1 0 \n",
       "2 1 \n",
       "3 0 \n",
       "4 0 \n",
       "5 0 \n",
       "6 0 "
      ]
     },
     "metadata": {},
     "output_type": "display_data"
    }
   ],
   "source": [
    "head(y_testData)"
   ]
  },
  {
   "cell_type": "code",
   "execution_count": 49,
   "id": "a00160ef",
   "metadata": {},
   "outputs": [],
   "source": [
    "names(y_testData)<-\"V86\"\n",
    "testData = cbind(x_testData, y_testData)"
   ]
  },
  {
   "cell_type": "markdown",
   "id": "cacb24a5",
   "metadata": {},
   "source": [
    "From the structure and dimensions of the training and testing dataset, all the variables are integer type, even for the response variable V86. The target is a binary vector which tells us that there will not be much difference in model accuracy if the target variable is converted to factor or not because in a dataset to predict all variables are supposed t be categorical. So if we change the target variable, predictors also must change."
   ]
  },
  {
   "cell_type": "markdown",
   "id": "c51dd796",
   "metadata": {},
   "source": [
    "Let us find out how many customers have caravan policy and how many don't have by plotting ggplot."
   ]
  },
  {
   "cell_type": "code",
   "execution_count": 50,
   "id": "f6db737a",
   "metadata": {},
   "outputs": [
    {
     "data": {
      "image/png": "[encoded data removed]",
      "text/plain": [
       "plot without title"
      ]
     },
     "metadata": {
      "image/png": {
       "height": 420,
       "width": 420
      }
     },
     "output_type": "display_data"
    }
   ],
   "source": [
    "#V86 is the response variable\n",
    "ggplot(trainData,aes(factor(V86))) + \n",
    "    geom_bar(aes(fill = factor(V86))) + \n",
    "    labs(x=\"CARAVAN\") +\n",
    "    scale_fill_discrete(name = \"CARAVAN\")"
   ]
  },
  {
   "cell_type": "markdown",
   "id": "c1e638b2",
   "metadata": {},
   "source": [
    "From the graph, we can understand that more than 5000 customers do not have the policy and around 300 customers have the policy. Now in order to explore the predictors, we have to find the correlation between independent variables and response variables."
   ]
  },
  {
   "cell_type": "code",
   "execution_count": 51,
   "id": "ac905783",
   "metadata": {},
   "outputs": [
    {
     "data": {
      "text/html": [
       "-0.0693852373222291"
      ],
      "text/latex": [
       "-0.0693852373222291"
      ],
      "text/markdown": [
       "-0.0693852373222291"
      ],
      "text/plain": [
       "[1] -0.06938524"
      ]
     },
     "metadata": {},
     "output_type": "display_data"
    }
   ],
   "source": [
    "#V1 is the Customer subtype\n",
    "cor(trainData$V1, trainData$V86)"
   ]
  },
  {
   "cell_type": "markdown",
   "id": "e8985168",
   "metadata": {},
   "source": [
    "According the correlation value = -0.069, the two features have a weak negative correlation against Caravan policy."
   ]
  },
  {
   "cell_type": "code",
   "execution_count": 52,
   "id": "4d01c466",
   "metadata": {},
   "outputs": [
    {
     "data": {
      "text/html": [
       "-0.00980902756201638"
      ],
      "text/latex": [
       "-0.00980902756201638"
      ],
      "text/markdown": [
       "-0.00980902756201638"
      ],
      "text/plain": [
       "[1] -0.009809028"
      ]
     },
     "metadata": {},
     "output_type": "display_data"
    }
   ],
   "source": [
    "#V2 is the number of houses\n",
    "cor(trainData$V2, trainData$V86)"
   ]
  },
  {
   "cell_type": "markdown",
   "id": "5c11098b",
   "metadata": {},
   "source": [
    "The correlation value is very low and we shouldn't consider this variable when fitting the model."
   ]
  },
  {
   "cell_type": "code",
   "execution_count": 53,
   "id": "b0216446",
   "metadata": {},
   "outputs": [],
   "source": [
    "#Similarly we will find out other correlation coefficients to compare\n",
    "correlationFunc<-function(variable){\n",
    "    cor(variable, trainData$V86)\n",
    "}"
   ]
  },
  {
   "cell_type": "code",
   "execution_count": 54,
   "id": "792e6e25",
   "metadata": {},
   "outputs": [
    {
     "name": "stdout",
     "output_type": "stream",
     "text": [
      "[1] 0.03557316\n",
      "[1] 0.004490697\n",
      "[1] -0.06929983\n"
     ]
    }
   ],
   "source": [
    "#V3- Average size household\n",
    "print(correlationFunc(trainData$V3))\n",
    "#V4 - Average Age\n",
    "print(correlationFunc(trainData$V4))\n",
    "#V4 - Customer Main Type\n",
    "print(correlationFunc(trainData$V5))"
   ]
  },
  {
   "cell_type": "markdown",
   "id": "c22f7822",
   "metadata": {},
   "source": [
    "From these values we can observe V1 and V5 are having same correlation values, and V3 can also be considered for fitting with the model.\n",
    "But as we have to choose one among V1 and V5, we will find out the std deviation between the 2."
   ]
  },
  {
   "cell_type": "code",
   "execution_count": 55,
   "id": "8b9b946b",
   "metadata": {},
   "outputs": [
    {
     "name": "stderr",
     "output_type": "stream",
     "text": [
      "Loading required package: survival\n",
      "\n",
      "\n",
      "Attaching package: 'survival'\n",
      "\n",
      "\n",
      "The following object is masked from 'package:caret':\n",
      "\n",
      "    cluster\n",
      "\n",
      "\n",
      "Loading required package: Formula\n",
      "\n",
      "\n",
      "Attaching package: 'Hmisc'\n",
      "\n",
      "\n",
      "The following objects are masked from 'package:dplyr':\n",
      "\n",
      "    src, summarize\n",
      "\n",
      "\n",
      "The following objects are masked from 'package:plyr':\n",
      "\n",
      "    is.discrete, summarize\n",
      "\n",
      "\n",
      "The following objects are masked from 'package:base':\n",
      "\n",
      "    format.pval, units\n",
      "\n",
      "\n"
     ]
    },
    {
     "data": {
      "text/plain": [
       "trainData[, c(\"V1\", \"V5\")] \n",
       "\n",
       " 2  Variables      5822  Observations\n",
       "--------------------------------------------------------------------------------\n",
       "V1 \n",
       "       n  missing distinct     Info     Mean      Gmd      .05      .10 \n",
       "    5822        0       40    0.996    24.25    14.38        3        6 \n",
       "     .25      .50      .75      .90      .95 \n",
       "      10       30       35       39       39 \n",
       "\n",
       "lowest :  1  2  3  4  5, highest: 37 38 39 40 41\n",
       "--------------------------------------------------------------------------------\n",
       "V5 \n",
       "       n  missing distinct     Info     Mean      Gmd      .05      .10 \n",
       "    5822        0       10    0.972    5.774    3.207        1        2 \n",
       "     .25      .50      .75      .90      .95 \n",
       "       3        7        8        9        9 \n",
       "\n",
       "lowest :  1  2  3  4  5, highest:  6  7  8  9 10\n",
       "                                                                      \n",
       "Value          1     2     3     4     5     6     7     8     9    10\n",
       "Frequency    552   502   886    52   569   205   550  1563   667   276\n",
       "Proportion 0.095 0.086 0.152 0.009 0.098 0.035 0.094 0.268 0.115 0.047\n",
       "--------------------------------------------------------------------------------"
      ]
     },
     "metadata": {},
     "output_type": "display_data"
    }
   ],
   "source": [
    "library(Hmisc)\n",
    "describe(trainData[,c(\"V1\",\"V5\")])"
   ]
  },
  {
   "cell_type": "markdown",
   "id": "cdea852a",
   "metadata": {},
   "source": [
    "V1 has high std which will help us in modelling process."
   ]
  },
  {
   "cell_type": "markdown",
   "id": "56ecf3be",
   "metadata": {},
   "source": [
    "Instead of calculating each of the correlations we can implement correlation matrix."
   ]
  },
  {
   "cell_type": "code",
   "execution_count": 56,
   "id": "8700fd43",
   "metadata": {},
   "outputs": [],
   "source": [
    "#We will exclude V2, V3, V4, V5 as we have already got their results.\n",
    "trainDataDup<- data.frame(trainData[, -c(2,3,4,5)])"
   ]
  },
  {
   "cell_type": "code",
   "execution_count": 57,
   "id": "e3c4f92d",
   "metadata": {},
   "outputs": [
    {
     "data": {
      "text/html": [
       "<table class=\"dataframe\">\n",
       "<caption>A data.frame: 6 × 82</caption>\n",
       "<thead>\n",
       "\t<tr><th></th><th scope=col>V1</th><th scope=col>V6</th><th scope=col>V7</th><th scope=col>V8</th><th scope=col>V9</th><th scope=col>V10</th><th scope=col>V11</th><th scope=col>V12</th><th scope=col>V13</th><th scope=col>V14</th><th scope=col>⋯</th><th scope=col>V77</th><th scope=col>V78</th><th scope=col>V79</th><th scope=col>V80</th><th scope=col>V81</th><th scope=col>V82</th><th scope=col>V83</th><th scope=col>V84</th><th scope=col>V85</th><th scope=col>V86</th></tr>\n",
       "\t<tr><th></th><th scope=col>&lt;int&gt;</th><th scope=col>&lt;int&gt;</th><th scope=col>&lt;int&gt;</th><th scope=col>&lt;int&gt;</th><th scope=col>&lt;int&gt;</th><th scope=col>&lt;int&gt;</th><th scope=col>&lt;int&gt;</th><th scope=col>&lt;int&gt;</th><th scope=col>&lt;int&gt;</th><th scope=col>&lt;int&gt;</th><th scope=col>⋯</th><th scope=col>&lt;int&gt;</th><th scope=col>&lt;int&gt;</th><th scope=col>&lt;int&gt;</th><th scope=col>&lt;int&gt;</th><th scope=col>&lt;int&gt;</th><th scope=col>&lt;int&gt;</th><th scope=col>&lt;int&gt;</th><th scope=col>&lt;int&gt;</th><th scope=col>&lt;int&gt;</th><th scope=col>&lt;int&gt;</th></tr>\n",
       "</thead>\n",
       "<tbody>\n",
       "\t<tr><th scope=row>1</th><td>33</td><td>0</td><td>5</td><td>1</td><td>3</td><td>7</td><td>0</td><td>2</td><td>1</td><td>2</td><td>⋯</td><td>0</td><td>0</td><td>0</td><td>1</td><td>0</td><td>0</td><td>0</td><td>0</td><td>0</td><td>0</td></tr>\n",
       "\t<tr><th scope=row>2</th><td>37</td><td>1</td><td>4</td><td>1</td><td>4</td><td>6</td><td>2</td><td>2</td><td>0</td><td>4</td><td>⋯</td><td>0</td><td>0</td><td>0</td><td>1</td><td>0</td><td>0</td><td>0</td><td>0</td><td>0</td><td>0</td></tr>\n",
       "\t<tr><th scope=row>3</th><td>37</td><td>0</td><td>4</td><td>2</td><td>4</td><td>3</td><td>2</td><td>4</td><td>4</td><td>4</td><td>⋯</td><td>0</td><td>0</td><td>0</td><td>1</td><td>0</td><td>0</td><td>0</td><td>0</td><td>0</td><td>0</td></tr>\n",
       "\t<tr><th scope=row>4</th><td> 9</td><td>2</td><td>3</td><td>2</td><td>4</td><td>5</td><td>2</td><td>2</td><td>2</td><td>3</td><td>⋯</td><td>0</td><td>0</td><td>0</td><td>1</td><td>0</td><td>0</td><td>0</td><td>0</td><td>0</td><td>0</td></tr>\n",
       "\t<tr><th scope=row>5</th><td>40</td><td>1</td><td>4</td><td>1</td><td>4</td><td>7</td><td>1</td><td>2</td><td>2</td><td>4</td><td>⋯</td><td>0</td><td>0</td><td>0</td><td>1</td><td>0</td><td>0</td><td>0</td><td>0</td><td>0</td><td>0</td></tr>\n",
       "\t<tr><th scope=row>6</th><td>23</td><td>0</td><td>5</td><td>0</td><td>5</td><td>0</td><td>6</td><td>3</td><td>3</td><td>5</td><td>⋯</td><td>0</td><td>0</td><td>0</td><td>0</td><td>0</td><td>0</td><td>0</td><td>0</td><td>0</td><td>0</td></tr>\n",
       "</tbody>\n",
       "</table>\n"
      ],
      "text/latex": [
       "A data.frame: 6 × 82\n",
       "\\begin{tabular}{r|lllllllllllllllllllll}\n",
       "  & V1 & V6 & V7 & V8 & V9 & V10 & V11 & V12 & V13 & V14 & ⋯ & V77 & V78 & V79 & V80 & V81 & V82 & V83 & V84 & V85 & V86\\\\\n",
       "  & <int> & <int> & <int> & <int> & <int> & <int> & <int> & <int> & <int> & <int> & ⋯ & <int> & <int> & <int> & <int> & <int> & <int> & <int> & <int> & <int> & <int>\\\\\n",
       "\\hline\n",
       "\t1 & 33 & 0 & 5 & 1 & 3 & 7 & 0 & 2 & 1 & 2 & ⋯ & 0 & 0 & 0 & 1 & 0 & 0 & 0 & 0 & 0 & 0\\\\\n",
       "\t2 & 37 & 1 & 4 & 1 & 4 & 6 & 2 & 2 & 0 & 4 & ⋯ & 0 & 0 & 0 & 1 & 0 & 0 & 0 & 0 & 0 & 0\\\\\n",
       "\t3 & 37 & 0 & 4 & 2 & 4 & 3 & 2 & 4 & 4 & 4 & ⋯ & 0 & 0 & 0 & 1 & 0 & 0 & 0 & 0 & 0 & 0\\\\\n",
       "\t4 &  9 & 2 & 3 & 2 & 4 & 5 & 2 & 2 & 2 & 3 & ⋯ & 0 & 0 & 0 & 1 & 0 & 0 & 0 & 0 & 0 & 0\\\\\n",
       "\t5 & 40 & 1 & 4 & 1 & 4 & 7 & 1 & 2 & 2 & 4 & ⋯ & 0 & 0 & 0 & 1 & 0 & 0 & 0 & 0 & 0 & 0\\\\\n",
       "\t6 & 23 & 0 & 5 & 0 & 5 & 0 & 6 & 3 & 3 & 5 & ⋯ & 0 & 0 & 0 & 0 & 0 & 0 & 0 & 0 & 0 & 0\\\\\n",
       "\\end{tabular}\n"
      ],
      "text/markdown": [
       "\n",
       "A data.frame: 6 × 82\n",
       "\n",
       "| <!--/--> | V1 &lt;int&gt; | V6 &lt;int&gt; | V7 &lt;int&gt; | V8 &lt;int&gt; | V9 &lt;int&gt; | V10 &lt;int&gt; | V11 &lt;int&gt; | V12 &lt;int&gt; | V13 &lt;int&gt; | V14 &lt;int&gt; | ⋯ ⋯ | V77 &lt;int&gt; | V78 &lt;int&gt; | V79 &lt;int&gt; | V80 &lt;int&gt; | V81 &lt;int&gt; | V82 &lt;int&gt; | V83 &lt;int&gt; | V84 &lt;int&gt; | V85 &lt;int&gt; | V86 &lt;int&gt; |\n",
       "|---|---|---|---|---|---|---|---|---|---|---|---|---|---|---|---|---|---|---|---|---|---|\n",
       "| 1 | 33 | 0 | 5 | 1 | 3 | 7 | 0 | 2 | 1 | 2 | ⋯ | 0 | 0 | 0 | 1 | 0 | 0 | 0 | 0 | 0 | 0 |\n",
       "| 2 | 37 | 1 | 4 | 1 | 4 | 6 | 2 | 2 | 0 | 4 | ⋯ | 0 | 0 | 0 | 1 | 0 | 0 | 0 | 0 | 0 | 0 |\n",
       "| 3 | 37 | 0 | 4 | 2 | 4 | 3 | 2 | 4 | 4 | 4 | ⋯ | 0 | 0 | 0 | 1 | 0 | 0 | 0 | 0 | 0 | 0 |\n",
       "| 4 |  9 | 2 | 3 | 2 | 4 | 5 | 2 | 2 | 2 | 3 | ⋯ | 0 | 0 | 0 | 1 | 0 | 0 | 0 | 0 | 0 | 0 |\n",
       "| 5 | 40 | 1 | 4 | 1 | 4 | 7 | 1 | 2 | 2 | 4 | ⋯ | 0 | 0 | 0 | 1 | 0 | 0 | 0 | 0 | 0 | 0 |\n",
       "| 6 | 23 | 0 | 5 | 0 | 5 | 0 | 6 | 3 | 3 | 5 | ⋯ | 0 | 0 | 0 | 0 | 0 | 0 | 0 | 0 | 0 | 0 |\n",
       "\n"
      ],
      "text/plain": [
       "  V1 V6 V7 V8 V9 V10 V11 V12 V13 V14 ⋯ V77 V78 V79 V80 V81 V82 V83 V84 V85 V86\n",
       "1 33 0  5  1  3  7   0   2   1   2   ⋯ 0   0   0   1   0   0   0   0   0   0  \n",
       "2 37 1  4  1  4  6   2   2   0   4   ⋯ 0   0   0   1   0   0   0   0   0   0  \n",
       "3 37 0  4  2  4  3   2   4   4   4   ⋯ 0   0   0   1   0   0   0   0   0   0  \n",
       "4  9 2  3  2  4  5   2   2   2   3   ⋯ 0   0   0   1   0   0   0   0   0   0  \n",
       "5 40 1  4  1  4  7   1   2   2   4   ⋯ 0   0   0   1   0   0   0   0   0   0  \n",
       "6 23 0  5  0  5  0   6   3   3   5   ⋯ 0   0   0   0   0   0   0   0   0   0  "
      ]
     },
     "metadata": {},
     "output_type": "display_data"
    }
   ],
   "source": [
    "head(trainDataDup)"
   ]
  },
  {
   "cell_type": "code",
   "execution_count": 58,
   "id": "136e7121",
   "metadata": {},
   "outputs": [],
   "source": [
    "#Excluding the response variable V86\n",
    "corTrainingData<-cor(trainDataDup[, -c(86)])"
   ]
  },
  {
   "cell_type": "code",
   "execution_count": 59,
   "id": "da6472b0",
   "metadata": {},
   "outputs": [
    {
     "data": {
      "text/plain": [
       "      Min.    1st Qu.     Median       Mean    3rd Qu.       Max. \n",
       "-0.9995539 -0.0153139 -0.0004151  0.0091411  0.0259139  0.9875786 "
      ]
     },
     "metadata": {},
     "output_type": "display_data"
    }
   ],
   "source": [
    "summary(corTrainingData[upper.tri(corTrainingData)])"
   ]
  },
  {
   "cell_type": "code",
   "execution_count": 60,
   "id": "bd8446f4",
   "metadata": {},
   "outputs": [],
   "source": [
    "maxCor<-findCorrelation(corTrainingData, cutoff = 0.70, names = TRUE)"
   ]
  },
  {
   "cell_type": "code",
   "execution_count": 61,
   "id": "97c9dae2",
   "metadata": {},
   "outputs": [
    {
     "data": {
      "text/html": [
       "<style>\n",
       ".list-inline {list-style: none; margin:0; padding: 0}\n",
       ".list-inline>li {display: inline-block}\n",
       ".list-inline>li:not(:last-child)::after {content: \"\\00b7\"; padding: 0 .5ex}\n",
       "</style>\n",
       "<ol class=list-inline><li>'V18'</li><li>'V36'</li><li>'V31'</li><li>'V34'</li><li>'V10'</li><li>'V12'</li><li>'V59'</li><li>'V52'</li><li>'V65'</li><li>'V46'</li><li>'V74'</li><li>'V9'</li><li>'V47'</li><li>'V48'</li><li>'V66'</li><li>'V72'</li><li>'V54'</li><li>'V85'</li><li>'V76'</li><li>'V79'</li><li>'V71'</li><li>'V78'</li><li>'V62'</li><li>'V82'</li><li>'V63'</li><li>'V77'</li><li>'V70'</li><li>'V60'</li></ol>\n"
      ],
      "text/latex": [
       "\\begin{enumerate*}\n",
       "\\item 'V18'\n",
       "\\item 'V36'\n",
       "\\item 'V31'\n",
       "\\item 'V34'\n",
       "\\item 'V10'\n",
       "\\item 'V12'\n",
       "\\item 'V59'\n",
       "\\item 'V52'\n",
       "\\item 'V65'\n",
       "\\item 'V46'\n",
       "\\item 'V74'\n",
       "\\item 'V9'\n",
       "\\item 'V47'\n",
       "\\item 'V48'\n",
       "\\item 'V66'\n",
       "\\item 'V72'\n",
       "\\item 'V54'\n",
       "\\item 'V85'\n",
       "\\item 'V76'\n",
       "\\item 'V79'\n",
       "\\item 'V71'\n",
       "\\item 'V78'\n",
       "\\item 'V62'\n",
       "\\item 'V82'\n",
       "\\item 'V63'\n",
       "\\item 'V77'\n",
       "\\item 'V70'\n",
       "\\item 'V60'\n",
       "\\end{enumerate*}\n"
      ],
      "text/markdown": [
       "1. 'V18'\n",
       "2. 'V36'\n",
       "3. 'V31'\n",
       "4. 'V34'\n",
       "5. 'V10'\n",
       "6. 'V12'\n",
       "7. 'V59'\n",
       "8. 'V52'\n",
       "9. 'V65'\n",
       "10. 'V46'\n",
       "11. 'V74'\n",
       "12. 'V9'\n",
       "13. 'V47'\n",
       "14. 'V48'\n",
       "15. 'V66'\n",
       "16. 'V72'\n",
       "17. 'V54'\n",
       "18. 'V85'\n",
       "19. 'V76'\n",
       "20. 'V79'\n",
       "21. 'V71'\n",
       "22. 'V78'\n",
       "23. 'V62'\n",
       "24. 'V82'\n",
       "25. 'V63'\n",
       "26. 'V77'\n",
       "27. 'V70'\n",
       "28. 'V60'\n",
       "\n",
       "\n"
      ],
      "text/plain": [
       " [1] \"V18\" \"V36\" \"V31\" \"V34\" \"V10\" \"V12\" \"V59\" \"V52\" \"V65\" \"V46\" \"V74\" \"V9\" \n",
       "[13] \"V47\" \"V48\" \"V66\" \"V72\" \"V54\" \"V85\" \"V76\" \"V79\" \"V71\" \"V78\" \"V62\" \"V82\"\n",
       "[25] \"V63\" \"V77\" \"V70\" \"V60\""
      ]
     },
     "metadata": {},
     "output_type": "display_data"
    }
   ],
   "source": [
    "maxCor"
   ]
  },
  {
   "cell_type": "markdown",
   "id": "3008e0c3",
   "metadata": {},
   "source": [
    "These are the potential variables with high correlation. Let us check how they correlation with the target variable V86"
   ]
  },
  {
   "cell_type": "code",
   "execution_count": 62,
   "id": "d01cd544",
   "metadata": {},
   "outputs": [
    {
     "data": {
      "text/html": [
       "<style>\n",
       ".list-inline {list-style: none; margin:0; padding: 0}\n",
       ".list-inline>li {display: inline-block}\n",
       ".list-inline>li:not(:last-child)::after {content: \"\\00b7\"; padding: 0 .5ex}\n",
       "</style>\n",
       "<ol class=list-inline><li>28</li><li>1</li></ol>\n"
      ],
      "text/latex": [
       "\\begin{enumerate*}\n",
       "\\item 28\n",
       "\\item 1\n",
       "\\end{enumerate*}\n"
      ],
      "text/markdown": [
       "1. 28\n",
       "2. 1\n",
       "\n",
       "\n"
      ],
      "text/plain": [
       "[1] 28  1"
      ]
     },
     "metadata": {},
     "output_type": "display_data"
    },
    {
     "data": {
      "text/html": [
       "<table class=\"dataframe\">\n",
       "<caption>A data.frame: 28 × 1</caption>\n",
       "<thead>\n",
       "\t<tr><th></th><th scope=col>V86</th></tr>\n",
       "\t<tr><th></th><th scope=col>&lt;dbl&gt;</th></tr>\n",
       "</thead>\n",
       "<tbody>\n",
       "\t<tr><th scope=row>V47</th><td> 0.1509097148</td></tr>\n",
       "\t<tr><th scope=row>V82</th><td> 0.1056995045</td></tr>\n",
       "\t<tr><th scope=row>V59</th><td> 0.0944459897</td></tr>\n",
       "\t<tr><th scope=row>V65</th><td> 0.0893874727</td></tr>\n",
       "\t<tr><th scope=row>V31</th><td> 0.0784289165</td></tr>\n",
       "\t<tr><th scope=row>V10</th><td> 0.0702638279</td></tr>\n",
       "\t<tr><th scope=row>V85</th><td> 0.0666578513</td></tr>\n",
       "\t<tr><th scope=row>V36</th><td> 0.0575181930</td></tr>\n",
       "\t<tr><th scope=row>V76</th><td> 0.0371176230</td></tr>\n",
       "\t<tr><th scope=row>V78</th><td> 0.0335484032</td></tr>\n",
       "\t<tr><th scope=row>V62</th><td> 0.0286954418</td></tr>\n",
       "\t<tr><th scope=row>V79</th><td> 0.0223373107</td></tr>\n",
       "\t<tr><th scope=row>V60</th><td> 0.0116891605</td></tr>\n",
       "\t<tr><th scope=row>V72</th><td> 0.0094282251</td></tr>\n",
       "\t<tr><th scope=row>V70</th><td> 0.0085891397</td></tr>\n",
       "\t<tr><th scope=row>V63</th><td> 0.0055281002</td></tr>\n",
       "\t<tr><th scope=row>V66</th><td>-0.0007589975</td></tr>\n",
       "\t<tr><th scope=row>V48</th><td>-0.0065406802</td></tr>\n",
       "\t<tr><th scope=row>V77</th><td>-0.0084919429</td></tr>\n",
       "\t<tr><th scope=row>V71</th><td>-0.0089630287</td></tr>\n",
       "\t<tr><th scope=row>V52</th><td>-0.0122766711</td></tr>\n",
       "\t<tr><th scope=row>V74</th><td>-0.0125550985</td></tr>\n",
       "\t<tr><th scope=row>V46</th><td>-0.0216306917</td></tr>\n",
       "\t<tr><th scope=row>V9</th><td>-0.0417068857</td></tr>\n",
       "\t<tr><th scope=row>V54</th><td>-0.0444097107</td></tr>\n",
       "\t<tr><th scope=row>V12</th><td>-0.0622853593</td></tr>\n",
       "\t<tr><th scope=row>V34</th><td>-0.0765007839</td></tr>\n",
       "\t<tr><th scope=row>V18</th><td>-0.0905613304</td></tr>\n",
       "</tbody>\n",
       "</table>\n"
      ],
      "text/latex": [
       "A data.frame: 28 × 1\n",
       "\\begin{tabular}{r|l}\n",
       "  & V86\\\\\n",
       "  & <dbl>\\\\\n",
       "\\hline\n",
       "\tV47 &  0.1509097148\\\\\n",
       "\tV82 &  0.1056995045\\\\\n",
       "\tV59 &  0.0944459897\\\\\n",
       "\tV65 &  0.0893874727\\\\\n",
       "\tV31 &  0.0784289165\\\\\n",
       "\tV10 &  0.0702638279\\\\\n",
       "\tV85 &  0.0666578513\\\\\n",
       "\tV36 &  0.0575181930\\\\\n",
       "\tV76 &  0.0371176230\\\\\n",
       "\tV78 &  0.0335484032\\\\\n",
       "\tV62 &  0.0286954418\\\\\n",
       "\tV79 &  0.0223373107\\\\\n",
       "\tV60 &  0.0116891605\\\\\n",
       "\tV72 &  0.0094282251\\\\\n",
       "\tV70 &  0.0085891397\\\\\n",
       "\tV63 &  0.0055281002\\\\\n",
       "\tV66 & -0.0007589975\\\\\n",
       "\tV48 & -0.0065406802\\\\\n",
       "\tV77 & -0.0084919429\\\\\n",
       "\tV71 & -0.0089630287\\\\\n",
       "\tV52 & -0.0122766711\\\\\n",
       "\tV74 & -0.0125550985\\\\\n",
       "\tV46 & -0.0216306917\\\\\n",
       "\tV9 & -0.0417068857\\\\\n",
       "\tV54 & -0.0444097107\\\\\n",
       "\tV12 & -0.0622853593\\\\\n",
       "\tV34 & -0.0765007839\\\\\n",
       "\tV18 & -0.0905613304\\\\\n",
       "\\end{tabular}\n"
      ],
      "text/markdown": [
       "\n",
       "A data.frame: 28 × 1\n",
       "\n",
       "| <!--/--> | V86 &lt;dbl&gt; |\n",
       "|---|---|\n",
       "| V47 |  0.1509097148 |\n",
       "| V82 |  0.1056995045 |\n",
       "| V59 |  0.0944459897 |\n",
       "| V65 |  0.0893874727 |\n",
       "| V31 |  0.0784289165 |\n",
       "| V10 |  0.0702638279 |\n",
       "| V85 |  0.0666578513 |\n",
       "| V36 |  0.0575181930 |\n",
       "| V76 |  0.0371176230 |\n",
       "| V78 |  0.0335484032 |\n",
       "| V62 |  0.0286954418 |\n",
       "| V79 |  0.0223373107 |\n",
       "| V60 |  0.0116891605 |\n",
       "| V72 |  0.0094282251 |\n",
       "| V70 |  0.0085891397 |\n",
       "| V63 |  0.0055281002 |\n",
       "| V66 | -0.0007589975 |\n",
       "| V48 | -0.0065406802 |\n",
       "| V77 | -0.0084919429 |\n",
       "| V71 | -0.0089630287 |\n",
       "| V52 | -0.0122766711 |\n",
       "| V74 | -0.0125550985 |\n",
       "| V46 | -0.0216306917 |\n",
       "| V9 | -0.0417068857 |\n",
       "| V54 | -0.0444097107 |\n",
       "| V12 | -0.0622853593 |\n",
       "| V34 | -0.0765007839 |\n",
       "| V18 | -0.0905613304 |\n",
       "\n"
      ],
      "text/plain": [
       "    V86          \n",
       "V47  0.1509097148\n",
       "V82  0.1056995045\n",
       "V59  0.0944459897\n",
       "V65  0.0893874727\n",
       "V31  0.0784289165\n",
       "V10  0.0702638279\n",
       "V85  0.0666578513\n",
       "V36  0.0575181930\n",
       "V76  0.0371176230\n",
       "V78  0.0335484032\n",
       "V62  0.0286954418\n",
       "V79  0.0223373107\n",
       "V60  0.0116891605\n",
       "V72  0.0094282251\n",
       "V70  0.0085891397\n",
       "V63  0.0055281002\n",
       "V66 -0.0007589975\n",
       "V48 -0.0065406802\n",
       "V77 -0.0084919429\n",
       "V71 -0.0089630287\n",
       "V52 -0.0122766711\n",
       "V74 -0.0125550985\n",
       "V46 -0.0216306917\n",
       "V9  -0.0417068857\n",
       "V54 -0.0444097107\n",
       "V12 -0.0622853593\n",
       "V34 -0.0765007839\n",
       "V18 -0.0905613304"
      ]
     },
     "metadata": {},
     "output_type": "display_data"
    }
   ],
   "source": [
    "targetCor<-data.frame(V86 = cor(trainDataDup[, sort(maxCor)], trainDataDup[,\"V86\"]))\n",
    "dim(targetCor)\n",
    "targetCor[order(targetCor$V86, decreasing = T),,drop = F]"
   ]
  },
  {
   "cell_type": "markdown",
   "id": "c2a7a2c0",
   "metadata": {},
   "source": [
    "From this table, we can exclude the variables whose coefficient lower than 0.1 or 10%."
   ]
  },
  {
   "cell_type": "code",
   "execution_count": 63,
   "id": "a3df2167",
   "metadata": {},
   "outputs": [
    {
     "data": {
      "text/html": [
       "<style>\n",
       ".list-inline {list-style: none; margin:0; padding: 0}\n",
       ".list-inline>li {display: inline-block}\n",
       ".list-inline>li:not(:last-child)::after {content: \"\\00b7\"; padding: 0 .5ex}\n",
       "</style>\n",
       "<ol class=list-inline><li>'V10'</li><li>'V12'</li><li>'V18'</li><li>'V31'</li><li>'V34'</li><li>'V36'</li><li>'V46'</li><li>'V48'</li><li>'V52'</li><li>'V54'</li><li>'V59'</li><li>'V60'</li><li>'V62'</li><li>'V63'</li><li>'V65'</li><li>'V66'</li><li>'V70'</li><li>'V71'</li><li>'V72'</li><li>'V74'</li><li>'V76'</li><li>'V77'</li><li>'V78'</li><li>'V79'</li><li>'V85'</li><li>'V9'</li></ol>\n"
      ],
      "text/latex": [
       "\\begin{enumerate*}\n",
       "\\item 'V10'\n",
       "\\item 'V12'\n",
       "\\item 'V18'\n",
       "\\item 'V31'\n",
       "\\item 'V34'\n",
       "\\item 'V36'\n",
       "\\item 'V46'\n",
       "\\item 'V48'\n",
       "\\item 'V52'\n",
       "\\item 'V54'\n",
       "\\item 'V59'\n",
       "\\item 'V60'\n",
       "\\item 'V62'\n",
       "\\item 'V63'\n",
       "\\item 'V65'\n",
       "\\item 'V66'\n",
       "\\item 'V70'\n",
       "\\item 'V71'\n",
       "\\item 'V72'\n",
       "\\item 'V74'\n",
       "\\item 'V76'\n",
       "\\item 'V77'\n",
       "\\item 'V78'\n",
       "\\item 'V79'\n",
       "\\item 'V85'\n",
       "\\item 'V9'\n",
       "\\end{enumerate*}\n"
      ],
      "text/markdown": [
       "1. 'V10'\n",
       "2. 'V12'\n",
       "3. 'V18'\n",
       "4. 'V31'\n",
       "5. 'V34'\n",
       "6. 'V36'\n",
       "7. 'V46'\n",
       "8. 'V48'\n",
       "9. 'V52'\n",
       "10. 'V54'\n",
       "11. 'V59'\n",
       "12. 'V60'\n",
       "13. 'V62'\n",
       "14. 'V63'\n",
       "15. 'V65'\n",
       "16. 'V66'\n",
       "17. 'V70'\n",
       "18. 'V71'\n",
       "19. 'V72'\n",
       "20. 'V74'\n",
       "21. 'V76'\n",
       "22. 'V77'\n",
       "23. 'V78'\n",
       "24. 'V79'\n",
       "25. 'V85'\n",
       "26. 'V9'\n",
       "\n",
       "\n"
      ],
      "text/plain": [
       " [1] \"V10\" \"V12\" \"V18\" \"V31\" \"V34\" \"V36\" \"V46\" \"V48\" \"V52\" \"V54\" \"V59\" \"V60\"\n",
       "[13] \"V62\" \"V63\" \"V65\" \"V66\" \"V70\" \"V71\" \"V72\" \"V74\" \"V76\" \"V77\" \"V78\" \"V79\"\n",
       "[25] \"V85\" \"V9\" "
      ]
     },
     "metadata": {},
     "output_type": "display_data"
    }
   ],
   "source": [
    "excludedVars<-row.names(targetCor[targetCor$V86<0.1, ,drop = F])\n",
    "excludedVars"
   ]
  },
  {
   "cell_type": "code",
   "execution_count": 64,
   "id": "321ea3e4",
   "metadata": {},
   "outputs": [],
   "source": [
    "trainDataDup1 <-data.frame(trainDataDup[,!colnames(trainDataDup) %in% excludedVars])"
   ]
  },
  {
   "cell_type": "code",
   "execution_count": 65,
   "id": "3a065136",
   "metadata": {},
   "outputs": [
    {
     "data": {
      "text/html": [
       "<style>\n",
       ".list-inline {list-style: none; margin:0; padding: 0}\n",
       ".list-inline>li {display: inline-block}\n",
       ".list-inline>li:not(:last-child)::after {content: \"\\00b7\"; padding: 0 .5ex}\n",
       "</style>\n",
       "<ol class=list-inline><li>5822</li><li>56</li></ol>\n"
      ],
      "text/latex": [
       "\\begin{enumerate*}\n",
       "\\item 5822\n",
       "\\item 56\n",
       "\\end{enumerate*}\n"
      ],
      "text/markdown": [
       "1. 5822\n",
       "2. 56\n",
       "\n",
       "\n"
      ],
      "text/plain": [
       "[1] 5822   56"
      ]
     },
     "metadata": {},
     "output_type": "display_data"
    }
   ],
   "source": [
    "dim(trainDataDup1)"
   ]
  },
  {
   "cell_type": "code",
   "execution_count": 66,
   "id": "3e5e6238",
   "metadata": {},
   "outputs": [
    {
     "data": {
      "text/html": [
       "<table class=\"dataframe\">\n",
       "<caption>A data.frame: 6 × 56</caption>\n",
       "<thead>\n",
       "\t<tr><th></th><th scope=col>V1</th><th scope=col>V6</th><th scope=col>V7</th><th scope=col>V8</th><th scope=col>V11</th><th scope=col>V13</th><th scope=col>V14</th><th scope=col>V15</th><th scope=col>V16</th><th scope=col>V17</th><th scope=col>⋯</th><th scope=col>V68</th><th scope=col>V69</th><th scope=col>V73</th><th scope=col>V75</th><th scope=col>V80</th><th scope=col>V81</th><th scope=col>V82</th><th scope=col>V83</th><th scope=col>V84</th><th scope=col>V86</th></tr>\n",
       "\t<tr><th></th><th scope=col>&lt;int&gt;</th><th scope=col>&lt;int&gt;</th><th scope=col>&lt;int&gt;</th><th scope=col>&lt;int&gt;</th><th scope=col>&lt;int&gt;</th><th scope=col>&lt;int&gt;</th><th scope=col>&lt;int&gt;</th><th scope=col>&lt;int&gt;</th><th scope=col>&lt;int&gt;</th><th scope=col>&lt;int&gt;</th><th scope=col>⋯</th><th scope=col>&lt;int&gt;</th><th scope=col>&lt;int&gt;</th><th scope=col>&lt;int&gt;</th><th scope=col>&lt;int&gt;</th><th scope=col>&lt;int&gt;</th><th scope=col>&lt;int&gt;</th><th scope=col>&lt;int&gt;</th><th scope=col>&lt;int&gt;</th><th scope=col>&lt;int&gt;</th><th scope=col>&lt;int&gt;</th></tr>\n",
       "</thead>\n",
       "<tbody>\n",
       "\t<tr><th scope=row>1</th><td>33</td><td>0</td><td>5</td><td>1</td><td>0</td><td>1</td><td>2</td><td>6</td><td>1</td><td>2</td><td>⋯</td><td>1</td><td>0</td><td>0</td><td>0</td><td>1</td><td>0</td><td>0</td><td>0</td><td>0</td><td>0</td></tr>\n",
       "\t<tr><th scope=row>2</th><td>37</td><td>1</td><td>4</td><td>1</td><td>2</td><td>0</td><td>4</td><td>5</td><td>0</td><td>5</td><td>⋯</td><td>0</td><td>0</td><td>0</td><td>0</td><td>1</td><td>0</td><td>0</td><td>0</td><td>0</td><td>0</td></tr>\n",
       "\t<tr><th scope=row>3</th><td>37</td><td>0</td><td>4</td><td>2</td><td>2</td><td>4</td><td>4</td><td>2</td><td>0</td><td>5</td><td>⋯</td><td>1</td><td>0</td><td>0</td><td>0</td><td>1</td><td>0</td><td>0</td><td>0</td><td>0</td><td>0</td></tr>\n",
       "\t<tr><th scope=row>4</th><td> 9</td><td>2</td><td>3</td><td>2</td><td>2</td><td>2</td><td>3</td><td>4</td><td>3</td><td>4</td><td>⋯</td><td>1</td><td>0</td><td>0</td><td>0</td><td>1</td><td>0</td><td>0</td><td>0</td><td>0</td><td>0</td></tr>\n",
       "\t<tr><th scope=row>5</th><td>40</td><td>1</td><td>4</td><td>1</td><td>1</td><td>2</td><td>4</td><td>4</td><td>5</td><td>4</td><td>⋯</td><td>0</td><td>0</td><td>0</td><td>0</td><td>1</td><td>0</td><td>0</td><td>0</td><td>0</td><td>0</td></tr>\n",
       "\t<tr><th scope=row>6</th><td>23</td><td>0</td><td>5</td><td>0</td><td>6</td><td>3</td><td>5</td><td>2</td><td>0</td><td>5</td><td>⋯</td><td>1</td><td>0</td><td>0</td><td>0</td><td>0</td><td>0</td><td>0</td><td>0</td><td>0</td><td>0</td></tr>\n",
       "</tbody>\n",
       "</table>\n"
      ],
      "text/latex": [
       "A data.frame: 6 × 56\n",
       "\\begin{tabular}{r|lllllllllllllllllllll}\n",
       "  & V1 & V6 & V7 & V8 & V11 & V13 & V14 & V15 & V16 & V17 & ⋯ & V68 & V69 & V73 & V75 & V80 & V81 & V82 & V83 & V84 & V86\\\\\n",
       "  & <int> & <int> & <int> & <int> & <int> & <int> & <int> & <int> & <int> & <int> & ⋯ & <int> & <int> & <int> & <int> & <int> & <int> & <int> & <int> & <int> & <int>\\\\\n",
       "\\hline\n",
       "\t1 & 33 & 0 & 5 & 1 & 0 & 1 & 2 & 6 & 1 & 2 & ⋯ & 1 & 0 & 0 & 0 & 1 & 0 & 0 & 0 & 0 & 0\\\\\n",
       "\t2 & 37 & 1 & 4 & 1 & 2 & 0 & 4 & 5 & 0 & 5 & ⋯ & 0 & 0 & 0 & 0 & 1 & 0 & 0 & 0 & 0 & 0\\\\\n",
       "\t3 & 37 & 0 & 4 & 2 & 2 & 4 & 4 & 2 & 0 & 5 & ⋯ & 1 & 0 & 0 & 0 & 1 & 0 & 0 & 0 & 0 & 0\\\\\n",
       "\t4 &  9 & 2 & 3 & 2 & 2 & 2 & 3 & 4 & 3 & 4 & ⋯ & 1 & 0 & 0 & 0 & 1 & 0 & 0 & 0 & 0 & 0\\\\\n",
       "\t5 & 40 & 1 & 4 & 1 & 1 & 2 & 4 & 4 & 5 & 4 & ⋯ & 0 & 0 & 0 & 0 & 1 & 0 & 0 & 0 & 0 & 0\\\\\n",
       "\t6 & 23 & 0 & 5 & 0 & 6 & 3 & 5 & 2 & 0 & 5 & ⋯ & 1 & 0 & 0 & 0 & 0 & 0 & 0 & 0 & 0 & 0\\\\\n",
       "\\end{tabular}\n"
      ],
      "text/markdown": [
       "\n",
       "A data.frame: 6 × 56\n",
       "\n",
       "| <!--/--> | V1 &lt;int&gt; | V6 &lt;int&gt; | V7 &lt;int&gt; | V8 &lt;int&gt; | V11 &lt;int&gt; | V13 &lt;int&gt; | V14 &lt;int&gt; | V15 &lt;int&gt; | V16 &lt;int&gt; | V17 &lt;int&gt; | ⋯ ⋯ | V68 &lt;int&gt; | V69 &lt;int&gt; | V73 &lt;int&gt; | V75 &lt;int&gt; | V80 &lt;int&gt; | V81 &lt;int&gt; | V82 &lt;int&gt; | V83 &lt;int&gt; | V84 &lt;int&gt; | V86 &lt;int&gt; |\n",
       "|---|---|---|---|---|---|---|---|---|---|---|---|---|---|---|---|---|---|---|---|---|---|\n",
       "| 1 | 33 | 0 | 5 | 1 | 0 | 1 | 2 | 6 | 1 | 2 | ⋯ | 1 | 0 | 0 | 0 | 1 | 0 | 0 | 0 | 0 | 0 |\n",
       "| 2 | 37 | 1 | 4 | 1 | 2 | 0 | 4 | 5 | 0 | 5 | ⋯ | 0 | 0 | 0 | 0 | 1 | 0 | 0 | 0 | 0 | 0 |\n",
       "| 3 | 37 | 0 | 4 | 2 | 2 | 4 | 4 | 2 | 0 | 5 | ⋯ | 1 | 0 | 0 | 0 | 1 | 0 | 0 | 0 | 0 | 0 |\n",
       "| 4 |  9 | 2 | 3 | 2 | 2 | 2 | 3 | 4 | 3 | 4 | ⋯ | 1 | 0 | 0 | 0 | 1 | 0 | 0 | 0 | 0 | 0 |\n",
       "| 5 | 40 | 1 | 4 | 1 | 1 | 2 | 4 | 4 | 5 | 4 | ⋯ | 0 | 0 | 0 | 0 | 1 | 0 | 0 | 0 | 0 | 0 |\n",
       "| 6 | 23 | 0 | 5 | 0 | 6 | 3 | 5 | 2 | 0 | 5 | ⋯ | 1 | 0 | 0 | 0 | 0 | 0 | 0 | 0 | 0 | 0 |\n",
       "\n"
      ],
      "text/plain": [
       "  V1 V6 V7 V8 V11 V13 V14 V15 V16 V17 ⋯ V68 V69 V73 V75 V80 V81 V82 V83 V84 V86\n",
       "1 33 0  5  1  0   1   2   6   1   2   ⋯ 1   0   0   0   1   0   0   0   0   0  \n",
       "2 37 1  4  1  2   0   4   5   0   5   ⋯ 0   0   0   0   1   0   0   0   0   0  \n",
       "3 37 0  4  2  2   4   4   2   0   5   ⋯ 1   0   0   0   1   0   0   0   0   0  \n",
       "4  9 2  3  2  2   2   3   4   3   4   ⋯ 1   0   0   0   1   0   0   0   0   0  \n",
       "5 40 1  4  1  1   2   4   4   5   4   ⋯ 0   0   0   0   1   0   0   0   0   0  \n",
       "6 23 0  5  0  6   3   5   2   0   5   ⋯ 1   0   0   0   0   0   0   0   0   0  "
      ]
     },
     "metadata": {},
     "output_type": "display_data"
    }
   ],
   "source": [
    "head(trainDataDup1)"
   ]
  },
  {
   "cell_type": "markdown",
   "id": "bef159f9",
   "metadata": {},
   "source": [
    "From the above findings, we can say that V47 and V82 are having high correlation and can be used as potential predictors."
   ]
  },
  {
   "cell_type": "code",
   "execution_count": 67,
   "id": "46124a85",
   "metadata": {},
   "outputs": [],
   "source": [
    "#Computing OLS Estimates\n",
    "lmFit<-lm(V86~., data=trainData)"
   ]
  },
  {
   "cell_type": "code",
   "execution_count": 68,
   "id": "13187fc5",
   "metadata": {},
   "outputs": [
    {
     "data": {
      "text/plain": [
       "\n",
       "Call:\n",
       "lm(formula = V86 ~ ., data = trainData)\n",
       "\n",
       "Coefficients:\n",
       "(Intercept)           V1           V2           V3           V4           V5  \n",
       "  0.7685381    0.0035209   -0.0072642   -0.0012739    0.0107473   -0.0154869  \n",
       "         V6           V7           V8           V9          V10          V11  \n",
       " -0.0056016   -0.0002069    0.0003569   -0.0030237    0.0086829    0.0020367  \n",
       "        V12          V13          V14          V15          V16          V17  \n",
       "  0.0055682   -0.0038250   -0.0050625   -0.0026253    0.0021357   -0.0048456  \n",
       "        V18          V19          V20          V21          V22          V23  \n",
       " -0.0113977    0.0021884   -0.0004665   -0.0050974    0.0041254   -0.0006060  \n",
       "        V24          V25          V26          V27          V28          V29  \n",
       "  0.0019733   -0.0013674   -0.0031701   -0.0012603    0.0024879   -0.0008866  \n",
       "        V30          V31          V32          V33          V34          V35  \n",
       " -0.0454201   -0.0432242    0.0085964    0.0077871    0.0047215   -0.0561024  \n",
       "        V36          V37          V38          V39          V40          V41  \n",
       " -0.0593733    0.0070879    0.0069414    0.0049679    0.0059267   -0.0098939  \n",
       "        V42          V43          V44          V45          V46          V47  \n",
       "  0.0063044    0.0029097    0.0284931   -0.0101533   -0.0201220    0.0102787  \n",
       "        V48          V49          V50          V51          V52          V53  \n",
       "  0.0014405   -0.0061279   -0.0249190    0.0588044    0.0121481   -0.0062440  \n",
       "        V54          V55          V56          V57          V58          V59  \n",
       "  0.0078683   -0.0155397    0.0098926    0.1937254    0.0647933    0.0132643  \n",
       "        V60          V61          V62          V63          V64          V65  \n",
       " -0.1917507   -0.0299076   -0.0107777   -0.0441620   -0.0184858   -0.0377952  \n",
       "        V66          V67          V68          V69          V70          V71  \n",
       "  0.0185448    0.0180904    0.0002821   -0.0214816    0.0203252    0.0563675  \n",
       "        V72          V73          V74          V75          V76          V77  \n",
       " -0.0804238   -0.0395651   -0.0010526   -0.0236462    0.0372344   -0.0464279  \n",
       "        V78          V79          V80          V81          V82          V83  \n",
       " -0.4050642   -0.2304561   -0.0211374    0.4958051    0.3633887    0.0416061  \n",
       "        V84          V85  \n",
       "  0.0959436    0.1312250  \n"
      ]
     },
     "metadata": {},
     "output_type": "display_data"
    }
   ],
   "source": [
    "lmFit"
   ]
  },
  {
   "cell_type": "code",
   "execution_count": 69,
   "id": "8438c41a",
   "metadata": {},
   "outputs": [
    {
     "name": "stderr",
     "output_type": "stream",
     "text": [
      "\n",
      "Please cite as: \n",
      "\n",
      "\n",
      " Hlavac, Marek (2022). stargazer: Well-Formatted Regression and Summary Statistics Tables.\n",
      "\n",
      " R package version 5.2.3. https://CRAN.R-project.org/package=stargazer \n",
      "\n",
      "\n"
     ]
    }
   ],
   "source": [
    "#To find out the estimates we can use \"stargazer\" method:\n",
    "library(\"stargazer\")"
   ]
  },
  {
   "cell_type": "code",
   "execution_count": 70,
   "id": "fc19f605",
   "metadata": {},
   "outputs": [
    {
     "name": "stdout",
     "output_type": "stream",
     "text": [
      "\n",
      "===============================================\n",
      "                        Dependent variable:    \n",
      "                    ---------------------------\n",
      "                                V86            \n",
      "-----------------------------------------------\n",
      "V1                             0.004           \n",
      "                              (0.002)          \n",
      "                                               \n",
      "V2                            -0.007           \n",
      "                              (0.008)          \n",
      "                                               \n",
      "V3                            -0.001           \n",
      "                              (0.007)          \n",
      "                                               \n",
      "V4                            0.011**          \n",
      "                              (0.005)          \n",
      "                                               \n",
      "V5                            -0.015           \n",
      "                              (0.010)          \n",
      "                                               \n",
      "V6                            -0.006           \n",
      "                              (0.006)          \n",
      "                                               \n",
      "V7                            -0.0002          \n",
      "                              (0.006)          \n",
      "                                               \n",
      "V8                            0.0004           \n",
      "                              (0.005)          \n",
      "                                               \n",
      "V9                            -0.003           \n",
      "                              (0.006)          \n",
      "                                               \n",
      "V10                            0.009           \n",
      "                              (0.008)          \n",
      "                                               \n",
      "V11                            0.002           \n",
      "                              (0.007)          \n",
      "                                               \n",
      "V12                            0.006           \n",
      "                              (0.008)          \n",
      "                                               \n",
      "V13                           -0.004           \n",
      "                              (0.007)          \n",
      "                                               \n",
      "V14                           -0.005           \n",
      "                              (0.007)          \n",
      "                                               \n",
      "V15                           -0.003           \n",
      "                              (0.007)          \n",
      "                                               \n",
      "V16                            0.002           \n",
      "                              (0.007)          \n",
      "                                               \n",
      "V17                           -0.005           \n",
      "                              (0.007)          \n",
      "                                               \n",
      "V18                           -0.011           \n",
      "                              (0.007)          \n",
      "                                               \n",
      "V19                            0.002           \n",
      "                              (0.005)          \n",
      "                                               \n",
      "V20                           -0.0005          \n",
      "                              (0.005)          \n",
      "                                               \n",
      "V21                           -0.005           \n",
      "                              (0.005)          \n",
      "                                               \n",
      "V22                            0.004           \n",
      "                              (0.004)          \n",
      "                                               \n",
      "V23                           -0.001           \n",
      "                              (0.004)          \n",
      "                                               \n",
      "V24                            0.002           \n",
      "                              (0.004)          \n",
      "                                               \n",
      "V25                           -0.001           \n",
      "                              (0.005)          \n",
      "                                               \n",
      "V26                           -0.003           \n",
      "                              (0.005)          \n",
      "                                               \n",
      "V27                           -0.001           \n",
      "                              (0.004)          \n",
      "                                               \n",
      "V28                            0.002           \n",
      "                              (0.005)          \n",
      "                                               \n",
      "V29                           -0.001           \n",
      "                              (0.005)          \n",
      "                                               \n",
      "V30                           -0.045           \n",
      "                              (0.038)          \n",
      "                                               \n",
      "V31                           -0.043           \n",
      "                              (0.038)          \n",
      "                                               \n",
      "V32                            0.009           \n",
      "                              (0.008)          \n",
      "                                               \n",
      "V33                            0.008           \n",
      "                              (0.007)          \n",
      "                                               \n",
      "V34                            0.005           \n",
      "                              (0.007)          \n",
      "                                               \n",
      "V35                           -0.056           \n",
      "                              (0.044)          \n",
      "                                               \n",
      "V36                           -0.059           \n",
      "                              (0.044)          \n",
      "                                               \n",
      "V37                            0.007           \n",
      "                              (0.005)          \n",
      "                                               \n",
      "V38                            0.007           \n",
      "                              (0.005)          \n",
      "                                               \n",
      "V39                            0.005           \n",
      "                              (0.005)          \n",
      "                                               \n",
      "V40                            0.006           \n",
      "                              (0.005)          \n",
      "                                               \n",
      "V41                           -0.010           \n",
      "                              (0.007)          \n",
      "                                               \n",
      "V42                            0.006           \n",
      "                              (0.005)          \n",
      "                                               \n",
      "V43                            0.003           \n",
      "                              (0.002)          \n",
      "                                               \n",
      "V44                           0.028*           \n",
      "                              (0.017)          \n",
      "                                               \n",
      "V45                           -0.010           \n",
      "                              (0.021)          \n",
      "                                               \n",
      "V46                           -0.020           \n",
      "                              (0.039)          \n",
      "                                               \n",
      "V47                          0.010***          \n",
      "                              (0.003)          \n",
      "                                               \n",
      "V48                            0.001           \n",
      "                              (0.015)          \n",
      "                                               \n",
      "V49                           -0.006           \n",
      "                              (0.008)          \n",
      "                                               \n",
      "V50                           -0.025           \n",
      "                              (0.042)          \n",
      "                                               \n",
      "V51                            0.059           \n",
      "                              (0.056)          \n",
      "                                               \n",
      "V52                            0.012           \n",
      "                              (0.014)          \n",
      "                                               \n",
      "V53                           -0.006           \n",
      "                              (0.037)          \n",
      "                                               \n",
      "V54                            0.008           \n",
      "                              (0.015)          \n",
      "                                               \n",
      "V55                          -0.016**          \n",
      "                              (0.006)          \n",
      "                                               \n",
      "V56                            0.010           \n",
      "                              (0.034)          \n",
      "                                               \n",
      "V57                           0.194**          \n",
      "                              (0.079)          \n",
      "                                               \n",
      "V58                           0.065**          \n",
      "                              (0.026)          \n",
      "                                               \n",
      "V59                          0.013***          \n",
      "                              (0.004)          \n",
      "                                               \n",
      "V60                           -0.192           \n",
      "                              (0.144)          \n",
      "                                               \n",
      "V61                           -0.030           \n",
      "                              (0.027)          \n",
      "                                               \n",
      "V62                           -0.011           \n",
      "                              (0.055)          \n",
      "                                               \n",
      "V63                           -0.044           \n",
      "                              (0.031)          \n",
      "                                               \n",
      "V64                           -0.018           \n",
      "                              (0.029)          \n",
      "                                               \n",
      "V65                           -0.038           \n",
      "                              (0.032)          \n",
      "                                               \n",
      "V66                            0.019           \n",
      "                              (0.053)          \n",
      "                                               \n",
      "V67                            0.018           \n",
      "                              (0.137)          \n",
      "                                               \n",
      "V68                           0.0003           \n",
      "                              (0.013)          \n",
      "                                               \n",
      "V69                           -0.021           \n",
      "                              (0.065)          \n",
      "                                               \n",
      "V70                            0.020           \n",
      "                              (0.031)          \n",
      "                                               \n",
      "V71                            0.056           \n",
      "                              (0.159)          \n",
      "                                               \n",
      "V72                           -0.080           \n",
      "                              (0.094)          \n",
      "                                               \n",
      "V73                           -0.040           \n",
      "                              (0.035)          \n",
      "                                               \n",
      "V74                           -0.001           \n",
      "                              (0.073)          \n",
      "                                               \n",
      "V75                           -0.024           \n",
      "                              (0.047)          \n",
      "                                               \n",
      "V76                           0.037**          \n",
      "                              (0.015)          \n",
      "                                               \n",
      "V77                           -0.046           \n",
      "                              (0.095)          \n",
      "                                               \n",
      "V78                          -0.405**          \n",
      "                              (0.190)          \n",
      "                                               \n",
      "V79                           -0.230*          \n",
      "                              (0.124)          \n",
      "                                               \n",
      "V80                           -0.021*          \n",
      "                              (0.012)          \n",
      "                                               \n",
      "V81                           0.496*           \n",
      "                              (0.282)          \n",
      "                                               \n",
      "V82                          0.363***          \n",
      "                              (0.089)          \n",
      "                                               \n",
      "V83                            0.042           \n",
      "                              (0.041)          \n",
      "                                               \n",
      "V84                            0.096           \n",
      "                              (0.070)          \n",
      "                                               \n",
      "V85                            0.131           \n",
      "                              (0.098)          \n",
      "                                               \n",
      "Constant                      0.769*           \n",
      "                              (0.430)          \n",
      "                                               \n",
      "-----------------------------------------------\n",
      "Observations                   5,822           \n",
      "R2                             0.073           \n",
      "Adjusted R2                    0.059           \n",
      "Residual Std. Error      0.230 (df = 5736)     \n",
      "F Statistic          5.306*** (df = 85; 5736)  \n",
      "===============================================\n",
      "Note:               *p<0.1; **p<0.05; ***p<0.01\n"
     ]
    }
   ],
   "source": [
    "stargazer(lmFit, type='text')"
   ]
  },
  {
   "cell_type": "markdown",
   "id": "d24ba63a",
   "metadata": {},
   "source": [
    "From the above results, OLS estimates are as follows:\n",
    "- R2 : 0.073\n",
    "- Adjusted R2 : 0.059\n",
    "- Residual Std. Error: 0.230\n",
    "- F Statistic: 5.306"
   ]
  },
  {
   "cell_type": "code",
   "execution_count": 71,
   "id": "d6910fa3",
   "metadata": {},
   "outputs": [
    {
     "name": "stderr",
     "output_type": "stream",
     "text": [
      "\n",
      "Attaching package: 'MASS'\n",
      "\n",
      "\n",
      "The following object is masked from 'package:dplyr':\n",
      "\n",
      "    select\n",
      "\n",
      "\n",
      "The following object is masked from 'package:ISLR2':\n",
      "\n",
      "    Boston\n",
      "\n",
      "\n"
     ]
    }
   ],
   "source": [
    "#Forward Selection Algorithm\n",
    "library(MASS)"
   ]
  },
  {
   "cell_type": "code",
   "execution_count": 72,
   "id": "74f09380",
   "metadata": {},
   "outputs": [],
   "source": [
    "library(leaps)"
   ]
  },
  {
   "cell_type": "code",
   "execution_count": 73,
   "id": "b040bb45",
   "metadata": {},
   "outputs": [],
   "source": [
    "regfit.fwd<-regsubsets(V86~.,data=trainData, nbest = 1, nvmax=85, \n",
    "                      method=\"forward\")"
   ]
  },
  {
   "cell_type": "code",
   "execution_count": 74,
   "id": "12a3ad07",
   "metadata": {},
   "outputs": [],
   "source": [
    "sum_forward<-summary(regfit.fwd)"
   ]
  },
  {
   "cell_type": "code",
   "execution_count": 75,
   "id": "3e2c8c69",
   "metadata": {},
   "outputs": [
    {
     "data": {
      "text/html": [
       "<style>\n",
       ".list-inline {list-style: none; margin:0; padding: 0}\n",
       ".list-inline>li {display: inline-block}\n",
       ".list-inline>li:not(:last-child)::after {content: \"\\00b7\"; padding: 0 .5ex}\n",
       "</style>\n",
       "<ol class=list-inline><li>'which'</li><li>'rsq'</li><li>'rss'</li><li>'adjr2'</li><li>'cp'</li><li>'bic'</li><li>'outmat'</li><li>'obj'</li></ol>\n"
      ],
      "text/latex": [
       "\\begin{enumerate*}\n",
       "\\item 'which'\n",
       "\\item 'rsq'\n",
       "\\item 'rss'\n",
       "\\item 'adjr2'\n",
       "\\item 'cp'\n",
       "\\item 'bic'\n",
       "\\item 'outmat'\n",
       "\\item 'obj'\n",
       "\\end{enumerate*}\n"
      ],
      "text/markdown": [
       "1. 'which'\n",
       "2. 'rsq'\n",
       "3. 'rss'\n",
       "4. 'adjr2'\n",
       "5. 'cp'\n",
       "6. 'bic'\n",
       "7. 'outmat'\n",
       "8. 'obj'\n",
       "\n",
       "\n"
      ],
      "text/plain": [
       "[1] \"which\"  \"rsq\"    \"rss\"    \"adjr2\"  \"cp\"     \"bic\"    \"outmat\" \"obj\"   "
      ]
     },
     "metadata": {},
     "output_type": "display_data"
    }
   ],
   "source": [
    "names(sum_forward)"
   ]
  },
  {
   "cell_type": "code",
   "execution_count": 76,
   "id": "00981da2",
   "metadata": {},
   "outputs": [],
   "source": [
    "#Let's plot model selection measures for forward selection\n",
    "par(mfrow=c(1,1))"
   ]
  },
  {
   "cell_type": "code",
   "execution_count": 77,
   "id": "0dafc0b2",
   "metadata": {},
   "outputs": [
    {
     "data": {
      "image/png": "[encoded data removed]",
      "text/plain": [
       "plot without title"
      ]
     },
     "metadata": {
      "image/png": {
       "height": 420,
       "width": 420
      }
     },
     "output_type": "display_data"
    }
   ],
   "source": [
    "plot(sum_forward$cp, xlab=\"Number of variables\", ylab=\"CP\")"
   ]
  },
  {
   "cell_type": "code",
   "execution_count": 78,
   "id": "ed6b0e01",
   "metadata": {},
   "outputs": [
    {
     "data": {
      "image/png": "[encoded data removed]",
      "text/plain": [
       "plot without title"
      ]
     },
     "metadata": {
      "image/png": {
       "height": 420,
       "width": 420
      }
     },
     "output_type": "display_data"
    },
    {
     "data": {
      "image/png": "[encoded data removed]",
      "text/plain": [
       "plot without title"
      ]
     },
     "metadata": {
      "image/png": {
       "height": 420,
       "width": 420
      }
     },
     "output_type": "display_data"
    },
    {
     "data": {
      "image/png": "[encoded data removed]",
      "text/plain": [
       "plot without title"
      ]
     },
     "metadata": {
      "image/png": {
       "height": 420,
       "width": 420
      }
     },
     "output_type": "display_data"
    }
   ],
   "source": [
    "plot(sum_forward$bic, xlab = \"Number of Variables\", ylab = \"BIC\")\n",
    "plot(sum_forward$rss, xlab = \"Number of Variables\", ylab = \"RSS\") \n",
    "plot(sum_forward$adjr2, xlab = \"Number of Variables\", ylab = \"Adjusted R^2\")"
   ]
  },
  {
   "cell_type": "code",
   "execution_count": 79,
   "id": "067b944b",
   "metadata": {},
   "outputs": [
    {
     "name": "stdout",
     "output_type": "stream",
     "text": [
      "[1] \"Calculating the number of variables of best performing subset according to certain model selection measures\"\n"
     ]
    },
    {
     "data": {
      "text/html": [
       "23"
      ],
      "text/latex": [
       "23"
      ],
      "text/markdown": [
       "23"
      ],
      "text/plain": [
       "[1] 23"
      ]
     },
     "metadata": {},
     "output_type": "display_data"
    },
    {
     "data": {
      "text/html": [
       "8"
      ],
      "text/latex": [
       "8"
      ],
      "text/markdown": [
       "8"
      ],
      "text/plain": [
       "[1] 8"
      ]
     },
     "metadata": {},
     "output_type": "display_data"
    },
    {
     "data": {
      "text/html": [
       "85"
      ],
      "text/latex": [
       "85"
      ],
      "text/markdown": [
       "85"
      ],
      "text/plain": [
       "[1] 85"
      ]
     },
     "metadata": {},
     "output_type": "display_data"
    },
    {
     "data": {
      "text/html": [
       "47"
      ],
      "text/latex": [
       "47"
      ],
      "text/markdown": [
       "47"
      ],
      "text/plain": [
       "[1] 47"
      ]
     },
     "metadata": {},
     "output_type": "display_data"
    }
   ],
   "source": [
    "#Identifying the optimal models using model selection measures\n",
    "print(\"Calculating the number of variables of best performing subset according to certain model selection measures\")\n",
    "which(sum_forward$cp == min(sum_forward$cp))\n",
    "which(sum_forward$bic == min(sum_forward$bic)) \n",
    "which(sum_forward$rss == min(sum_forward$rss)) \n",
    "which(sum_forward$adjr2 == max(sum_forward$adjr2)) "
   ]
  },
  {
   "cell_type": "markdown",
   "id": "a3cce296",
   "metadata": {},
   "source": [
    "This says that model with 47 predictors has maximum adjusted r squared. We can use ‘coef’ function to get the coefficients of the predictors. We also have to specify the number of predictors also."
   ]
  },
  {
   "cell_type": "code",
   "execution_count": 80,
   "id": "624fe888",
   "metadata": {},
   "outputs": [
    {
     "data": {
      "text/html": [
       "<style>\n",
       ".dl-inline {width: auto; margin:0; padding: 0}\n",
       ".dl-inline>dt, .dl-inline>dd {float: none; width: auto; display: inline-block}\n",
       ".dl-inline>dt::after {content: \":\\0020\"; padding-right: .5ex}\n",
       ".dl-inline>dt:not(:first-of-type) {padding-left: .5ex}\n",
       "</style><dl class=dl-inline><dt>(Intercept)</dt><dd>0.664009020673949</dd><dt>V2</dt><dd>-0.00665059546616684</dd><dt>V4</dt><dd>0.011689374068977</dd><dt>V6</dt><dd>-0.00316389095012317</dd><dt>V7</dt><dd>0.00293918679120282</dd><dt>V8</dt><dd>0.00246201004523459</dd><dt>V10</dt><dd>0.00394812019822881</dd><dt>V14</dt><dd>-0.00222496086078637</dd><dt>V16</dt><dd>0.00626803834841343</dd><dt>V18</dt><dd>-0.00616879783447006</dd><dt>V21</dt><dd>-0.00708358844608721</dd><dt>V22</dt><dd>0.00178899890783946</dd><dt>V23</dt><dd>-0.00236949257214096</dd><dt>V28</dt><dd>0.00407592961723638</dd><dt>V30</dt><dd>-0.0357121636502187</dd><dt>V31</dt><dd>-0.0336965119090425</dd><dt>V32</dt><dd>0.00975257794726641</dd><dt>V33</dt><dd>0.00797431392780553</dd><dt>V34</dt><dd>0.00655054823108788</dd><dt>V35</dt><dd>-0.0550493987824905</dd><dt>V36</dt><dd>-0.0579867304267594</dd><dt>V39</dt><dd>-0.00174555002551255</dd><dt>V41</dt><dd>-0.0138278838765834</dd><dt>V42</dt><dd>0.00612745177963704</dd><dt>V43</dt><dd>0.00232058152112135</dd><dt>V44</dt><dd>0.0283400569601092</dd><dt>V46</dt><dd>-0.0135034742428727</dd><dt>V47</dt><dd>0.0103019491109488</dd><dt>V50</dt><dd>-0.0129228542096347</dd><dt>V51</dt><dd>0.0578016668341207</dd><dt>V53</dt><dd>-0.0123420725890427</dd><dt>V55</dt><dd>-0.015773961208905</dd><dt>V57</dt><dd>0.194738072433977</dd><dt>V58</dt><dd>0.0661782127607947</dd><dt>V59</dt><dd>0.0128402962811</dd><dt>V60</dt><dd>-0.212511422863503</dd><dt>V61</dt><dd>-0.0286365813203753</dd><dt>V65</dt><dd>-0.0360679100315845</dd><dt>V72</dt><dd>-0.0828854599356341</dd><dt>V73</dt><dd>-0.0123323483098312</dd><dt>V76</dt><dd>0.0376983465060764</dd><dt>V78</dt><dd>-0.407493326757029</dd><dt>V79</dt><dd>-0.23836371522358</dd><dt>V80</dt><dd>-0.0205415188611496</dd><dt>V81</dt><dd>0.546894820551548</dd><dt>V82</dt><dd>0.362324658826471</dd><dt>V83</dt><dd>0.0351204589218272</dd><dt>V85</dt><dd>0.0704466503242888</dd></dl>\n"
      ],
      "text/latex": [
       "\\begin{description*}\n",
       "\\item[(Intercept)] 0.664009020673949\n",
       "\\item[V2] -0.00665059546616684\n",
       "\\item[V4] 0.011689374068977\n",
       "\\item[V6] -0.00316389095012317\n",
       "\\item[V7] 0.00293918679120282\n",
       "\\item[V8] 0.00246201004523459\n",
       "\\item[V10] 0.00394812019822881\n",
       "\\item[V14] -0.00222496086078637\n",
       "\\item[V16] 0.00626803834841343\n",
       "\\item[V18] -0.00616879783447006\n",
       "\\item[V21] -0.00708358844608721\n",
       "\\item[V22] 0.00178899890783946\n",
       "\\item[V23] -0.00236949257214096\n",
       "\\item[V28] 0.00407592961723638\n",
       "\\item[V30] -0.0357121636502187\n",
       "\\item[V31] -0.0336965119090425\n",
       "\\item[V32] 0.00975257794726641\n",
       "\\item[V33] 0.00797431392780553\n",
       "\\item[V34] 0.00655054823108788\n",
       "\\item[V35] -0.0550493987824905\n",
       "\\item[V36] -0.0579867304267594\n",
       "\\item[V39] -0.00174555002551255\n",
       "\\item[V41] -0.0138278838765834\n",
       "\\item[V42] 0.00612745177963704\n",
       "\\item[V43] 0.00232058152112135\n",
       "\\item[V44] 0.0283400569601092\n",
       "\\item[V46] -0.0135034742428727\n",
       "\\item[V47] 0.0103019491109488\n",
       "\\item[V50] -0.0129228542096347\n",
       "\\item[V51] 0.0578016668341207\n",
       "\\item[V53] -0.0123420725890427\n",
       "\\item[V55] -0.015773961208905\n",
       "\\item[V57] 0.194738072433977\n",
       "\\item[V58] 0.0661782127607947\n",
       "\\item[V59] 0.0128402962811\n",
       "\\item[V60] -0.212511422863503\n",
       "\\item[V61] -0.0286365813203753\n",
       "\\item[V65] -0.0360679100315845\n",
       "\\item[V72] -0.0828854599356341\n",
       "\\item[V73] -0.0123323483098312\n",
       "\\item[V76] 0.0376983465060764\n",
       "\\item[V78] -0.407493326757029\n",
       "\\item[V79] -0.23836371522358\n",
       "\\item[V80] -0.0205415188611496\n",
       "\\item[V81] 0.546894820551548\n",
       "\\item[V82] 0.362324658826471\n",
       "\\item[V83] 0.0351204589218272\n",
       "\\item[V85] 0.0704466503242888\n",
       "\\end{description*}\n"
      ],
      "text/markdown": [
       "(Intercept)\n",
       ":   0.664009020673949V2\n",
       ":   -0.00665059546616684V4\n",
       ":   0.011689374068977V6\n",
       ":   -0.00316389095012317V7\n",
       ":   0.00293918679120282V8\n",
       ":   0.00246201004523459V10\n",
       ":   0.00394812019822881V14\n",
       ":   -0.00222496086078637V16\n",
       ":   0.00626803834841343V18\n",
       ":   -0.00616879783447006V21\n",
       ":   -0.00708358844608721V22\n",
       ":   0.00178899890783946V23\n",
       ":   -0.00236949257214096V28\n",
       ":   0.00407592961723638V30\n",
       ":   -0.0357121636502187V31\n",
       ":   -0.0336965119090425V32\n",
       ":   0.00975257794726641V33\n",
       ":   0.00797431392780553V34\n",
       ":   0.00655054823108788V35\n",
       ":   -0.0550493987824905V36\n",
       ":   -0.0579867304267594V39\n",
       ":   -0.00174555002551255V41\n",
       ":   -0.0138278838765834V42\n",
       ":   0.00612745177963704V43\n",
       ":   0.00232058152112135V44\n",
       ":   0.0283400569601092V46\n",
       ":   -0.0135034742428727V47\n",
       ":   0.0103019491109488V50\n",
       ":   -0.0129228542096347V51\n",
       ":   0.0578016668341207V53\n",
       ":   -0.0123420725890427V55\n",
       ":   -0.015773961208905V57\n",
       ":   0.194738072433977V58\n",
       ":   0.0661782127607947V59\n",
       ":   0.0128402962811V60\n",
       ":   -0.212511422863503V61\n",
       ":   -0.0286365813203753V65\n",
       ":   -0.0360679100315845V72\n",
       ":   -0.0828854599356341V73\n",
       ":   -0.0123323483098312V76\n",
       ":   0.0376983465060764V78\n",
       ":   -0.407493326757029V79\n",
       ":   -0.23836371522358V80\n",
       ":   -0.0205415188611496V81\n",
       ":   0.546894820551548V82\n",
       ":   0.362324658826471V83\n",
       ":   0.0351204589218272V85\n",
       ":   0.0704466503242888\n",
       "\n"
      ],
      "text/plain": [
       " (Intercept)           V2           V4           V6           V7           V8 \n",
       " 0.664009021 -0.006650595  0.011689374 -0.003163891  0.002939187  0.002462010 \n",
       "         V10          V14          V16          V18          V21          V22 \n",
       " 0.003948120 -0.002224961  0.006268038 -0.006168798 -0.007083588  0.001788999 \n",
       "         V23          V28          V30          V31          V32          V33 \n",
       "-0.002369493  0.004075930 -0.035712164 -0.033696512  0.009752578  0.007974314 \n",
       "         V34          V35          V36          V39          V41          V42 \n",
       " 0.006550548 -0.055049399 -0.057986730 -0.001745550 -0.013827884  0.006127452 \n",
       "         V43          V44          V46          V47          V50          V51 \n",
       " 0.002320582  0.028340057 -0.013503474  0.010301949 -0.012922854  0.057801667 \n",
       "         V53          V55          V57          V58          V59          V60 \n",
       "-0.012342073 -0.015773961  0.194738072  0.066178213  0.012840296 -0.212511423 \n",
       "         V61          V65          V72          V73          V76          V78 \n",
       "-0.028636581 -0.036067910 -0.082885460 -0.012332348  0.037698347 -0.407493327 \n",
       "         V79          V80          V81          V82          V83          V85 \n",
       "-0.238363715 -0.020541519  0.546894821  0.362324659  0.035120459  0.070446650 "
      ]
     },
     "metadata": {},
     "output_type": "display_data"
    }
   ],
   "source": [
    "coef(regfit.fwd, 47)"
   ]
  },
  {
   "cell_type": "code",
   "execution_count": 81,
   "id": "0f186233",
   "metadata": {},
   "outputs": [],
   "source": [
    "#To store forward train and test errors\n",
    "\n",
    "fwdtrainErrors <- matrix(rep(NA, 85))\n",
    "fwdtestErrors <- matrix(rep(NA, 85))"
   ]
  },
  {
   "cell_type": "code",
   "execution_count": 82,
   "id": "587979a2",
   "metadata": {},
   "outputs": [],
   "source": [
    "#Defining a predict method for regsubsets\n",
    "predict.regsubsets = function(object, newdata, id)\n",
    "{\n",
    "    form  = as.formula(object$call[[2]])\n",
    "    mat   = model.matrix(form, newdata)\n",
    "    coefi = coef(object, id = id)\n",
    "    xvars = names(coefi)\n",
    "    mat[, xvars]%*%coefi\n",
    "}"
   ]
  },
  {
   "cell_type": "code",
   "execution_count": 83,
   "id": "9428e288",
   "metadata": {},
   "outputs": [],
   "source": [
    "# calculating training and testing errors of all best p models selected via forward selection\n",
    "\n",
    "for (i in 1:85) {\n",
    "    \n",
    "    y_pred_train = predict(regfit.fwd, newdata = trainData, id = i)\n",
    "    y_pred_test  = predict(regfit.fwd, newdata = testData, id = i)\n",
    "    \n",
    "    y_pred_train = ifelse(y_pred_train > 0.5, 1, 0)\n",
    "    y_pred_test  = ifelse(y_pred_test > 0.5, 1, 0)\n",
    "    \n",
    "    fwdtrainErrors[i] = mean(y_pred_train != trainData[, 86])\n",
    "    fwdtestErrors[i]  = mean(y_pred_test  != testData[, 86])\n",
    "}"
   ]
  },
  {
   "cell_type": "code",
   "execution_count": 84,
   "id": "56ed7059",
   "metadata": {},
   "outputs": [
    {
     "data": {
      "image/png": "[encoded data removed]",
      "text/plain": [
       "Plot with title \"FORWARD SELECTION\""
      ]
     },
     "metadata": {
      "image/png": {
       "height": 420,
       "width": 420
      }
     },
     "output_type": "display_data"
    }
   ],
   "source": [
    "#plotting training and testing errors\n",
    "\n",
    "par(mfrow = c(2,1))\n",
    "\n",
    "plot(fwdtrainErrors, col = \"green\", type = \"o\", xlab = \"Number of Variables\", ylab = \"Mean Squared Error\",\n",
    "    main = \"FORWARD SELECTION\", ylim = c(0.0594,0.06))\n",
    "lines(fwdtestErrors, col = \"red\", type = \"o\")"
   ]
  },
  {
   "cell_type": "code",
   "execution_count": 85,
   "id": "3117eb46",
   "metadata": {},
   "outputs": [],
   "source": [
    "MSE<-mean(fwdtestErrors)"
   ]
  },
  {
   "cell_type": "code",
   "execution_count": 86,
   "id": "0cb0a766",
   "metadata": {},
   "outputs": [
    {
     "data": {
      "text/html": [
       "0.244432114959408"
      ],
      "text/latex": [
       "0.244432114959408"
      ],
      "text/markdown": [
       "0.244432114959408"
      ],
      "text/plain": [
       "[1] 0.2444321"
      ]
     },
     "metadata": {},
     "output_type": "display_data"
    }
   ],
   "source": [
    "RMSE<- sqrt(MSE)\n",
    "RMSE"
   ]
  },
  {
   "cell_type": "markdown",
   "id": "e8b9b3c3",
   "metadata": {},
   "source": [
    "From the above results, Forward selection error estimates are as follows:\n",
    "- RMSE: 0.2442"
   ]
  },
  {
   "cell_type": "code",
   "execution_count": 87,
   "id": "4aa86d97",
   "metadata": {},
   "outputs": [],
   "source": [
    "#Backward Selection algorithm\n",
    "regfit.bwd<-regsubsets(V86~.,data=trainData, nbest = 1, nvmax=85, \n",
    "                      method=\"backward\")"
   ]
  },
  {
   "cell_type": "code",
   "execution_count": 88,
   "id": "6bac16ee",
   "metadata": {},
   "outputs": [],
   "source": [
    "sum_backward<-summary(regfit.bwd)"
   ]
  },
  {
   "cell_type": "code",
   "execution_count": 89,
   "id": "bf6a0734",
   "metadata": {},
   "outputs": [
    {
     "data": {
      "text/html": [
       "<style>\n",
       ".list-inline {list-style: none; margin:0; padding: 0}\n",
       ".list-inline>li {display: inline-block}\n",
       ".list-inline>li:not(:last-child)::after {content: \"\\00b7\"; padding: 0 .5ex}\n",
       "</style>\n",
       "<ol class=list-inline><li>'which'</li><li>'rsq'</li><li>'rss'</li><li>'adjr2'</li><li>'cp'</li><li>'bic'</li><li>'outmat'</li><li>'obj'</li></ol>\n"
      ],
      "text/latex": [
       "\\begin{enumerate*}\n",
       "\\item 'which'\n",
       "\\item 'rsq'\n",
       "\\item 'rss'\n",
       "\\item 'adjr2'\n",
       "\\item 'cp'\n",
       "\\item 'bic'\n",
       "\\item 'outmat'\n",
       "\\item 'obj'\n",
       "\\end{enumerate*}\n"
      ],
      "text/markdown": [
       "1. 'which'\n",
       "2. 'rsq'\n",
       "3. 'rss'\n",
       "4. 'adjr2'\n",
       "5. 'cp'\n",
       "6. 'bic'\n",
       "7. 'outmat'\n",
       "8. 'obj'\n",
       "\n",
       "\n"
      ],
      "text/plain": [
       "[1] \"which\"  \"rsq\"    \"rss\"    \"adjr2\"  \"cp\"     \"bic\"    \"outmat\" \"obj\"   "
      ]
     },
     "metadata": {},
     "output_type": "display_data"
    }
   ],
   "source": [
    "names(sum_backward)"
   ]
  },
  {
   "cell_type": "code",
   "execution_count": 90,
   "id": "58c5ff09",
   "metadata": {},
   "outputs": [],
   "source": [
    "#Let's plot model selection measures for backward selection\n",
    "par(mfrow=c(2,2))"
   ]
  },
  {
   "cell_type": "code",
   "execution_count": 91,
   "id": "9d9e6ce3",
   "metadata": {},
   "outputs": [
    {
     "data": {
      "image/png": "[encoded data removed]",
      "text/plain": [
       "plot without title"
      ]
     },
     "metadata": {
      "image/png": {
       "height": 420,
       "width": 420
      }
     },
     "output_type": "display_data"
    },
    {
     "data": {
      "image/png": "[encoded data removed]",
      "text/plain": [
       "plot without title"
      ]
     },
     "metadata": {
      "image/png": {
       "height": 420,
       "width": 420
      }
     },
     "output_type": "display_data"
    },
    {
     "data": {
      "image/png": "[encoded data removed]",
      "text/plain": [
       "plot without title"
      ]
     },
     "metadata": {
      "image/png": {
       "height": 420,
       "width": 420
      }
     },
     "output_type": "display_data"
    },
    {
     "data": {
      "image/png": "[encoded data removed]",
      "text/plain": [
       "plot without title"
      ]
     },
     "metadata": {
      "image/png": {
       "height": 420,
       "width": 420
      }
     },
     "output_type": "display_data"
    }
   ],
   "source": [
    "plot(sum_backward$cp, xlab=\"Number of variables\", ylab=\"CP\")\n",
    "plot(sum_backward$bic, xlab = \"Number of Variables\", ylab = \"BIC\")\n",
    "plot(sum_backward$rss, xlab = \"Number of Variables\", ylab = \"RSS\") \n",
    "plot(sum_backward$adjr2, xlab = \"Number of Variables\", ylab = \"Adjusted R^2\")"
   ]
  },
  {
   "cell_type": "code",
   "execution_count": 92,
   "id": "2983bcc2",
   "metadata": {},
   "outputs": [
    {
     "name": "stdout",
     "output_type": "stream",
     "text": [
      "[1] \"Calculating the number of variables of best performing subset according to certain model selection measures\"\n"
     ]
    },
    {
     "data": {
      "text/html": [
       "29"
      ],
      "text/latex": [
       "29"
      ],
      "text/markdown": [
       "29"
      ],
      "text/plain": [
       "[1] 29"
      ]
     },
     "metadata": {},
     "output_type": "display_data"
    },
    {
     "data": {
      "text/html": [
       "8"
      ],
      "text/latex": [
       "8"
      ],
      "text/markdown": [
       "8"
      ],
      "text/plain": [
       "[1] 8"
      ]
     },
     "metadata": {},
     "output_type": "display_data"
    },
    {
     "data": {
      "text/html": [
       "85"
      ],
      "text/latex": [
       "85"
      ],
      "text/markdown": [
       "85"
      ],
      "text/plain": [
       "[1] 85"
      ]
     },
     "metadata": {},
     "output_type": "display_data"
    },
    {
     "data": {
      "text/html": [
       "39"
      ],
      "text/latex": [
       "39"
      ],
      "text/markdown": [
       "39"
      ],
      "text/plain": [
       "[1] 39"
      ]
     },
     "metadata": {},
     "output_type": "display_data"
    }
   ],
   "source": [
    "#Identifying the optimal models using model selection measures\n",
    "print(\"Calculating the number of variables of best performing subset according to certain model selection measures\")\n",
    "which(sum_backward$cp == min(sum_backward$cp))\n",
    "which(sum_backward$bic == min(sum_backward$bic)) \n",
    "which(sum_backward$rss == min(sum_backward$rss)) \n",
    "which(sum_backward$adjr2 == max(sum_backward$adjr2)) "
   ]
  },
  {
   "cell_type": "markdown",
   "id": "c481529f",
   "metadata": {},
   "source": [
    "This says that model with 39 predictors has maximum adjusted r squared. We can use ‘coef’ function to get the coefficients of the predictors. We also have to specify the number of predictors also."
   ]
  },
  {
   "cell_type": "code",
   "execution_count": 93,
   "id": "9628fe09",
   "metadata": {},
   "outputs": [
    {
     "data": {
      "text/html": [
       "<style>\n",
       ".dl-inline {width: auto; margin:0; padding: 0}\n",
       ".dl-inline>dt, .dl-inline>dd {float: none; width: auto; display: inline-block}\n",
       ".dl-inline>dt::after {content: \":\\0020\"; padding-right: .5ex}\n",
       ".dl-inline>dt:not(:first-of-type) {padding-left: .5ex}\n",
       "</style><dl class=dl-inline><dt>(Intercept)</dt><dd>0.618003553676747</dd><dt>V1</dt><dd>0.00349680109861471</dd><dt>V2</dt><dd>-0.00835075428266388</dd><dt>V4</dt><dd>0.0119981987220532</dd><dt>V5</dt><dd>-0.01547836059954</dd><dt>V6</dt><dd>-0.00510313344709588</dd><dt>V9</dt><dd>-0.00225227620823619</dd><dt>V10</dt><dd>0.00507578908902144</dd><dt>V14</dt><dd>-0.00259880476963946</dd><dt>V17</dt><dd>-0.00653702554712407</dd><dt>V18</dt><dd>-0.0126740643273664</dd><dt>V21</dt><dd>-0.00626933093573281</dd><dt>V22</dt><dd>0.00295983985064987</dd><dt>V28</dt><dd>0.00334138226740299</dd><dt>V30</dt><dd>-0.00202224077803389</dd><dt>V35</dt><dd>-0.0664741162437276</dd><dt>V36</dt><dd>-0.069022567059435</dd><dt>V41</dt><dd>-0.0131400449209743</dd><dt>V42</dt><dd>0.00554767493629458</dd><dt>V43</dt><dd>0.00306369594906127</dd><dt>V44</dt><dd>0.0293455362942102</dd><dt>V46</dt><dd>-0.0161769791115124</dd><dt>V47</dt><dd>0.0103493092259559</dd><dt>V55</dt><dd>-0.0167658749288697</dd><dt>V57</dt><dd>0.196968089284682</dd><dt>V58</dt><dd>0.06288873685147</dd><dt>V59</dt><dd>0.0128157070554422</dd><dt>V60</dt><dd>-0.182313564264178</dd><dt>V63</dt><dd>-0.0435190160804608</dd><dt>V65</dt><dd>-0.0387457524788102</dd><dt>V69</dt><dd>-0.0271523671674005</dd><dt>V76</dt><dd>0.0395817141922067</dd><dt>V78</dt><dd>-0.415223605723456</dd><dt>V79</dt><dd>-0.225990861972163</dd><dt>V80</dt><dd>-0.020473939689037</dd><dt>V81</dt><dd>0.461507515862916</dd><dt>V82</dt><dd>0.275107334697822</dd><dt>V83</dt><dd>0.0344445941533684</dd><dt>V84</dt><dd>0.0945484412345316</dd><dt>V85</dt><dd>0.0716658695665383</dd></dl>\n"
      ],
      "text/latex": [
       "\\begin{description*}\n",
       "\\item[(Intercept)] 0.618003553676747\n",
       "\\item[V1] 0.00349680109861471\n",
       "\\item[V2] -0.00835075428266388\n",
       "\\item[V4] 0.0119981987220532\n",
       "\\item[V5] -0.01547836059954\n",
       "\\item[V6] -0.00510313344709588\n",
       "\\item[V9] -0.00225227620823619\n",
       "\\item[V10] 0.00507578908902144\n",
       "\\item[V14] -0.00259880476963946\n",
       "\\item[V17] -0.00653702554712407\n",
       "\\item[V18] -0.0126740643273664\n",
       "\\item[V21] -0.00626933093573281\n",
       "\\item[V22] 0.00295983985064987\n",
       "\\item[V28] 0.00334138226740299\n",
       "\\item[V30] -0.00202224077803389\n",
       "\\item[V35] -0.0664741162437276\n",
       "\\item[V36] -0.069022567059435\n",
       "\\item[V41] -0.0131400449209743\n",
       "\\item[V42] 0.00554767493629458\n",
       "\\item[V43] 0.00306369594906127\n",
       "\\item[V44] 0.0293455362942102\n",
       "\\item[V46] -0.0161769791115124\n",
       "\\item[V47] 0.0103493092259559\n",
       "\\item[V55] -0.0167658749288697\n",
       "\\item[V57] 0.196968089284682\n",
       "\\item[V58] 0.06288873685147\n",
       "\\item[V59] 0.0128157070554422\n",
       "\\item[V60] -0.182313564264178\n",
       "\\item[V63] -0.0435190160804608\n",
       "\\item[V65] -0.0387457524788102\n",
       "\\item[V69] -0.0271523671674005\n",
       "\\item[V76] 0.0395817141922067\n",
       "\\item[V78] -0.415223605723456\n",
       "\\item[V79] -0.225990861972163\n",
       "\\item[V80] -0.020473939689037\n",
       "\\item[V81] 0.461507515862916\n",
       "\\item[V82] 0.275107334697822\n",
       "\\item[V83] 0.0344445941533684\n",
       "\\item[V84] 0.0945484412345316\n",
       "\\item[V85] 0.0716658695665383\n",
       "\\end{description*}\n"
      ],
      "text/markdown": [
       "(Intercept)\n",
       ":   0.618003553676747V1\n",
       ":   0.00349680109861471V2\n",
       ":   -0.00835075428266388V4\n",
       ":   0.0119981987220532V5\n",
       ":   -0.01547836059954V6\n",
       ":   -0.00510313344709588V9\n",
       ":   -0.00225227620823619V10\n",
       ":   0.00507578908902144V14\n",
       ":   -0.00259880476963946V17\n",
       ":   -0.00653702554712407V18\n",
       ":   -0.0126740643273664V21\n",
       ":   -0.00626933093573281V22\n",
       ":   0.00295983985064987V28\n",
       ":   0.00334138226740299V30\n",
       ":   -0.00202224077803389V35\n",
       ":   -0.0664741162437276V36\n",
       ":   -0.069022567059435V41\n",
       ":   -0.0131400449209743V42\n",
       ":   0.00554767493629458V43\n",
       ":   0.00306369594906127V44\n",
       ":   0.0293455362942102V46\n",
       ":   -0.0161769791115124V47\n",
       ":   0.0103493092259559V55\n",
       ":   -0.0167658749288697V57\n",
       ":   0.196968089284682V58\n",
       ":   0.06288873685147V59\n",
       ":   0.0128157070554422V60\n",
       ":   -0.182313564264178V63\n",
       ":   -0.0435190160804608V65\n",
       ":   -0.0387457524788102V69\n",
       ":   -0.0271523671674005V76\n",
       ":   0.0395817141922067V78\n",
       ":   -0.415223605723456V79\n",
       ":   -0.225990861972163V80\n",
       ":   -0.020473939689037V81\n",
       ":   0.461507515862916V82\n",
       ":   0.275107334697822V83\n",
       ":   0.0344445941533684V84\n",
       ":   0.0945484412345316V85\n",
       ":   0.0716658695665383\n",
       "\n"
      ],
      "text/plain": [
       " (Intercept)           V1           V2           V4           V5           V6 \n",
       " 0.618003554  0.003496801 -0.008350754  0.011998199 -0.015478361 -0.005103133 \n",
       "          V9          V10          V14          V17          V18          V21 \n",
       "-0.002252276  0.005075789 -0.002598805 -0.006537026 -0.012674064 -0.006269331 \n",
       "         V22          V28          V30          V35          V36          V41 \n",
       " 0.002959840  0.003341382 -0.002022241 -0.066474116 -0.069022567 -0.013140045 \n",
       "         V42          V43          V44          V46          V47          V55 \n",
       " 0.005547675  0.003063696  0.029345536 -0.016176979  0.010349309 -0.016765875 \n",
       "         V57          V58          V59          V60          V63          V65 \n",
       " 0.196968089  0.062888737  0.012815707 -0.182313564 -0.043519016 -0.038745752 \n",
       "         V69          V76          V78          V79          V80          V81 \n",
       "-0.027152367  0.039581714 -0.415223606 -0.225990862 -0.020473940  0.461507516 \n",
       "         V82          V83          V84          V85 \n",
       " 0.275107335  0.034444594  0.094548441  0.071665870 "
      ]
     },
     "metadata": {},
     "output_type": "display_data"
    }
   ],
   "source": [
    "coef(regfit.bwd, 39)"
   ]
  },
  {
   "cell_type": "code",
   "execution_count": 94,
   "id": "bab10a7b",
   "metadata": {},
   "outputs": [],
   "source": [
    "#To store backward train and test errors\n",
    "\n",
    "bwdtrainErrors <- matrix(rep(NA, 85))\n",
    "bwdtestErrors <- matrix(rep(NA, 85))"
   ]
  },
  {
   "cell_type": "code",
   "execution_count": 95,
   "id": "6a856601",
   "metadata": {},
   "outputs": [],
   "source": [
    "# calculating training and testing errors of all best p models selected via backward selection\n",
    "\n",
    "for (i in 1:85) {\n",
    "    \n",
    "    y_pred_train = predict(regfit.bwd, newdata = trainData, id = i)\n",
    "    y_pred_test  = predict(regfit.bwd, newdata = testData, id = i)\n",
    "    \n",
    "    y_pred_train = ifelse(y_pred_train > 0.5, 1, 0)\n",
    "    y_pred_test  = ifelse(y_pred_test > 0.5, 1, 0)\n",
    "    \n",
    "    bwdtrainErrors[i] = mean(y_pred_train != trainData[, 86])\n",
    "    bwdtestErrors[i]  = mean(y_pred_test  != testData[, 86])\n",
    "}"
   ]
  },
  {
   "cell_type": "code",
   "execution_count": 96,
   "id": "54533f60",
   "metadata": {},
   "outputs": [
    {
     "data": {
      "image/png": "[encoded data removed]",
      "text/plain": [
       "Plot with title \"BACKWARD SELECTION\""
      ]
     },
     "metadata": {
      "image/png": {
       "height": 420,
       "width": 420
      }
     },
     "output_type": "display_data"
    }
   ],
   "source": [
    "#plotting training and testing errors\n",
    "\n",
    "par(mfrow = c(2,1))\n",
    "\n",
    "plot(bwdtrainErrors, col = \"green\", type = \"o\", xlab = \"Number of Variables\", ylab = \"Mean Squared Error\",\n",
    "    main = \"BACKWARD SELECTION\", ylim = c(0.059,0.06))\n",
    "lines(bwdtestErrors, col = \"red\", type = \"o\")"
   ]
  },
  {
   "cell_type": "code",
   "execution_count": 97,
   "id": "a06af409",
   "metadata": {},
   "outputs": [],
   "source": [
    "MSE<-mean(bwdtestErrors)"
   ]
  },
  {
   "cell_type": "code",
   "execution_count": 98,
   "id": "2ec3694b",
   "metadata": {},
   "outputs": [
    {
     "data": {
      "text/html": [
       "0.244432114959408"
      ],
      "text/latex": [
       "0.244432114959408"
      ],
      "text/markdown": [
       "0.244432114959408"
      ],
      "text/plain": [
       "[1] 0.2444321"
      ]
     },
     "metadata": {},
     "output_type": "display_data"
    }
   ],
   "source": [
    "RMSE<-sqrt(MSE)\n",
    "RMSE"
   ]
  },
  {
   "cell_type": "markdown",
   "id": "dc532ad1",
   "metadata": {},
   "source": [
    "From the above results, Backward selection error estimates are as follows:\n",
    "- RMSE: 0.2444"
   ]
  },
  {
   "cell_type": "code",
   "execution_count": 99,
   "id": "016eea17",
   "metadata": {},
   "outputs": [],
   "source": [
    "#Ridge Regression\n",
    "x_trainData = trainData[, -86] #without response\n",
    "y_trainData= trainData[, \"V86\"] #only response"
   ]
  },
  {
   "cell_type": "code",
   "execution_count": 100,
   "id": "b36f1961",
   "metadata": {},
   "outputs": [
    {
     "data": {
      "text/html": [
       "<style>\n",
       ".list-inline {list-style: none; margin:0; padding: 0}\n",
       ".list-inline>li {display: inline-block}\n",
       ".list-inline>li:not(:last-child)::after {content: \"\\00b7\"; padding: 0 .5ex}\n",
       "</style>\n",
       "<ol class=list-inline><li>5822</li><li>85</li></ol>\n"
      ],
      "text/latex": [
       "\\begin{enumerate*}\n",
       "\\item 5822\n",
       "\\item 85\n",
       "\\end{enumerate*}\n"
      ],
      "text/markdown": [
       "1. 5822\n",
       "2. 85\n",
       "\n",
       "\n"
      ],
      "text/plain": [
       "[1] 5822   85"
      ]
     },
     "metadata": {},
     "output_type": "display_data"
    }
   ],
   "source": [
    "dim(x_trainData)"
   ]
  },
  {
   "cell_type": "code",
   "execution_count": 101,
   "id": "bcb0e642",
   "metadata": {},
   "outputs": [],
   "source": [
    "ridgeReg<-cv.glmnet(as.matrix(x_trainData),y_trainData,alpha=0)"
   ]
  },
  {
   "cell_type": "code",
   "execution_count": 102,
   "id": "0034b2f9",
   "metadata": {},
   "outputs": [
    {
     "data": {
      "image/png": "[encoded data removed]",
      "text/plain": [
       "plot without title"
      ]
     },
     "metadata": {
      "image/png": {
       "height": 420,
       "width": 420
      }
     },
     "output_type": "display_data"
    }
   ],
   "source": [
    "plot(ridgeReg)"
   ]
  },
  {
   "cell_type": "code",
   "execution_count": 103,
   "id": "afc0b7b4",
   "metadata": {},
   "outputs": [
    {
     "data": {
      "text/plain": [
       "86 x 1 sparse Matrix of class \"dgCMatrix\"\n",
       "                       s1\n",
       "(Intercept) -1.004037e-01\n",
       "V1           3.966445e-04\n",
       "V2          -6.225974e-03\n",
       "V3          -2.020914e-03\n",
       "V4           9.442341e-03\n",
       "V5          -1.553153e-03\n",
       "V6          -3.935816e-03\n",
       "V7           1.195289e-03\n",
       "V8           1.901551e-03\n",
       "V9          -1.377498e-03\n",
       "V10          3.762357e-03\n",
       "V11         -1.045089e-03\n",
       "V12          1.389662e-03\n",
       "V13         -1.198060e-03\n",
       "V14         -2.505333e-03\n",
       "V15          2.787413e-04\n",
       "V16          6.239924e-03\n",
       "V17         -2.562055e-05\n",
       "V18         -5.582449e-03\n",
       "V19          1.406718e-03\n",
       "V20          3.911372e-04\n",
       "V21         -5.821492e-03\n",
       "V22          3.591038e-03\n",
       "V23         -6.496144e-04\n",
       "V24          1.233614e-03\n",
       "V25         -1.771838e-04\n",
       "V26         -1.511658e-03\n",
       "V27         -4.301799e-04\n",
       "V28          2.785751e-03\n",
       "V29         -1.899429e-04\n",
       "V30         -1.614437e-03\n",
       "V31          5.191931e-04\n",
       "V32          4.424484e-03\n",
       "V33          3.658868e-03\n",
       "V34          1.305004e-03\n",
       "V35          3.105348e-04\n",
       "V36         -2.453667e-03\n",
       "V37          2.339771e-03\n",
       "V38          2.623101e-03\n",
       "V39          1.234271e-03\n",
       "V40          3.993978e-03\n",
       "V41         -1.217998e-02\n",
       "V42          4.833254e-03\n",
       "V43          2.550514e-03\n",
       "V44          1.234775e-02\n",
       "V45         -7.168526e-03\n",
       "V46         -8.833222e-03\n",
       "V47          8.365083e-03\n",
       "V48          2.175432e-04\n",
       "V49         -4.360249e-03\n",
       "V50         -1.313536e-02\n",
       "V51          2.766061e-02\n",
       "V52          7.034476e-03\n",
       "V53         -5.284972e-03\n",
       "V54          2.791997e-03\n",
       "V55         -1.205404e-02\n",
       "V56          5.464706e-03\n",
       "V57          6.872647e-02\n",
       "V58          3.995787e-02\n",
       "V59          1.033827e-02\n",
       "V60         -1.384183e-01\n",
       "V61         -7.346913e-03\n",
       "V62          5.307320e-03\n",
       "V63         -3.500230e-02\n",
       "V64         -5.003431e-04\n",
       "V65         -5.188737e-03\n",
       "V66          1.218380e-02\n",
       "V67         -1.837708e-02\n",
       "V68          9.777771e-03\n",
       "V69         -1.504618e-02\n",
       "V70          1.379269e-02\n",
       "V71          1.161255e-02\n",
       "V72         -2.942505e-02\n",
       "V73         -2.713626e-02\n",
       "V74         -4.737460e-03\n",
       "V75         -8.612398e-03\n",
       "V76          2.868004e-02\n",
       "V77         -3.270641e-02\n",
       "V78         -1.108953e-01\n",
       "V79         -1.082325e-01\n",
       "V80         -1.317753e-02\n",
       "V81          3.787064e-01\n",
       "V82          2.879934e-01\n",
       "V83          2.984735e-02\n",
       "V84          7.298414e-02\n",
       "V85          7.168130e-02"
      ]
     },
     "metadata": {},
     "output_type": "display_data"
    }
   ],
   "source": [
    "bestCoeffRidge<-predict(ridgeReg, s = optimalLambda, type = \"coefficients\")\n",
    "bestCoeffRidge"
   ]
  },
  {
   "cell_type": "code",
   "execution_count": 104,
   "id": "93d92abb",
   "metadata": {},
   "outputs": [
    {
     "data": {
      "text/html": [
       "<style>\n",
       ".dl-inline {width: auto; margin:0; padding: 0}\n",
       ".dl-inline>dt, .dl-inline>dd {float: none; width: auto; display: inline-block}\n",
       ".dl-inline>dt::after {content: \":\\0020\"; padding-right: .5ex}\n",
       ".dl-inline>dt:not(:first-of-type) {padding-left: .5ex}\n",
       "</style><dl class=dl-inline><dt>RMSE</dt><dd>0.234281607506361</dd><dt>Rsquared</dt><dd>0.034115720040029</dd><dt>MAE</dt><dd>0.110897029868804</dd></dl>\n"
      ],
      "text/latex": [
       "\\begin{description*}\n",
       "\\item[RMSE] 0.234281607506361\n",
       "\\item[Rsquared] 0.034115720040029\n",
       "\\item[MAE] 0.110897029868804\n",
       "\\end{description*}\n"
      ],
      "text/markdown": [
       "RMSE\n",
       ":   0.234281607506361Rsquared\n",
       ":   0.034115720040029MAE\n",
       ":   0.110897029868804\n",
       "\n"
      ],
      "text/plain": [
       "      RMSE   Rsquared        MAE \n",
       "0.23428161 0.03411572 0.11089703 "
      ]
     },
     "metadata": {},
     "output_type": "display_data"
    }
   ],
   "source": [
    "(ridgeInfo <- postResample(predict(ridgeReg, as.matrix(x_testData)), y_testData))"
   ]
  },
  {
   "cell_type": "markdown",
   "id": "1035c1c1",
   "metadata": {},
   "source": [
    "From the above results, Ridge regression error estimates are as follows:\n",
    "- R2 : 0.0312\n",
    "- Residual Std. Error: 0.2355\n",
    "- MAE: 0.11"
   ]
  },
  {
   "cell_type": "code",
   "execution_count": 105,
   "id": "b83185b6",
   "metadata": {},
   "outputs": [],
   "source": [
    "#Lasso Regression\n",
    "lassoFit <- cv.glmnet(as.matrix(x_trainData), y_trainData, alpha=1)"
   ]
  },
  {
   "cell_type": "code",
   "execution_count": 106,
   "id": "f38018ae",
   "metadata": {},
   "outputs": [
    {
     "data": {
      "image/png": "[encoded data removed]",
      "text/plain": [
       "plot without title"
      ]
     },
     "metadata": {
      "image/png": {
       "height": 420,
       "width": 420
      }
     },
     "output_type": "display_data"
    }
   ],
   "source": [
    "plot(lassoFit)"
   ]
  },
  {
   "cell_type": "code",
   "execution_count": 107,
   "id": "647c082c",
   "metadata": {},
   "outputs": [
    {
     "data": {
      "text/plain": [
       "86 x 1 sparse Matrix of class \"dgCMatrix\"\n",
       "                       s1\n",
       "(Intercept)  1.865276e-03\n",
       "V1           .           \n",
       "V2           .           \n",
       "V3           .           \n",
       "V4           .           \n",
       "V5           .           \n",
       "V6           .           \n",
       "V7           .           \n",
       "V8           .           \n",
       "V9           .           \n",
       "V10          8.941229e-04\n",
       "V11          .           \n",
       "V12          .           \n",
       "V13          .           \n",
       "V14          .           \n",
       "V15          .           \n",
       "V16          1.437766e-03\n",
       "V17          .           \n",
       "V18         -2.084670e-03\n",
       "V19          .           \n",
       "V20          .           \n",
       "V21         -2.917925e-04\n",
       "V22          .           \n",
       "V23          .           \n",
       "V24          .           \n",
       "V25          .           \n",
       "V26          .           \n",
       "V27          .           \n",
       "V28          .           \n",
       "V29          .           \n",
       "V30         -1.756856e-04\n",
       "V31          .           \n",
       "V32          6.282798e-04\n",
       "V33          .           \n",
       "V34          .           \n",
       "V35          .           \n",
       "V36          .           \n",
       "V37          .           \n",
       "V38          .           \n",
       "V39          .           \n",
       "V40          .           \n",
       "V41          .           \n",
       "V42          2.608783e-03\n",
       "V43          2.709109e-03\n",
       "V44          6.098326e-03\n",
       "V45          .           \n",
       "V46          .           \n",
       "V47          8.010812e-03\n",
       "V48          .           \n",
       "V49          .           \n",
       "V50          .           \n",
       "V51          .           \n",
       "V52          .           \n",
       "V53          .           \n",
       "V54          .           \n",
       "V55          .           \n",
       "V56          .           \n",
       "V57          .           \n",
       "V58          .           \n",
       "V59          3.179182e-03\n",
       "V60          .           \n",
       "V61          .           \n",
       "V62          .           \n",
       "V63          .           \n",
       "V64          .           \n",
       "V65          .           \n",
       "V66          .           \n",
       "V67          .           \n",
       "V68          6.820356e-06\n",
       "V69          .           \n",
       "V70          .           \n",
       "V71          .           \n",
       "V72          .           \n",
       "V73          .           \n",
       "V74          .           \n",
       "V75          .           \n",
       "V76          .           \n",
       "V77          .           \n",
       "V78          .           \n",
       "V79          .           \n",
       "V80          .           \n",
       "V81          .           \n",
       "V82          1.707352e-01\n",
       "V83          .           \n",
       "V84          .           \n",
       "V85          1.565784e-02"
      ]
     },
     "metadata": {},
     "output_type": "display_data"
    }
   ],
   "source": [
    "best_lasso_coeff <- predict(lassoFit, s= optimalLambda, type = \"coefficients\")\n",
    "best_lasso_coeff"
   ]
  },
  {
   "cell_type": "code",
   "execution_count": 108,
   "id": "1d33bb6f",
   "metadata": {},
   "outputs": [
    {
     "data": {
      "text/html": [
       "<style>\n",
       ".dl-inline {width: auto; margin:0; padding: 0}\n",
       ".dl-inline>dt, .dl-inline>dd {float: none; width: auto; display: inline-block}\n",
       ".dl-inline>dt::after {content: \":\\0020\"; padding-right: .5ex}\n",
       ".dl-inline>dt:not(:first-of-type) {padding-left: .5ex}\n",
       "</style><dl class=dl-inline><dt>RMSE</dt><dd>0.236207628163615</dd><dt>Rsquared</dt><dd>0.013656070893762</dd><dt>MAE</dt><dd>0.111951336084315</dd></dl>\n"
      ],
      "text/latex": [
       "\\begin{description*}\n",
       "\\item[RMSE] 0.236207628163615\n",
       "\\item[Rsquared] 0.013656070893762\n",
       "\\item[MAE] 0.111951336084315\n",
       "\\end{description*}\n"
      ],
      "text/markdown": [
       "RMSE\n",
       ":   0.236207628163615Rsquared\n",
       ":   0.013656070893762MAE\n",
       ":   0.111951336084315\n",
       "\n"
      ],
      "text/plain": [
       "      RMSE   Rsquared        MAE \n",
       "0.23620763 0.01365607 0.11195134 "
      ]
     },
     "metadata": {},
     "output_type": "display_data"
    }
   ],
   "source": [
    "(lassoInfo <- postResample(predict(lassoFit, as.matrix(x_testData)), y_testData))"
   ]
  },
  {
   "cell_type": "markdown",
   "id": "d6eb26e7",
   "metadata": {},
   "source": [
    "From the above results, lasso regression error estimates are as follows:\n",
    "- R2 : 0.0137\n",
    "- Residual Std. Error: 0.236\n",
    "- MAE: 0.111"
   ]
  },
  {
   "cell_type": "markdown",
   "id": "82f3adad",
   "metadata": {},
   "source": [
    "Lower the RMSE value, better the model is for prediction. \n",
    "From the above error estimates using OLS, Forward selection, Backward selection, Ridge and Lasso regression methods, we can determine that all the models are performing better but using OLS estimates, RMSE value is 0.230 which is the least.\n",
    "Hence, from all of the models Linear regression performed the best for our dataset."
   ]
  },
  {
   "cell_type": "markdown",
   "id": "ca63210e",
   "metadata": {},
   "source": [
    "### 3. ESL textbook exercise 2.8 modified: Compare the classification performance of linear regression and k-nearest neighbor classification on the zipcode data. In particular, consider only the 7’s and 9’s for this problem, and k = 1, 3, 5, 7, 9, 11, 13,15. Show the test error for each choice of k. Describe your results – are you surprised by the differences in performance? The zipcode data is available https://hastie.su.domains/ElemStatLearn/ in the “Data” tab. The data can be obtained as test/training and/or by number."
   ]
  },
  {
   "cell_type": "code",
   "execution_count": 109,
   "id": "bc76f639",
   "metadata": {},
   "outputs": [
    {
     "data": {
      "text/html": [
       "<table class=\"dataframe\">\n",
       "<caption>A data.frame: 6 × 257</caption>\n",
       "<thead>\n",
       "\t<tr><th></th><th scope=col>V1</th><th scope=col>V2</th><th scope=col>V3</th><th scope=col>V4</th><th scope=col>V5</th><th scope=col>V6</th><th scope=col>V7</th><th scope=col>V8</th><th scope=col>V9</th><th scope=col>V10</th><th scope=col>⋯</th><th scope=col>V248</th><th scope=col>V249</th><th scope=col>V250</th><th scope=col>V251</th><th scope=col>V252</th><th scope=col>V253</th><th scope=col>V254</th><th scope=col>V255</th><th scope=col>V256</th><th scope=col>V257</th></tr>\n",
       "\t<tr><th></th><th scope=col>&lt;dbl&gt;</th><th scope=col>&lt;dbl&gt;</th><th scope=col>&lt;dbl&gt;</th><th scope=col>&lt;dbl&gt;</th><th scope=col>&lt;dbl&gt;</th><th scope=col>&lt;dbl&gt;</th><th scope=col>&lt;dbl&gt;</th><th scope=col>&lt;dbl&gt;</th><th scope=col>&lt;dbl&gt;</th><th scope=col>&lt;dbl&gt;</th><th scope=col>⋯</th><th scope=col>&lt;dbl&gt;</th><th scope=col>&lt;dbl&gt;</th><th scope=col>&lt;dbl&gt;</th><th scope=col>&lt;dbl&gt;</th><th scope=col>&lt;dbl&gt;</th><th scope=col>&lt;dbl&gt;</th><th scope=col>&lt;dbl&gt;</th><th scope=col>&lt;dbl&gt;</th><th scope=col>&lt;dbl&gt;</th><th scope=col>&lt;dbl&gt;</th></tr>\n",
       "</thead>\n",
       "<tbody>\n",
       "\t<tr><th scope=row>4</th><td>7</td><td>-1</td><td>-1</td><td>-1</td><td>-1.000</td><td>-1.000</td><td>-0.273</td><td> 0.684</td><td> 0.960</td><td> 0.450</td><td>⋯</td><td>-0.318</td><td> 1.000</td><td> 0.536</td><td>-0.987</td><td>-1</td><td>-1</td><td>-1</td><td>-1</td><td>-1</td><td>-1</td></tr>\n",
       "\t<tr><th scope=row>11</th><td>7</td><td>-1</td><td>-1</td><td>-1</td><td>-1.000</td><td>-1.000</td><td>-0.596</td><td> 0.912</td><td> 1.000</td><td> 0.290</td><td>⋯</td><td>-1.000</td><td>-0.795</td><td> 0.663</td><td>-0.074</td><td>-1</td><td>-1</td><td>-1</td><td>-1</td><td>-1</td><td>-1</td></tr>\n",
       "\t<tr><th scope=row>15</th><td>7</td><td>-1</td><td>-1</td><td>-1</td><td>-1.000</td><td>-1.000</td><td>-1.000</td><td>-1.000</td><td>-1.000</td><td>-0.632</td><td>⋯</td><td>-1.000</td><td>-0.967</td><td> 0.866</td><td>-0.001</td><td>-1</td><td>-1</td><td>-1</td><td>-1</td><td>-1</td><td>-1</td></tr>\n",
       "\t<tr><th scope=row>16</th><td>7</td><td>-1</td><td>-1</td><td>-1</td><td>-0.929</td><td> 0.351</td><td> 0.798</td><td> 0.806</td><td> 0.114</td><td> 0.015</td><td>⋯</td><td> 0.835</td><td>-0.086</td><td>-0.991</td><td>-1.000</td><td>-1</td><td>-1</td><td>-1</td><td>-1</td><td>-1</td><td>-1</td></tr>\n",
       "\t<tr><th scope=row>23</th><td>7</td><td>-1</td><td>-1</td><td>-1</td><td>-1.000</td><td>-0.869</td><td> 0.777</td><td>-0.007</td><td>-0.697</td><td>-1.000</td><td>⋯</td><td>-0.933</td><td> 0.667</td><td>-0.315</td><td>-1.000</td><td>-1</td><td>-1</td><td>-1</td><td>-1</td><td>-1</td><td>-1</td></tr>\n",
       "\t<tr><th scope=row>26</th><td>7</td><td>-1</td><td>-1</td><td>-1</td><td>-1.000</td><td>-0.846</td><td>-0.011</td><td>-0.920</td><td>-1.000</td><td>-1.000</td><td>⋯</td><td>-1.000</td><td> 0.008</td><td> 0.405</td><td>-1.000</td><td>-1</td><td>-1</td><td>-1</td><td>-1</td><td>-1</td><td>-1</td></tr>\n",
       "</tbody>\n",
       "</table>\n"
      ],
      "text/latex": [
       "A data.frame: 6 × 257\n",
       "\\begin{tabular}{r|lllllllllllllllllllll}\n",
       "  & V1 & V2 & V3 & V4 & V5 & V6 & V7 & V8 & V9 & V10 & ⋯ & V248 & V249 & V250 & V251 & V252 & V253 & V254 & V255 & V256 & V257\\\\\n",
       "  & <dbl> & <dbl> & <dbl> & <dbl> & <dbl> & <dbl> & <dbl> & <dbl> & <dbl> & <dbl> & ⋯ & <dbl> & <dbl> & <dbl> & <dbl> & <dbl> & <dbl> & <dbl> & <dbl> & <dbl> & <dbl>\\\\\n",
       "\\hline\n",
       "\t4 & 7 & -1 & -1 & -1 & -1.000 & -1.000 & -0.273 &  0.684 &  0.960 &  0.450 & ⋯ & -0.318 &  1.000 &  0.536 & -0.987 & -1 & -1 & -1 & -1 & -1 & -1\\\\\n",
       "\t11 & 7 & -1 & -1 & -1 & -1.000 & -1.000 & -0.596 &  0.912 &  1.000 &  0.290 & ⋯ & -1.000 & -0.795 &  0.663 & -0.074 & -1 & -1 & -1 & -1 & -1 & -1\\\\\n",
       "\t15 & 7 & -1 & -1 & -1 & -1.000 & -1.000 & -1.000 & -1.000 & -1.000 & -0.632 & ⋯ & -1.000 & -0.967 &  0.866 & -0.001 & -1 & -1 & -1 & -1 & -1 & -1\\\\\n",
       "\t16 & 7 & -1 & -1 & -1 & -0.929 &  0.351 &  0.798 &  0.806 &  0.114 &  0.015 & ⋯ &  0.835 & -0.086 & -0.991 & -1.000 & -1 & -1 & -1 & -1 & -1 & -1\\\\\n",
       "\t23 & 7 & -1 & -1 & -1 & -1.000 & -0.869 &  0.777 & -0.007 & -0.697 & -1.000 & ⋯ & -0.933 &  0.667 & -0.315 & -1.000 & -1 & -1 & -1 & -1 & -1 & -1\\\\\n",
       "\t26 & 7 & -1 & -1 & -1 & -1.000 & -0.846 & -0.011 & -0.920 & -1.000 & -1.000 & ⋯ & -1.000 &  0.008 &  0.405 & -1.000 & -1 & -1 & -1 & -1 & -1 & -1\\\\\n",
       "\\end{tabular}\n"
      ],
      "text/markdown": [
       "\n",
       "A data.frame: 6 × 257\n",
       "\n",
       "| <!--/--> | V1 &lt;dbl&gt; | V2 &lt;dbl&gt; | V3 &lt;dbl&gt; | V4 &lt;dbl&gt; | V5 &lt;dbl&gt; | V6 &lt;dbl&gt; | V7 &lt;dbl&gt; | V8 &lt;dbl&gt; | V9 &lt;dbl&gt; | V10 &lt;dbl&gt; | ⋯ ⋯ | V248 &lt;dbl&gt; | V249 &lt;dbl&gt; | V250 &lt;dbl&gt; | V251 &lt;dbl&gt; | V252 &lt;dbl&gt; | V253 &lt;dbl&gt; | V254 &lt;dbl&gt; | V255 &lt;dbl&gt; | V256 &lt;dbl&gt; | V257 &lt;dbl&gt; |\n",
       "|---|---|---|---|---|---|---|---|---|---|---|---|---|---|---|---|---|---|---|---|---|---|\n",
       "| 4 | 7 | -1 | -1 | -1 | -1.000 | -1.000 | -0.273 |  0.684 |  0.960 |  0.450 | ⋯ | -0.318 |  1.000 |  0.536 | -0.987 | -1 | -1 | -1 | -1 | -1 | -1 |\n",
       "| 11 | 7 | -1 | -1 | -1 | -1.000 | -1.000 | -0.596 |  0.912 |  1.000 |  0.290 | ⋯ | -1.000 | -0.795 |  0.663 | -0.074 | -1 | -1 | -1 | -1 | -1 | -1 |\n",
       "| 15 | 7 | -1 | -1 | -1 | -1.000 | -1.000 | -1.000 | -1.000 | -1.000 | -0.632 | ⋯ | -1.000 | -0.967 |  0.866 | -0.001 | -1 | -1 | -1 | -1 | -1 | -1 |\n",
       "| 16 | 7 | -1 | -1 | -1 | -0.929 |  0.351 |  0.798 |  0.806 |  0.114 |  0.015 | ⋯ |  0.835 | -0.086 | -0.991 | -1.000 | -1 | -1 | -1 | -1 | -1 | -1 |\n",
       "| 23 | 7 | -1 | -1 | -1 | -1.000 | -0.869 |  0.777 | -0.007 | -0.697 | -1.000 | ⋯ | -0.933 |  0.667 | -0.315 | -1.000 | -1 | -1 | -1 | -1 | -1 | -1 |\n",
       "| 26 | 7 | -1 | -1 | -1 | -1.000 | -0.846 | -0.011 | -0.920 | -1.000 | -1.000 | ⋯ | -1.000 |  0.008 |  0.405 | -1.000 | -1 | -1 | -1 | -1 | -1 | -1 |\n",
       "\n"
      ],
      "text/plain": [
       "   V1 V2 V3 V4 V5     V6     V7     V8     V9     V10    ⋯ V248   V249   V250  \n",
       "4  7  -1 -1 -1 -1.000 -1.000 -0.273  0.684  0.960  0.450 ⋯ -0.318  1.000  0.536\n",
       "11 7  -1 -1 -1 -1.000 -1.000 -0.596  0.912  1.000  0.290 ⋯ -1.000 -0.795  0.663\n",
       "15 7  -1 -1 -1 -1.000 -1.000 -1.000 -1.000 -1.000 -0.632 ⋯ -1.000 -0.967  0.866\n",
       "16 7  -1 -1 -1 -0.929  0.351  0.798  0.806  0.114  0.015 ⋯  0.835 -0.086 -0.991\n",
       "23 7  -1 -1 -1 -1.000 -0.869  0.777 -0.007 -0.697 -1.000 ⋯ -0.933  0.667 -0.315\n",
       "26 7  -1 -1 -1 -1.000 -0.846 -0.011 -0.920 -1.000 -1.000 ⋯ -1.000  0.008  0.405\n",
       "   V251   V252 V253 V254 V255 V256 V257\n",
       "4  -0.987 -1   -1   -1   -1   -1   -1  \n",
       "11 -0.074 -1   -1   -1   -1   -1   -1  \n",
       "15 -0.001 -1   -1   -1   -1   -1   -1  \n",
       "16 -1.000 -1   -1   -1   -1   -1   -1  \n",
       "23 -1.000 -1   -1   -1   -1   -1   -1  \n",
       "26 -1.000 -1   -1   -1   -1   -1   -1  "
      ]
     },
     "metadata": {},
     "output_type": "display_data"
    },
    {
     "data": {
      "text/html": [
       "<style>\n",
       ".list-inline {list-style: none; margin:0; padding: 0}\n",
       ".list-inline>li {display: inline-block}\n",
       ".list-inline>li:not(:last-child)::after {content: \"\\00b7\"; padding: 0 .5ex}\n",
       "</style>\n",
       "<ol class=list-inline><li>1289</li><li>257</li></ol>\n"
      ],
      "text/latex": [
       "\\begin{enumerate*}\n",
       "\\item 1289\n",
       "\\item 257\n",
       "\\end{enumerate*}\n"
      ],
      "text/markdown": [
       "1. 1289\n",
       "2. 257\n",
       "\n",
       "\n"
      ],
      "text/plain": [
       "[1] 1289  257"
      ]
     },
     "metadata": {},
     "output_type": "display_data"
    }
   ],
   "source": [
    "#Loading the train data from \"zip.train.gz\" using the given link\n",
    "x_train <- read.table(gzfile(\"zip.train.gz\"))\n",
    "y <- which(x_train[, 1] == 7 | x_train[, 1] == 9)\n",
    "x_train <- x_train[y,]\n",
    "y_train <- x_train[y, 1]\n",
    "head(x_train)\n",
    "dim(x_train)"
   ]
  },
  {
   "cell_type": "code",
   "execution_count": 110,
   "id": "7c0b1fd4",
   "metadata": {},
   "outputs": [
    {
     "data": {
      "text/html": [
       "<style>\n",
       ".list-inline {list-style: none; margin:0; padding: 0}\n",
       ".list-inline>li {display: inline-block}\n",
       ".list-inline>li:not(:last-child)::after {content: \"\\00b7\"; padding: 0 .5ex}\n",
       "</style>\n",
       "<ol class=list-inline><li>324</li><li>257</li></ol>\n"
      ],
      "text/latex": [
       "\\begin{enumerate*}\n",
       "\\item 324\n",
       "\\item 257\n",
       "\\end{enumerate*}\n"
      ],
      "text/markdown": [
       "1. 324\n",
       "2. 257\n",
       "\n",
       "\n"
      ],
      "text/plain": [
       "[1] 324 257"
      ]
     },
     "metadata": {},
     "output_type": "display_data"
    },
    {
     "data": {
      "text/html": [
       "<table class=\"dataframe\">\n",
       "<caption>A data.frame: 6 × 257</caption>\n",
       "<thead>\n",
       "\t<tr><th></th><th scope=col>V1</th><th scope=col>V2</th><th scope=col>V3</th><th scope=col>V4</th><th scope=col>V5</th><th scope=col>V6</th><th scope=col>V7</th><th scope=col>V8</th><th scope=col>V9</th><th scope=col>V10</th><th scope=col>⋯</th><th scope=col>V248</th><th scope=col>V249</th><th scope=col>V250</th><th scope=col>V251</th><th scope=col>V252</th><th scope=col>V253</th><th scope=col>V254</th><th scope=col>V255</th><th scope=col>V256</th><th scope=col>V257</th></tr>\n",
       "\t<tr><th></th><th scope=col>&lt;int&gt;</th><th scope=col>&lt;dbl&gt;</th><th scope=col>&lt;dbl&gt;</th><th scope=col>&lt;dbl&gt;</th><th scope=col>&lt;dbl&gt;</th><th scope=col>&lt;dbl&gt;</th><th scope=col>&lt;dbl&gt;</th><th scope=col>&lt;dbl&gt;</th><th scope=col>&lt;dbl&gt;</th><th scope=col>&lt;dbl&gt;</th><th scope=col>⋯</th><th scope=col>&lt;dbl&gt;</th><th scope=col>&lt;dbl&gt;</th><th scope=col>&lt;dbl&gt;</th><th scope=col>&lt;dbl&gt;</th><th scope=col>&lt;dbl&gt;</th><th scope=col>&lt;dbl&gt;</th><th scope=col>&lt;dbl&gt;</th><th scope=col>&lt;dbl&gt;</th><th scope=col>&lt;dbl&gt;</th><th scope=col>&lt;dbl&gt;</th></tr>\n",
       "</thead>\n",
       "<tbody>\n",
       "\t<tr><th scope=row>1</th><td>9</td><td>-1</td><td>-1.00</td><td>-1.000</td><td>-1.000</td><td>-1.000</td><td>-0.948</td><td>-0.561</td><td> 0.148</td><td> 0.384</td><td>⋯</td><td>-1.000</td><td>-0.908</td><td> 0.430</td><td> 0.622</td><td>-0.973</td><td>-1.000</td><td>-1</td><td>-1</td><td>-1</td><td>-1</td></tr>\n",
       "\t<tr><th scope=row>10</th><td>9</td><td>-1</td><td>-1.00</td><td>-1.000</td><td>-1.000</td><td>-1.000</td><td>-0.904</td><td>-0.060</td><td> 0.638</td><td> 0.678</td><td>⋯</td><td>-0.567</td><td> 0.642</td><td>-0.925</td><td>-1.000</td><td>-1.000</td><td>-1.000</td><td>-1</td><td>-1</td><td>-1</td><td>-1</td></tr>\n",
       "\t<tr><th scope=row>19</th><td>9</td><td>-1</td><td>-1.00</td><td>-1.000</td><td>-0.916</td><td>-0.600</td><td>-0.034</td><td> 0.711</td><td> 1.000</td><td> 0.488</td><td>⋯</td><td> 1.000</td><td> 0.375</td><td>-0.982</td><td>-1.000</td><td>-1.000</td><td>-1.000</td><td>-1</td><td>-1</td><td>-1</td><td>-1</td></tr>\n",
       "\t<tr><th scope=row>24</th><td>9</td><td>-1</td><td>-1.00</td><td>-1.000</td><td>-1.000</td><td>-1.000</td><td>-1.000</td><td>-1.000</td><td>-0.441</td><td> 0.530</td><td>⋯</td><td>-1.000</td><td>-1.000</td><td>-1.000</td><td>-0.057</td><td> 0.558</td><td>-0.999</td><td>-1</td><td>-1</td><td>-1</td><td>-1</td></tr>\n",
       "\t<tr><th scope=row>31</th><td>7</td><td>-1</td><td>-0.99</td><td> 0.700</td><td> 0.283</td><td>-0.131</td><td>-0.598</td><td>-1.000</td><td>-1.000</td><td>-1.000</td><td>⋯</td><td>-0.700</td><td> 0.734</td><td>-0.261</td><td>-1.000</td><td>-1.000</td><td>-1.000</td><td>-1</td><td>-1</td><td>-1</td><td>-1</td></tr>\n",
       "\t<tr><th scope=row>35</th><td>7</td><td>-1</td><td>-1.00</td><td>-0.862</td><td> 0.000</td><td> 0.296</td><td>-0.231</td><td> 0.142</td><td> 0.384</td><td> 0.763</td><td>⋯</td><td> 0.703</td><td>-0.448</td><td>-1.000</td><td>-1.000</td><td>-1.000</td><td>-1.000</td><td>-1</td><td>-1</td><td>-1</td><td>-1</td></tr>\n",
       "</tbody>\n",
       "</table>\n"
      ],
      "text/latex": [
       "A data.frame: 6 × 257\n",
       "\\begin{tabular}{r|lllllllllllllllllllll}\n",
       "  & V1 & V2 & V3 & V4 & V5 & V6 & V7 & V8 & V9 & V10 & ⋯ & V248 & V249 & V250 & V251 & V252 & V253 & V254 & V255 & V256 & V257\\\\\n",
       "  & <int> & <dbl> & <dbl> & <dbl> & <dbl> & <dbl> & <dbl> & <dbl> & <dbl> & <dbl> & ⋯ & <dbl> & <dbl> & <dbl> & <dbl> & <dbl> & <dbl> & <dbl> & <dbl> & <dbl> & <dbl>\\\\\n",
       "\\hline\n",
       "\t1 & 9 & -1 & -1.00 & -1.000 & -1.000 & -1.000 & -0.948 & -0.561 &  0.148 &  0.384 & ⋯ & -1.000 & -0.908 &  0.430 &  0.622 & -0.973 & -1.000 & -1 & -1 & -1 & -1\\\\\n",
       "\t10 & 9 & -1 & -1.00 & -1.000 & -1.000 & -1.000 & -0.904 & -0.060 &  0.638 &  0.678 & ⋯ & -0.567 &  0.642 & -0.925 & -1.000 & -1.000 & -1.000 & -1 & -1 & -1 & -1\\\\\n",
       "\t19 & 9 & -1 & -1.00 & -1.000 & -0.916 & -0.600 & -0.034 &  0.711 &  1.000 &  0.488 & ⋯ &  1.000 &  0.375 & -0.982 & -1.000 & -1.000 & -1.000 & -1 & -1 & -1 & -1\\\\\n",
       "\t24 & 9 & -1 & -1.00 & -1.000 & -1.000 & -1.000 & -1.000 & -1.000 & -0.441 &  0.530 & ⋯ & -1.000 & -1.000 & -1.000 & -0.057 &  0.558 & -0.999 & -1 & -1 & -1 & -1\\\\\n",
       "\t31 & 7 & -1 & -0.99 &  0.700 &  0.283 & -0.131 & -0.598 & -1.000 & -1.000 & -1.000 & ⋯ & -0.700 &  0.734 & -0.261 & -1.000 & -1.000 & -1.000 & -1 & -1 & -1 & -1\\\\\n",
       "\t35 & 7 & -1 & -1.00 & -0.862 &  0.000 &  0.296 & -0.231 &  0.142 &  0.384 &  0.763 & ⋯ &  0.703 & -0.448 & -1.000 & -1.000 & -1.000 & -1.000 & -1 & -1 & -1 & -1\\\\\n",
       "\\end{tabular}\n"
      ],
      "text/markdown": [
       "\n",
       "A data.frame: 6 × 257\n",
       "\n",
       "| <!--/--> | V1 &lt;int&gt; | V2 &lt;dbl&gt; | V3 &lt;dbl&gt; | V4 &lt;dbl&gt; | V5 &lt;dbl&gt; | V6 &lt;dbl&gt; | V7 &lt;dbl&gt; | V8 &lt;dbl&gt; | V9 &lt;dbl&gt; | V10 &lt;dbl&gt; | ⋯ ⋯ | V248 &lt;dbl&gt; | V249 &lt;dbl&gt; | V250 &lt;dbl&gt; | V251 &lt;dbl&gt; | V252 &lt;dbl&gt; | V253 &lt;dbl&gt; | V254 &lt;dbl&gt; | V255 &lt;dbl&gt; | V256 &lt;dbl&gt; | V257 &lt;dbl&gt; |\n",
       "|---|---|---|---|---|---|---|---|---|---|---|---|---|---|---|---|---|---|---|---|---|---|\n",
       "| 1 | 9 | -1 | -1.00 | -1.000 | -1.000 | -1.000 | -0.948 | -0.561 |  0.148 |  0.384 | ⋯ | -1.000 | -0.908 |  0.430 |  0.622 | -0.973 | -1.000 | -1 | -1 | -1 | -1 |\n",
       "| 10 | 9 | -1 | -1.00 | -1.000 | -1.000 | -1.000 | -0.904 | -0.060 |  0.638 |  0.678 | ⋯ | -0.567 |  0.642 | -0.925 | -1.000 | -1.000 | -1.000 | -1 | -1 | -1 | -1 |\n",
       "| 19 | 9 | -1 | -1.00 | -1.000 | -0.916 | -0.600 | -0.034 |  0.711 |  1.000 |  0.488 | ⋯ |  1.000 |  0.375 | -0.982 | -1.000 | -1.000 | -1.000 | -1 | -1 | -1 | -1 |\n",
       "| 24 | 9 | -1 | -1.00 | -1.000 | -1.000 | -1.000 | -1.000 | -1.000 | -0.441 |  0.530 | ⋯ | -1.000 | -1.000 | -1.000 | -0.057 |  0.558 | -0.999 | -1 | -1 | -1 | -1 |\n",
       "| 31 | 7 | -1 | -0.99 |  0.700 |  0.283 | -0.131 | -0.598 | -1.000 | -1.000 | -1.000 | ⋯ | -0.700 |  0.734 | -0.261 | -1.000 | -1.000 | -1.000 | -1 | -1 | -1 | -1 |\n",
       "| 35 | 7 | -1 | -1.00 | -0.862 |  0.000 |  0.296 | -0.231 |  0.142 |  0.384 |  0.763 | ⋯ |  0.703 | -0.448 | -1.000 | -1.000 | -1.000 | -1.000 | -1 | -1 | -1 | -1 |\n",
       "\n"
      ],
      "text/plain": [
       "   V1 V2 V3    V4     V5     V6     V7     V8     V9     V10    ⋯ V248   V249  \n",
       "1  9  -1 -1.00 -1.000 -1.000 -1.000 -0.948 -0.561  0.148  0.384 ⋯ -1.000 -0.908\n",
       "10 9  -1 -1.00 -1.000 -1.000 -1.000 -0.904 -0.060  0.638  0.678 ⋯ -0.567  0.642\n",
       "19 9  -1 -1.00 -1.000 -0.916 -0.600 -0.034  0.711  1.000  0.488 ⋯  1.000  0.375\n",
       "24 9  -1 -1.00 -1.000 -1.000 -1.000 -1.000 -1.000 -0.441  0.530 ⋯ -1.000 -1.000\n",
       "31 7  -1 -0.99  0.700  0.283 -0.131 -0.598 -1.000 -1.000 -1.000 ⋯ -0.700  0.734\n",
       "35 7  -1 -1.00 -0.862  0.000  0.296 -0.231  0.142  0.384  0.763 ⋯  0.703 -0.448\n",
       "   V250   V251   V252   V253   V254 V255 V256 V257\n",
       "1   0.430  0.622 -0.973 -1.000 -1   -1   -1   -1  \n",
       "10 -0.925 -1.000 -1.000 -1.000 -1   -1   -1   -1  \n",
       "19 -0.982 -1.000 -1.000 -1.000 -1   -1   -1   -1  \n",
       "24 -1.000 -0.057  0.558 -0.999 -1   -1   -1   -1  \n",
       "31 -0.261 -1.000 -1.000 -1.000 -1   -1   -1   -1  \n",
       "35 -1.000 -1.000 -1.000 -1.000 -1   -1   -1   -1  "
      ]
     },
     "metadata": {},
     "output_type": "display_data"
    }
   ],
   "source": [
    "#Loading the test data from \"zip.test.gz\" using the given link\n",
    "x_test <- read.table(gzfile(\"zip.test.gz\"))\n",
    "y <- which(x_test[, 1] == 7 | x_test[, 1] == 9)\n",
    "x_test<- x_test[y,]\n",
    "dim(x_test)\n",
    "head(x_test)"
   ]
  },
  {
   "cell_type": "code",
   "execution_count": 111,
   "id": "ba138fe6",
   "metadata": {},
   "outputs": [],
   "source": [
    "#Performing Classification of Linear Regression\n",
    "lr <- lm(V1 ~., data = x_train)"
   ]
  },
  {
   "cell_type": "code",
   "execution_count": 112,
   "id": "ff63b0c9",
   "metadata": {},
   "outputs": [
    {
     "name": "stderr",
     "output_type": "stream",
     "text": [
      "Warning message in predict.lm(lr, x_test):\n",
      "\"prediction from a rank-deficient fit may be misleading\"\n"
     ]
    }
   ],
   "source": [
    "#Finding out the linear regression predict value\n",
    "lr_predict <- predict(lr, x_test)"
   ]
  },
  {
   "cell_type": "code",
   "execution_count": 113,
   "id": "d9253245",
   "metadata": {},
   "outputs": [
    {
     "data": {
      "text/html": [
       "1.78032702511834e+26"
      ],
      "text/latex": [
       "1.78032702511834e+26"
      ],
      "text/markdown": [
       "1.78032702511834e+26"
      ],
      "text/plain": [
       "[1] 1.780327e+26"
      ]
     },
     "metadata": {},
     "output_type": "display_data"
    }
   ],
   "source": [
    "#Calculating the error value\n",
    "lr_error <-  mean((lr_predict - x_test$V1)^2)\n",
    "lr_error"
   ]
  },
  {
   "cell_type": "markdown",
   "id": "0a3be12a",
   "metadata": {},
   "source": [
    "Linear regression error value is 1.780327"
   ]
  },
  {
   "cell_type": "code",
   "execution_count": 114,
   "id": "7b6c0914",
   "metadata": {},
   "outputs": [],
   "source": [
    "#Classification performance using k-nn model\n",
    "library(class)\n",
    "k <- c(1, 3, 5, 7, 9, 11, 13, 15)\n",
    "k_error <- rep(NA, length(k))\n",
    "for (i in 1:length(k)) {\n",
    "    knn_predict <- knn(x_trainData, x_testData, x_trainData$V1, k[i])\n",
    "    k_error[i] <- mean((knn_predict != x_testData$V1))\n",
    "}"
   ]
  },
  {
   "cell_type": "code",
   "execution_count": 115,
   "id": "319ee5fa",
   "metadata": {},
   "outputs": [
    {
     "name": "stdout",
     "output_type": "stream",
     "text": [
      "[1] 0.137\n",
      "[1] 0.18\n",
      "[1] 0.20275\n",
      "[1] 0.214\n",
      "[1] 0.2295\n",
      "[1] 0.2515\n",
      "[1] 0.2595\n",
      "[1] 0.274\n"
     ]
    }
   ],
   "source": [
    "for(i in 1:8)\n",
    "    print(k_error[i])"
   ]
  },
  {
   "cell_type": "code",
   "execution_count": 116,
   "id": "4bb63849",
   "metadata": {},
   "outputs": [
    {
     "data": {
      "text/html": [
       "<table class=\"dataframe\">\n",
       "<caption>A matrix: 9 × 1 of type dbl</caption>\n",
       "<thead>\n",
       "\t<tr><th></th><th scope=col>Error Rate</th></tr>\n",
       "</thead>\n",
       "<tbody>\n",
       "\t<tr><th scope=row>Linear Regression</th><td>1.780327e+26</td></tr>\n",
       "\t<tr><th scope=row>k-NN with k = 1</th><td>1.370000e-01</td></tr>\n",
       "\t<tr><th scope=row>k-NN with k = 3</th><td>1.800000e-01</td></tr>\n",
       "\t<tr><th scope=row>k-NN with k = 5</th><td>2.027500e-01</td></tr>\n",
       "\t<tr><th scope=row>k-NN with k = 7</th><td>2.140000e-01</td></tr>\n",
       "\t<tr><th scope=row>k-NN with k = 9</th><td>2.295000e-01</td></tr>\n",
       "\t<tr><th scope=row>k-NN with k = 11</th><td>2.515000e-01</td></tr>\n",
       "\t<tr><th scope=row>k-NN with k = 13</th><td>2.595000e-01</td></tr>\n",
       "\t<tr><th scope=row>k-NN with k = 15</th><td>2.740000e-01</td></tr>\n",
       "</tbody>\n",
       "</table>\n"
      ],
      "text/latex": [
       "A matrix: 9 × 1 of type dbl\n",
       "\\begin{tabular}{r|l}\n",
       "  & Error Rate\\\\\n",
       "\\hline\n",
       "\tLinear Regression & 1.780327e+26\\\\\n",
       "\tk-NN with k = 1 & 1.370000e-01\\\\\n",
       "\tk-NN with k = 3 & 1.800000e-01\\\\\n",
       "\tk-NN with k = 5 & 2.027500e-01\\\\\n",
       "\tk-NN with k = 7 & 2.140000e-01\\\\\n",
       "\tk-NN with k = 9 & 2.295000e-01\\\\\n",
       "\tk-NN with k = 11 & 2.515000e-01\\\\\n",
       "\tk-NN with k = 13 & 2.595000e-01\\\\\n",
       "\tk-NN with k = 15 & 2.740000e-01\\\\\n",
       "\\end{tabular}\n"
      ],
      "text/markdown": [
       "\n",
       "A matrix: 9 × 1 of type dbl\n",
       "\n",
       "| <!--/--> | Error Rate |\n",
       "|---|---|\n",
       "| Linear Regression | 1.780327e+26 |\n",
       "| k-NN with k = 1 | 1.370000e-01 |\n",
       "| k-NN with k = 3 | 1.800000e-01 |\n",
       "| k-NN with k = 5 | 2.027500e-01 |\n",
       "| k-NN with k = 7 | 2.140000e-01 |\n",
       "| k-NN with k = 9 | 2.295000e-01 |\n",
       "| k-NN with k = 11 | 2.515000e-01 |\n",
       "| k-NN with k = 13 | 2.595000e-01 |\n",
       "| k-NN with k = 15 | 2.740000e-01 |\n",
       "\n"
      ],
      "text/plain": [
       "                  Error Rate  \n",
       "Linear Regression 1.780327e+26\n",
       "k-NN with k = 1   1.370000e-01\n",
       "k-NN with k = 3   1.800000e-01\n",
       "k-NN with k = 5   2.027500e-01\n",
       "k-NN with k = 7   2.140000e-01\n",
       "k-NN with k = 9   2.295000e-01\n",
       "k-NN with k = 11  2.515000e-01\n",
       "k-NN with k = 13  2.595000e-01\n",
       "k-NN with k = 15  2.740000e-01"
      ]
     },
     "metadata": {},
     "output_type": "display_data"
    }
   ],
   "source": [
    "error <- matrix(c(lr_error, k_error), ncol = 1)\n",
    "colnames(error) <- c(\"Error Rate\")\n",
    "rownames(error) <- c(\"Linear Regression\", paste(\"k-NN with k =\", k))\n",
    "error"
   ]
  },
  {
   "cell_type": "markdown",
   "id": "74a7f608",
   "metadata": {},
   "source": [
    "The error rate of Linear regression is varying by a lot with knn regression. The knn outperforms Linear regression very well. This signifies that the knn regression is a very good and better method for classification when compared with Linear regression.The training error results are reduced by the fact that there is one direct hit. The amount of error goes up as the number of neighbors is increased."
   ]
  },
  {
   "cell_type": "code",
   "execution_count": null,
   "id": "395d6b9c",
   "metadata": {},
   "outputs": [],
   "source": []
  }
 ],
 "metadata": {
  "kernelspec": {
   "display_name": "R",
   "language": "R",
   "name": "ir"
  },
  "language_info": {
   "codemirror_mode": "r",
   "file_extension": ".r",
   "mimetype": "text/x-r-source",
   "name": "R",
   "pygments_lexer": "r",
   "version": "4.2.1"
  }
 },
 "nbformat": 4,
 "nbformat_minor": 5
}
